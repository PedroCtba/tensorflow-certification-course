{
  "nbformat": 4,
  "nbformat_minor": 0,
  "metadata": {
    "colab": {
      "name": "00_TensorFlow.ipynb",
      "provenance": [],
      "collapsed_sections": []
    },
    "kernelspec": {
      "name": "python3",
      "display_name": "Python 3"
    },
    "language_info": {
      "name": "python"
    }
  },
  "cells": [
    {
      "cell_type": "markdown",
      "source": [
        "# Here, we will see the basics about tensor flow\n",
        "\n",
        "We are goin to cover:\n",
        "* Introdutions to tensors\n",
        "* Getting information from tensors\n",
        "* Manipulating tensors\n",
        "* Tensors & Numpy\n",
        "* Using @tf.function decorator to speed regular python functions\n",
        "* Using GPU\"s with tensorflow (TPU\"s too)\n",
        "* Exercices!"
      ],
      "metadata": {
        "id": "PAV1gobj4Rdv"
      }
    },
    {
      "cell_type": "markdown",
      "source": [
        "## Introduction to tensors"
      ],
      "metadata": {
        "id": "XmkGQ3HZ4OVA"
      }
    },
    {
      "cell_type": "code",
      "source": [
        "# Import tensorflow\n",
        "import tensorflow as tf\n",
        "print(tf.__version__)"
      ],
      "metadata": {
        "colab": {
          "base_uri": "https://localhost:8080/"
        },
        "id": "Tl-SwwFJ5G1Q",
        "outputId": "cea4fa37-c232-4f0f-e720-e21dbd670fc3"
      },
      "execution_count": null,
      "outputs": [
        {
          "output_type": "stream",
          "name": "stdout",
          "text": [
            "2.8.2\n"
          ]
        }
      ]
    },
    {
      "cell_type": "code",
      "source": [
        "# Create tensors with tf.constant() | This is not very comom, its like making a numpy array, usualy the data comes from somewhere\n",
        "scalar = tf.constant(10)\n",
        "\n",
        "# Check dimensions od the tensor\n",
        "scalar.ndim"
      ],
      "metadata": {
        "colab": {
          "base_uri": "https://localhost:8080/"
        },
        "id": "R_9lk2a25Uf_",
        "outputId": "2ebd697e-9681-4859-ed00-25bff89a6497"
      },
      "execution_count": null,
      "outputs": [
        {
          "output_type": "execute_result",
          "data": {
            "text/plain": [
              "0"
            ]
          },
          "metadata": {},
          "execution_count": 26
        }
      ]
    },
    {
      "cell_type": "code",
      "source": [
        "# Create a vector\n",
        "v = tf.constant([10, 10])\n",
        "\n",
        "# Check the dimension\n",
        "v.ndim"
      ],
      "metadata": {
        "colab": {
          "base_uri": "https://localhost:8080/"
        },
        "id": "yKqnwimO6Jvv",
        "outputId": "f260c8c8-cd3f-4376-f7c4-caafd570a098"
      },
      "execution_count": null,
      "outputs": [
        {
          "output_type": "execute_result",
          "data": {
            "text/plain": [
              "1"
            ]
          },
          "metadata": {},
          "execution_count": 28
        }
      ]
    },
    {
      "cell_type": "code",
      "source": [
        "# Create a matrix\n",
        "matrix = tf.constant([[10, 32],\n",
        "                     [32, 10]])\n",
        "\n",
        "matrix.ndim"
      ],
      "metadata": {
        "colab": {
          "base_uri": "https://localhost:8080/"
        },
        "id": "5rMtV3ro6kfm",
        "outputId": "17d9382d-1340-491f-fbea-16c5cf55ceb7"
      },
      "execution_count": null,
      "outputs": [
        {
          "output_type": "execute_result",
          "data": {
            "text/plain": [
              "2"
            ]
          },
          "metadata": {},
          "execution_count": 36
        }
      ]
    },
    {
      "cell_type": "code",
      "source": [
        "# Create a matrix specyfing the type\n",
        "s_matrix = tf.constant([[32.1, 40.1],\n",
        "                       [22.6, 3.1],\n",
        "                       [56.2, 2.1]], dtype=tf.float16)\n",
        "\n",
        "s_matrix.ndim"
      ],
      "metadata": {
        "colab": {
          "base_uri": "https://localhost:8080/"
        },
        "id": "K7WKVqeO9eV0",
        "outputId": "25b76b83-710a-48d9-c137-a16b0591d7f7"
      },
      "execution_count": null,
      "outputs": [
        {
          "output_type": "execute_result",
          "data": {
            "text/plain": [
              "2"
            ]
          },
          "metadata": {},
          "execution_count": 39
        }
      ]
    },
    {
      "cell_type": "code",
      "source": [
        "# Lets make a tensor now!\n",
        "tensor = tf.constant([\n",
        "    [\n",
        "      [1, 2, 3],\n",
        "      [4, 5, 6],\n",
        "      [7, 8, 9]\n",
        "     ],\n",
        "    [\n",
        "      [10, 11, 12],\n",
        "      [13, 14, 15],\n",
        "      [16, 17, 18]\n",
        "     ],\n",
        "    [\n",
        "      [19, 20, 21],\n",
        "      [22, 23, 24],\n",
        "      [25, 26, 27]\n",
        "     ],\n",
        "])\n",
        "\n",
        "tensor"
      ],
      "metadata": {
        "colab": {
          "base_uri": "https://localhost:8080/"
        },
        "id": "PJADWT49-YFO",
        "outputId": "597da7cc-3571-42a9-957f-2033172bbaf2"
      },
      "execution_count": null,
      "outputs": [
        {
          "output_type": "execute_result",
          "data": {
            "text/plain": [
              "<tf.Tensor: shape=(3, 3, 3), dtype=int32, numpy=\n",
              "array([[[ 1,  2,  3],\n",
              "        [ 4,  5,  6],\n",
              "        [ 7,  8,  9]],\n",
              "\n",
              "       [[10, 11, 12],\n",
              "        [13, 14, 15],\n",
              "        [16, 17, 18]],\n",
              "\n",
              "       [[19, 20, 21],\n",
              "        [22, 23, 24],\n",
              "        [25, 26, 27]]], dtype=int32)>"
            ]
          },
          "metadata": {},
          "execution_count": 42
        }
      ]
    },
    {
      "cell_type": "markdown",
      "source": [
        "## Definitions\n",
        "\n",
        "* Scalar: A number\n",
        "* Vector: a scalar with direction\n",
        "* Matrix: A 2-dim (x, and y) array of numbers\n",
        "* Tensor: an n-dim array of numbers"
      ],
      "metadata": {
        "id": "q3HDltDw_xQq"
      }
    },
    {
      "cell_type": "code",
      "source": [
        ""
      ],
      "metadata": {
        "id": "VH83ygF4_0U1"
      },
      "execution_count": null,
      "outputs": []
    }
  ]
}