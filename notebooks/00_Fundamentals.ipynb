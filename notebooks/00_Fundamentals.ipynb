{
  "cells": [
    {
      "cell_type": "markdown",
      "metadata": {
        "id": "PAV1gobj4Rdv"
      },
      "source": [
        "# Here, we will see the basics about tensor flow\n",
        "\n",
        "We are goin to cover:\n",
        "* Introdutions to tensors\n",
        "* Getting information from tensors\n",
        "* Manipulating tensors\n",
        "* Tensors & Numpy\n",
        "* Using @tf.function decorator to speed regular python functions\n",
        "* Using GPU\"s with tensorflow (TPU\"s too)\n",
        "* Exercices!"
      ]
    },
    {
      "cell_type": "markdown",
      "metadata": {
        "id": "XmkGQ3HZ4OVA"
      },
      "source": [
        "# Tensors"
      ]
    },
    {
      "cell_type": "code",
      "execution_count": 1,
      "metadata": {
        "colab": {
          "base_uri": "https://localhost:8080/"
        },
        "id": "Tl-SwwFJ5G1Q",
        "outputId": "cea4fa37-c232-4f0f-e720-e21dbd670fc3"
      },
      "outputs": [
        {
          "name": "stdout",
          "output_type": "stream",
          "text": [
            "2.9.1\n"
          ]
        }
      ],
      "source": [
        "# Import tensorflow\n",
        "import tensorflow as tf\n",
        "print(tf.__version__)"
      ]
    },
    {
      "cell_type": "code",
      "execution_count": null,
      "metadata": {
        "colab": {
          "base_uri": "https://localhost:8080/"
        },
        "id": "R_9lk2a25Uf_",
        "outputId": "2ebd697e-9681-4859-ed00-25bff89a6497"
      },
      "outputs": [
        {
          "data": {
            "text/plain": [
              "0"
            ]
          },
          "execution_count": 26,
          "metadata": {},
          "output_type": "execute_result"
        }
      ],
      "source": [
        "# Create tensors with tf.constant() | This is not very comom, its like making a numpy array, usualy the data comes from somewhere\n",
        "scalar = tf.constant(10)\n",
        "\n",
        "# Check dimensions od the tensor\n",
        "scalar.ndim"
      ]
    },
    {
      "cell_type": "code",
      "execution_count": null,
      "metadata": {
        "colab": {
          "base_uri": "https://localhost:8080/"
        },
        "id": "yKqnwimO6Jvv",
        "outputId": "f260c8c8-cd3f-4376-f7c4-caafd570a098"
      },
      "outputs": [
        {
          "data": {
            "text/plain": [
              "1"
            ]
          },
          "execution_count": 28,
          "metadata": {},
          "output_type": "execute_result"
        }
      ],
      "source": [
        "# Create a vector\n",
        "v = tf.constant([10, 10])\n",
        "\n",
        "# Check the dimension\n",
        "v.ndim"
      ]
    },
    {
      "cell_type": "code",
      "execution_count": null,
      "metadata": {
        "colab": {
          "base_uri": "https://localhost:8080/"
        },
        "id": "5rMtV3ro6kfm",
        "outputId": "17d9382d-1340-491f-fbea-16c5cf55ceb7"
      },
      "outputs": [
        {
          "data": {
            "text/plain": [
              "2"
            ]
          },
          "execution_count": 36,
          "metadata": {},
          "output_type": "execute_result"
        }
      ],
      "source": [
        "# Create a matrix\n",
        "matrix = tf.constant([[10, 32],\n",
        "                     [32, 10]])\n",
        "\n",
        "matrix.ndim"
      ]
    },
    {
      "cell_type": "code",
      "execution_count": null,
      "metadata": {
        "colab": {
          "base_uri": "https://localhost:8080/"
        },
        "id": "K7WKVqeO9eV0",
        "outputId": "25b76b83-710a-48d9-c137-a16b0591d7f7"
      },
      "outputs": [
        {
          "data": {
            "text/plain": [
              "2"
            ]
          },
          "execution_count": 39,
          "metadata": {},
          "output_type": "execute_result"
        }
      ],
      "source": [
        "# Create a matrix specyfing the type\n",
        "s_matrix = tf.constant([[32.1, 40.1],\n",
        "                       [22.6, 3.1],\n",
        "                       [56.2, 2.1]], dtype=tf.float16)\n",
        "\n",
        "s_matrix.ndim"
      ]
    },
    {
      "cell_type": "code",
      "execution_count": null,
      "metadata": {
        "colab": {
          "base_uri": "https://localhost:8080/"
        },
        "id": "PJADWT49-YFO",
        "outputId": "597da7cc-3571-42a9-957f-2033172bbaf2"
      },
      "outputs": [
        {
          "data": {
            "text/plain": [
              "<tf.Tensor: shape=(3, 3, 3), dtype=int32, numpy=\n",
              "array([[[ 1,  2,  3],\n",
              "        [ 4,  5,  6],\n",
              "        [ 7,  8,  9]],\n",
              "\n",
              "       [[10, 11, 12],\n",
              "        [13, 14, 15],\n",
              "        [16, 17, 18]],\n",
              "\n",
              "       [[19, 20, 21],\n",
              "        [22, 23, 24],\n",
              "        [25, 26, 27]]], dtype=int32)>"
            ]
          },
          "execution_count": 42,
          "metadata": {},
          "output_type": "execute_result"
        }
      ],
      "source": [
        "# Lets make a tensor now!\n",
        "tensor = tf.constant([\n",
        "    [\n",
        "      [1, 2, 3],\n",
        "      [4, 5, 6],\n",
        "      [7, 8, 9]\n",
        "     ],\n",
        "    [\n",
        "      [10, 11, 12],\n",
        "      [13, 14, 15],\n",
        "      [16, 17, 18]\n",
        "     ],\n",
        "    [\n",
        "      [19, 20, 21],\n",
        "      [22, 23, 24],\n",
        "      [25, 26, 27]\n",
        "     ],\n",
        "])\n",
        "\n",
        "tensor"
      ]
    },
    {
      "cell_type": "markdown",
      "metadata": {
        "id": "q3HDltDw_xQq"
      },
      "source": [
        "## Definitions\n",
        "\n",
        "* Scalar: A number\n",
        "* Vector: a scalar with direction\n",
        "* Matrix: A 2-dim (x, and y) array of numbers\n",
        "* Tensor: an n-dim array of numbers"
      ]
    },
    {
      "cell_type": "markdown",
      "metadata": {},
      "source": [
        "## Making tensors with tf variable"
      ]
    },
    {
      "cell_type": "code",
      "execution_count": 2,
      "metadata": {},
      "outputs": [
        {
          "data": {
            "text/plain": [
              "(<tf.Variable 'Variable:0' shape=(2,) dtype=int32, numpy=array([10,  7])>,\n",
              " <tf.Tensor: shape=(2,), dtype=int32, numpy=array([10,  7])>)"
            ]
          },
          "execution_count": 2,
          "metadata": {},
          "output_type": "execute_result"
        }
      ],
      "source": [
        "# Create the same tensors as before with tf variable\n",
        "changeable_tensor = tf.Variable([10, 7])\n",
        "unchangeable_tensor = tf.constant([10, 7])\n",
        "\n",
        "changeable_tensor, unchangeable_tensor"
      ]
    },
    {
      "cell_type": "code",
      "execution_count": 3,
      "metadata": {},
      "outputs": [
        {
          "ename": "TypeError",
          "evalue": "'ResourceVariable' object does not support item assignment",
          "output_type": "error",
          "traceback": [
            "\u001b[1;31m---------------------------------------------------------------------------\u001b[0m",
            "\u001b[1;31mTypeError\u001b[0m                                 Traceback (most recent call last)",
            "\u001b[1;32mc:\\Users\\pedro\\Desktop\\Estudo\\tensorFlow\\tensorflow-deep-learning\\notebooks\\00_TensorFlow.ipynb Célula: 12\u001b[0m in \u001b[0;36m<cell line: 2>\u001b[1;34m()\u001b[0m\n\u001b[0;32m      <a href='vscode-notebook-cell:/c%3A/Users/pedro/Desktop/Estudo/tensorFlow/tensorflow-deep-learning/notebooks/00_TensorFlow.ipynb#X16sZmlsZQ%3D%3D?line=0'>1</a>\u001b[0m \u001b[39m# Let's try to change the changable tensor\u001b[39;00m\n\u001b[1;32m----> <a href='vscode-notebook-cell:/c%3A/Users/pedro/Desktop/Estudo/tensorFlow/tensorflow-deep-learning/notebooks/00_TensorFlow.ipynb#X16sZmlsZQ%3D%3D?line=1'>2</a>\u001b[0m changeable_tensor[\u001b[39m0\u001b[39m] \u001b[39m=\u001b[39m \u001b[39m7\u001b[39m\n",
            "\u001b[1;31mTypeError\u001b[0m: 'ResourceVariable' object does not support item assignment"
          ]
        }
      ],
      "source": [
        "# Let's try to change the changable tensor\n",
        "changeable_tensor[0] = 7 # -> TypeError: 'ResourceVariable' object does not support item assignment[]"
      ]
    },
    {
      "cell_type": "code",
      "execution_count": 7,
      "metadata": {},
      "outputs": [
        {
          "data": {
            "text/plain": [
              "<tf.Variable 'Variable:0' shape=(2,) dtype=int32, numpy=array([7, 7])>"
            ]
          },
          "execution_count": 7,
          "metadata": {},
          "output_type": "execute_result"
        }
      ],
      "source": [
        "changeable_tensor[0].assign(7)\n",
        "changeable_tensor"
      ]
    },
    {
      "cell_type": "code",
      "execution_count": 8,
      "metadata": {},
      "outputs": [
        {
          "ename": "AttributeError",
          "evalue": "'tensorflow.python.framework.ops.EagerTensor' object has no attribute 'assign'",
          "output_type": "error",
          "traceback": [
            "\u001b[1;31m---------------------------------------------------------------------------\u001b[0m",
            "\u001b[1;31mAttributeError\u001b[0m                            Traceback (most recent call last)",
            "\u001b[1;32mc:\\Users\\pedro\\Desktop\\Estudo\\tensorFlow\\tensorflow-deep-learning\\notebooks\\00_TensorFlow.ipynb Célula: 14\u001b[0m in \u001b[0;36m<cell line: 2>\u001b[1;34m()\u001b[0m\n\u001b[0;32m      <a href='vscode-notebook-cell:/c%3A/Users/pedro/Desktop/Estudo/tensorFlow/tensorflow-deep-learning/notebooks/00_TensorFlow.ipynb#X21sZmlsZQ%3D%3D?line=0'>1</a>\u001b[0m \u001b[39m# Let's try to change the unchangeable tensor\u001b[39;00m\n\u001b[1;32m----> <a href='vscode-notebook-cell:/c%3A/Users/pedro/Desktop/Estudo/tensorFlow/tensorflow-deep-learning/notebooks/00_TensorFlow.ipynb#X21sZmlsZQ%3D%3D?line=1'>2</a>\u001b[0m unchangeable_tensor\u001b[39m.\u001b[39;49massign(\u001b[39m7\u001b[39m)\n",
            "File \u001b[1;32m~\\AppData\\Roaming\\Python\\Python39\\site-packages\\tensorflow\\python\\framework\\ops.py:446\u001b[0m, in \u001b[0;36mTensor.__getattr__\u001b[1;34m(self, name)\u001b[0m\n\u001b[0;32m    437\u001b[0m \u001b[39mif\u001b[39;00m name \u001b[39min\u001b[39;00m {\u001b[39m\"\u001b[39m\u001b[39mT\u001b[39m\u001b[39m\"\u001b[39m, \u001b[39m\"\u001b[39m\u001b[39mastype\u001b[39m\u001b[39m\"\u001b[39m, \u001b[39m\"\u001b[39m\u001b[39mravel\u001b[39m\u001b[39m\"\u001b[39m, \u001b[39m\"\u001b[39m\u001b[39mtranspose\u001b[39m\u001b[39m\"\u001b[39m, \u001b[39m\"\u001b[39m\u001b[39mreshape\u001b[39m\u001b[39m\"\u001b[39m, \u001b[39m\"\u001b[39m\u001b[39mclip\u001b[39m\u001b[39m\"\u001b[39m, \u001b[39m\"\u001b[39m\u001b[39msize\u001b[39m\u001b[39m\"\u001b[39m,\n\u001b[0;32m    438\u001b[0m             \u001b[39m\"\u001b[39m\u001b[39mtolist\u001b[39m\u001b[39m\"\u001b[39m, \u001b[39m\"\u001b[39m\u001b[39mdata\u001b[39m\u001b[39m\"\u001b[39m}:\n\u001b[0;32m    439\u001b[0m   \u001b[39m# TODO(wangpeng): Export the enable_numpy_behavior knob\u001b[39;00m\n\u001b[0;32m    440\u001b[0m   \u001b[39mraise\u001b[39;00m \u001b[39mAttributeError\u001b[39;00m(\n\u001b[0;32m    441\u001b[0m       \u001b[39mf\u001b[39m\u001b[39m\"\u001b[39m\u001b[39m{\u001b[39;00m\u001b[39mtype\u001b[39m(\u001b[39mself\u001b[39m)\u001b[39m.\u001b[39m\u001b[39m__name__\u001b[39m\u001b[39m}\u001b[39;00m\u001b[39m object has no attribute \u001b[39m\u001b[39m'\u001b[39m\u001b[39m{\u001b[39;00mname\u001b[39m}\u001b[39;00m\u001b[39m'\u001b[39m\u001b[39m. \u001b[39m\u001b[39m\"\u001b[39m \u001b[39m+\u001b[39m \u001b[39m\"\"\"\u001b[39m\n\u001b[0;32m    442\u001b[0m \u001b[39m    If you are looking for numpy-related methods, please run the following:\u001b[39m\n\u001b[0;32m    443\u001b[0m \u001b[39m    from tensorflow.python.ops.numpy_ops import np_config\u001b[39m\n\u001b[0;32m    444\u001b[0m \u001b[39m    np_config.enable_numpy_behavior()\u001b[39m\n\u001b[0;32m    445\u001b[0m \u001b[39m  \u001b[39m\u001b[39m\"\"\"\u001b[39m)\n\u001b[1;32m--> 446\u001b[0m \u001b[39mself\u001b[39;49m\u001b[39m.\u001b[39;49m\u001b[39m__getattribute__\u001b[39;49m(name)\n",
            "\u001b[1;31mAttributeError\u001b[0m: 'tensorflow.python.framework.ops.EagerTensor' object has no attribute 'assign'"
          ]
        }
      ],
      "source": [
        "# Let's try to change the unchangeable tensor\n",
        "unchangeable_tensor.assign(7) # -> AttributeError: 'tensorflow.python.framework.ops.EagerTensor' object has no attribute 'assign'"
      ]
    },
    {
      "cell_type": "markdown",
      "metadata": {},
      "source": [
        "**Its possible to notice that there are two different types of tensors, the changeable ones, and the non-changeable ones. However, most of the times, tensor flow will decide wich tensor needs to be changed, and wich don't need to be changed. But google made these for a reason, even though its very rare that we code them yourself. Let\"s see more about the uses if this tensor ahed!**"
      ]
    },
    {
      "cell_type": "markdown",
      "metadata": {},
      "source": [
        "## Creating random tensors\n",
        "\n",
        "**Random tensor are tensors with a random size, filled with random numbers**\n",
        "\n",
        "These tensors are important because in the begging of a neural network, the initial weights are set randomly"
      ]
    },
    {
      "cell_type": "code",
      "execution_count": 10,
      "metadata": {},
      "outputs": [
        {
          "data": {
            "text/plain": [
              "<tf.Tensor: shape=(3, 2), dtype=bool, numpy=\n",
              "array([[ True,  True],\n",
              "       [ True,  True],\n",
              "       [ True,  True]])>"
            ]
          },
          "execution_count": 10,
          "metadata": {},
          "output_type": "execute_result"
        }
      ],
      "source": [
        "# Create two random tensor\n",
        "rd_1 = tf.random.Generator.from_seed(42)\n",
        "rd_1 = rd_1.normal(shape=(3, 2))\n",
        "\n",
        "rd_2 =  tf.random.Generator.from_seed(42)\n",
        "rd_2 = rd_2.normal(shape=(3, 2))\n",
        "\n",
        "rd_1 == rd_2 # They are the same!"
      ]
    },
    {
      "cell_type": "code",
      "execution_count": 12,
      "metadata": {},
      "outputs": [
        {
          "data": {
            "text/plain": [
              "<tf.Tensor: shape=(3, 2), dtype=int32, numpy=\n",
              "array([[32, 22],\n",
              "       [32, 20],\n",
              "       [23, 21]])>"
            ]
          },
          "execution_count": 12,
          "metadata": {},
          "output_type": "execute_result"
        }
      ],
      "source": [
        "# Lets shuffle the order of the elements in the tensor \n",
        "# (In the real world, this is important because you can have lots of problems by \n",
        "# feeding all of the supervised labels of type 1, and just after feeding the labels from type 2)\n",
        "not_shuffled = tf.constant([\n",
        "                            [32, 20],\n",
        "                            [23, 21],\n",
        "                            [32, 22]\n",
        "                            ])\n",
        "\n",
        "tf.random.shuffle(not_shuffled)"
      ]
    },
    {
      "cell_type": "markdown",
      "metadata": {},
      "source": [
        "#### \n",
        "🛠 Exercise: Read through TensorFlow documentation on random seed generation: https://www.tensorflow.org/api_docs/python/tf/random/set_seed and practice writing 5 random tensors and shuffle them."
      ]
    },
    {
      "cell_type": "code",
      "execution_count": 18,
      "metadata": {},
      "outputs": [
        {
          "data": {
            "text/plain": [
              "<tf.Tensor: shape=(10, 10), dtype=float32, numpy=\n",
              "array([[0.54520595, 0.13372338, 0.45232666, 0.15582252, 0.9621073 ,\n",
              "        0.8151462 , 0.4068215 , 0.9565903 , 0.5532354 , 0.44936454],\n",
              "       [0.01469815, 0.86204493, 0.12014258, 0.91072273, 0.00848019,\n",
              "        0.62772846, 0.8167286 , 0.98235905, 0.06410611, 0.17873585],\n",
              "       [0.07358396, 0.95524645, 0.5906956 , 0.3774085 , 0.9427308 ,\n",
              "        0.32449841, 0.05033565, 0.6481848 , 0.97997856, 0.7848562 ],\n",
              "       [0.8223983 , 0.25406194, 0.21289039, 0.18566561, 0.18804717,\n",
              "        0.5875702 , 0.45183384, 0.5508704 , 0.18366766, 0.55480397],\n",
              "       [0.72248566, 0.66862214, 0.46865964, 0.50943816, 0.61882794,\n",
              "        0.5858562 , 0.7246859 , 0.88589907, 0.7049539 , 0.00409675],\n",
              "       [0.05000973, 0.3078189 , 0.58099496, 0.33607638, 0.16616762,\n",
              "        0.9144434 , 0.5601578 , 0.4133414 , 0.9173528 , 0.60286224],\n",
              "       [0.42348242, 0.34907532, 0.95223796, 0.7435889 , 0.45416832,\n",
              "        0.10714757, 0.7326716 , 0.8436016 , 0.9553844 , 0.3288406 ],\n",
              "       [0.45538974, 0.06092966, 0.07176733, 0.14106321, 0.8220959 ,\n",
              "        0.56039464, 0.9448794 , 0.86390257, 0.39739323, 0.21907079],\n",
              "       [0.26483774, 0.07177126, 0.03705478, 0.77675796, 0.13855386,\n",
              "        0.05136406, 0.86981964, 0.9439868 , 0.45077503, 0.06691945],\n",
              "       [0.81257355, 0.29785192, 0.64552224, 0.22933125, 0.17845106,\n",
              "        0.47666717, 0.34618497, 0.97418547, 0.07587826, 0.31987762]],\n",
              "      dtype=float32)>"
            ]
          },
          "execution_count": 18,
          "metadata": {},
          "output_type": "execute_result"
        }
      ],
      "source": [
        "# Random tensor 1\n",
        "\n",
        "# Set global seed as 32\n",
        "tf.random.set_seed(seed=32)\n",
        "t1 = tf.random.uniform(shape=(10, 10))\n",
        "\n",
        "# Here, in the same tensorflow version this tensor will repeat"
      ]
    },
    {
      "cell_type": "code",
      "execution_count": 19,
      "metadata": {},
      "outputs": [
        {
          "data": {
            "text/plain": [
              "<tf.Tensor: shape=(10, 10), dtype=float32, numpy=\n",
              "array([[0.23868918, 0.2067703 , 0.54500055, 0.31111002, 0.39171076,\n",
              "        0.31923223, 0.50584626, 0.18373597, 0.02248299, 0.04483771],\n",
              "       [0.4144143 , 0.46722162, 0.51399994, 0.6130847 , 0.4647225 ,\n",
              "        0.20000064, 0.76914823, 0.5839858 , 0.6873536 , 0.96707463],\n",
              "       [0.48565722, 0.33153367, 0.47886515, 0.51659393, 0.05068457,\n",
              "        0.60032547, 0.76667035, 0.70914185, 0.4547509 , 0.5271183 ],\n",
              "       [0.04278278, 0.5251571 , 0.28889108, 0.6853919 , 0.39171982,\n",
              "        0.8279501 , 0.16174483, 0.20636058, 0.3405305 , 0.11406171],\n",
              "       [0.9386884 , 0.3217671 , 0.44583917, 0.23063862, 0.96298456,\n",
              "        0.681301  , 0.09359741, 0.1416074 , 0.28955173, 0.6308347 ],\n",
              "       [0.5590632 , 0.34686947, 0.5065472 , 0.7588887 , 0.81733704,\n",
              "        0.13969612, 0.05073202, 0.2257644 , 0.41455007, 0.68057895],\n",
              "       [0.99526405, 0.7197219 , 0.16188931, 0.0727433 , 0.90843403,\n",
              "        0.7584722 , 0.73505676, 0.50471675, 0.3666612 , 0.06097269],\n",
              "       [0.18010628, 0.40079784, 0.80535066, 0.75113225, 0.506963  ,\n",
              "        0.25461924, 0.64625204, 0.54318166, 0.7619692 , 0.04241478],\n",
              "       [0.598196  , 0.28897524, 0.9882058 , 0.50031316, 0.16970062,\n",
              "        0.96631956, 0.9875549 , 0.32345414, 0.35881758, 0.7621763 ],\n",
              "       [0.70606565, 0.9234637 , 0.53245425, 0.7783321 , 0.41684878,\n",
              "        0.33075   , 0.85131156, 0.93382573, 0.9481013 , 0.22605431]],\n",
              "      dtype=float32)>"
            ]
          },
          "execution_count": 19,
          "metadata": {},
          "output_type": "execute_result"
        }
      ],
      "source": [
        "# Random tensor 2\n",
        "\n",
        "# Set global seed as 32\n",
        "tf.random.set_seed(seed=32)\n",
        "t1 = tf.random.uniform(shape=(10, 10), seed=1)\n",
        "\n",
        "# Here, this tensor will repeat across al tf versions and reruns of the program\n",
        "t1"
      ]
    },
    {
      "cell_type": "code",
      "execution_count": 21,
      "metadata": {},
      "outputs": [
        {
          "data": {
            "text/plain": [
              "<tf.Tensor: shape=(10, 10), dtype=float32, numpy=\n",
              "array([[0.20274532, 0.0362395 , 0.45186257, 0.72931254, 0.59773815,\n",
              "        0.6252638 , 0.58525324, 0.68096423, 0.32602644, 0.01932275],\n",
              "       [0.22446549, 0.37494373, 0.73189723, 0.88004696, 0.7486503 ,\n",
              "        0.37286603, 0.79102564, 0.23662508, 0.46818578, 0.21304202],\n",
              "       [0.14157367, 0.09235609, 0.9034941 , 0.77694905, 0.57940197,\n",
              "        0.60302424, 0.8027278 , 0.92220044, 0.90689754, 0.38798702],\n",
              "       [0.37056744, 0.27422643, 0.6186545 , 0.9105128 , 0.42198884,\n",
              "        0.7742996 , 0.4347055 , 0.19009268, 0.90281   , 0.35568738],\n",
              "       [0.9403497 , 0.21564186, 0.94391954, 0.15408313, 0.04337871,\n",
              "        0.10940921, 0.4930966 , 0.34173262, 0.16191673, 0.10891414],\n",
              "       [0.6980876 , 0.37882996, 0.21452188, 0.38206518, 0.21853375,\n",
              "        0.8613732 , 0.12197328, 0.63633585, 0.9614316 , 0.73795223],\n",
              "       [0.7060425 , 0.21180153, 0.9056978 , 0.00346363, 0.8909935 ,\n",
              "        0.84277236, 0.65081537, 0.28079653, 0.02766383, 0.65978634],\n",
              "       [0.9484918 , 0.32260108, 0.66545534, 0.35041928, 0.47411084,\n",
              "        0.51459026, 0.5267762 , 0.03426492, 0.29305112, 0.9725667 ],\n",
              "       [0.32118464, 0.42856336, 0.275761  , 0.10787678, 0.67198694,\n",
              "        0.91711724, 0.78623974, 0.690289  , 0.24773884, 0.6560631 ],\n",
              "       [0.7984376 , 0.3600905 , 0.30209994, 0.01774573, 0.21066368,\n",
              "        0.4621706 , 0.00893342, 0.18781066, 0.57412434, 0.06426704]],\n",
              "      dtype=float32)>"
            ]
          },
          "execution_count": 21,
          "metadata": {},
          "output_type": "execute_result"
        }
      ],
      "source": [
        "# Random tensor 3\n",
        "\n",
        "t3 = tf.random.uniform(shape=(10, 10))\n",
        "\n",
        "# This tensor will probably never be the same\n",
        "t3"
      ]
    },
    {
      "cell_type": "code",
      "execution_count": 30,
      "metadata": {},
      "outputs": [
        {
          "data": {
            "text/plain": [
              "<tf.Tensor: shape=(10, 10), dtype=float32, numpy=\n",
              "array([[0.43435204, 0.7643721 , 0.22755837, 0.25575662, 0.3266493 ,\n",
              "        0.8570912 , 0.19885874, 0.11847687, 0.34247828, 0.04866219],\n",
              "       [0.1764673 , 0.05280983, 0.6165079 , 0.16672444, 0.6740991 ,\n",
              "        0.1210202 , 0.08165538, 0.4200238 , 0.7130655 , 0.13879728],\n",
              "       [0.00240612, 0.44413483, 0.39974153, 0.50941944, 0.61840856,\n",
              "        0.1297723 , 0.8713479 , 0.4490199 , 0.60107946, 0.67212164],\n",
              "       [0.38352287, 0.40614486, 0.6388161 , 0.35023355, 0.6454948 ,\n",
              "        0.3870709 , 0.31611717, 0.40493274, 0.9559287 , 0.8465743 ],\n",
              "       [0.53566396, 0.08273423, 0.94358265, 0.12073255, 0.11923432,\n",
              "        0.46973956, 0.6996037 , 0.1988877 , 0.48798954, 0.4532181 ],\n",
              "       [0.45707238, 0.03657556, 0.6698524 , 0.40946555, 0.18064988,\n",
              "        0.19896722, 0.44178808, 0.6653211 , 0.7065352 , 0.482082  ],\n",
              "       [0.93641555, 0.3991722 , 0.02356648, 0.95567405, 0.24465477,\n",
              "        0.24331975, 0.42625427, 0.73858976, 0.69852936, 0.93291926],\n",
              "       [0.87359905, 0.6385329 , 0.32457685, 0.7192632 , 0.13133526,\n",
              "        0.42397225, 0.70663965, 0.17771149, 0.10750067, 0.9882852 ],\n",
              "       [0.20752978, 0.50581086, 0.7499399 , 0.06384194, 0.26751256,\n",
              "        0.21705878, 0.54572415, 0.78064704, 0.5848936 , 0.6819823 ],\n",
              "       [0.00468957, 0.2597146 , 0.2936182 , 0.4466535 , 0.07448554,\n",
              "        0.39907992, 0.8894228 , 0.567418  , 0.28266323, 0.6820617 ]],\n",
              "      dtype=float32)>"
            ]
          },
          "execution_count": 30,
          "metadata": {},
          "output_type": "execute_result"
        }
      ],
      "source": [
        "# Random tensor 4\n",
        "\n",
        "# Set random operational seed\n",
        "t4 = tf.random.uniform(shape=(10, 10), seed=1)\n",
        "\n",
        "# This tensor will probably never be the same\n",
        "t4\n",
        "\n",
        "# This tensor will probably never be the same, because a random global seed is being picked on ever'y run"
      ]
    },
    {
      "cell_type": "markdown",
      "metadata": {},
      "source": [
        "**To resume: Shuffling and ussing seeds its important because the order on wich a nn is feeded is very important! And on most cases, if you want reproducibility in yours results, you need to set both global and local seeds (its possible to onyl set the global seed, but with the tensorflow version changes, the result will stop having reproducibility) | So, always set both global seed, and operational level seed!**"
      ]
    },
    {
      "cell_type": "markdown",
      "metadata": {},
      "source": [
        "## Other ways to make tensors"
      ]
    },
    {
      "cell_type": "code",
      "execution_count": 32,
      "metadata": {},
      "outputs": [
        {
          "data": {
            "text/plain": [
              "<tf.Tensor: shape=(4, 4), dtype=float32, numpy=\n",
              "array([[1., 1., 1., 1.],\n",
              "       [1., 1., 1., 1.],\n",
              "       [1., 1., 1., 1.],\n",
              "       [1., 1., 1., 1.]], dtype=float32)>"
            ]
          },
          "execution_count": 32,
          "metadata": {},
          "output_type": "execute_result"
        }
      ],
      "source": [
        "tf.ones([4, 4])"
      ]
    },
    {
      "cell_type": "code",
      "execution_count": 33,
      "metadata": {},
      "outputs": [
        {
          "data": {
            "text/plain": [
              "<tf.Tensor: shape=(4, 4), dtype=float32, numpy=\n",
              "array([[0., 0., 0., 0.],\n",
              "       [0., 0., 0., 0.],\n",
              "       [0., 0., 0., 0.],\n",
              "       [0., 0., 0., 0.]], dtype=float32)>"
            ]
          },
          "execution_count": 33,
          "metadata": {},
          "output_type": "execute_result"
        }
      ],
      "source": [
        "tf.zeros((4, 4))"
      ]
    },
    {
      "cell_type": "markdown",
      "metadata": {},
      "source": [
        "## Its possible to turn numpy arrays into tensors\n",
        "\n",
        "The difference between arrays and tensors is that tensors can be run on a GPU"
      ]
    },
    {
      "cell_type": "code",
      "execution_count": 2,
      "metadata": {},
      "outputs": [
        {
          "data": {
            "text/plain": [
              "<tf.Tensor: shape=(2, 3, 4), dtype=int32, numpy=\n",
              "array([[[ 1,  2,  3,  4],\n",
              "        [ 5,  6,  7,  8],\n",
              "        [ 9, 10, 11, 12]],\n",
              "\n",
              "       [[13, 14, 15, 16],\n",
              "        [17, 18, 19, 20],\n",
              "        [21, 22, 23, 24]]])>"
            ]
          },
          "execution_count": 2,
          "metadata": {},
          "output_type": "execute_result"
        }
      ],
      "source": [
        "# Import numpy\n",
        "import numpy as np\n",
        "\n",
        "# Make numpy array\n",
        "np_a = np.arange(1, 25, dtype=np.int32)\n",
        "\n",
        "# Make a tensor with it\n",
        "X = tf.constant(np_a, shape=(2, 3, 4)) # This divides the vector at n_a into a matrice with these dimensions, if the dimensions are less than np_a length, this will raise an exception\n",
        "X"
      ]
    },
    {
      "cell_type": "markdown",
      "metadata": {},
      "source": [
        "## Getting information from tensors:\n",
        "\n",
        "* Shape (500 lines x 12 columns)\n",
        "* Rank (The number of dimensions, 1 -> vector 2 -> matrix, n -> tensor)\n",
        "* axis | dimension (You can acess all elements of a specific dimension, tensor[:, 0])\n",
        "* size (The total number of items in the tensor)"
      ]
    },
    {
      "cell_type": "code",
      "execution_count": 80,
      "metadata": {},
      "outputs": [
        {
          "data": {
            "text/plain": [
              "TensorShape([2, 5, 5])"
            ]
          },
          "execution_count": 80,
          "metadata": {},
          "output_type": "execute_result"
        }
      ],
      "source": [
        "# Create a rank for tensor\n",
        "tensor = tf.zeros(shape=(2, 5, 5))\n",
        "\n",
        "tensor.shape"
      ]
    },
    {
      "cell_type": "code",
      "execution_count": 76,
      "metadata": {},
      "outputs": [
        {
          "data": {
            "text/plain": [
              "<tf.Tensor: shape=(5, 5), dtype=float32, numpy=\n",
              "array([[0., 0., 0., 0., 0.],\n",
              "       [0., 0., 0., 0., 0.],\n",
              "       [0., 0., 0., 0., 0.],\n",
              "       [0., 0., 0., 0., 0.],\n",
              "       [0., 0., 0., 0., 0.]], dtype=float32)>"
            ]
          },
          "execution_count": 76,
          "metadata": {},
          "output_type": "execute_result"
        }
      ],
      "source": [
        "tensor[0] # First 5x5 tensor \n",
        "tensor[1] # Second 5x5 tensor "
      ]
    },
    {
      "cell_type": "code",
      "execution_count": 77,
      "metadata": {},
      "outputs": [
        {
          "data": {
            "text/plain": [
              "3"
            ]
          },
          "execution_count": 77,
          "metadata": {},
          "output_type": "execute_result"
        }
      ],
      "source": [
        "tensor.ndim # Dimension (quantity of tensor), Dimension (quantity of lines), Dimension (quantity of columns)"
      ]
    },
    {
      "cell_type": "code",
      "execution_count": 84,
      "metadata": {},
      "outputs": [
        {
          "data": {
            "text/plain": [
              "<tf.Tensor: shape=(), dtype=int32, numpy=50>"
            ]
          },
          "execution_count": 84,
          "metadata": {},
          "output_type": "execute_result"
        }
      ],
      "source": [
        "tf.size(tensor)"
      ]
    },
    {
      "cell_type": "code",
      "execution_count": 86,
      "metadata": {},
      "outputs": [
        {
          "name": "stdout",
          "output_type": "stream",
          "text": [
            "Data type of tensor: <dtype: 'float32'>\n",
            "Number of dimensions: 3\n",
            "Shape of tensor: (2, 5, 5)\n",
            "Elements along the 0 axis: 2\n",
            "Elements along the last axis: 5\n",
            "Total of items in tensor: 50\n"
          ]
        }
      ],
      "source": [
        "print(\"Data type of tensor:\", tensor.dtype)\n",
        "print(\"Number of dimensions:\", tensor.ndim)\n",
        "print(\"Shape of tensor:\", tensor.shape)\n",
        "print(\"Elements along the 0 axis:\", tensor.shape[0])\n",
        "print(\"Elements along the last axis:\", tensor.shape[-1])\n",
        "print(\"Total of items in tensor:\", tf.size(tensor).numpy())"
      ]
    },
    {
      "cell_type": "markdown",
      "metadata": {},
      "source": [
        "## Indexing tensor"
      ]
    },
    {
      "cell_type": "code",
      "execution_count": 90,
      "metadata": {},
      "outputs": [
        {
          "data": {
            "text/plain": [
              "<tf.Tensor: shape=(2, 2, 2), dtype=float32, numpy=\n",
              "array([[[0., 0.],\n",
              "        [0., 0.]],\n",
              "\n",
              "       [[0., 0.],\n",
              "        [0., 0.]]], dtype=float32)>"
            ]
          },
          "execution_count": 90,
          "metadata": {},
          "output_type": "execute_result"
        }
      ],
      "source": [
        "# Get the first two elements of every tensor\n",
        "tensor[:2, :2, :2]"
      ]
    },
    {
      "cell_type": "code",
      "execution_count": 107,
      "metadata": {},
      "outputs": [
        {
          "data": {
            "text/plain": [
              "<tf.Tensor: shape=(1, 1, 5), dtype=float32, numpy=array([[[0., 0., 0., 0., 0.]]], dtype=float32)>"
            ]
          },
          "execution_count": 107,
          "metadata": {},
          "output_type": "execute_result"
        }
      ],
      "source": [
        "# Get the first element from each dimension from each index, execept for the final one\n",
        "tensor[:1, :1, :]"
      ]
    },
    {
      "cell_type": "code",
      "execution_count": 114,
      "metadata": {},
      "outputs": [
        {
          "data": {
            "text/plain": [
              "<tf.Tensor: shape=(2, 2), dtype=int32, numpy=\n",
              "array([[1, 2],\n",
              "       [3, 4]])>"
            ]
          },
          "execution_count": 114,
          "metadata": {},
          "output_type": "execute_result"
        }
      ],
      "source": [
        "# Create a rank 2 tensor\n",
        "t2 = tf.constant(value=[[1, 2], [3, 4]])\n",
        "t2"
      ]
    },
    {
      "cell_type": "code",
      "execution_count": 123,
      "metadata": {},
      "outputs": [
        {
          "data": {
            "text/plain": [
              "<tf.Tensor: shape=(2,), dtype=int32, numpy=array([2, 4])>"
            ]
          },
          "execution_count": 123,
          "metadata": {},
          "output_type": "execute_result"
        }
      ],
      "source": [
        "t2[:, -1]"
      ]
    },
    {
      "cell_type": "markdown",
      "metadata": {},
      "source": [
        "## Manipulating tensors\n",
        "\n",
        "**Basic Operations:**\n",
        "+, -, *, /"
      ]
    },
    {
      "cell_type": "code",
      "execution_count": 126,
      "metadata": {},
      "outputs": [
        {
          "data": {
            "text/plain": [
              "<tf.Tensor: shape=(2, 2), dtype=int32, numpy=\n",
              "array([[20, 42],\n",
              "       [33, 22]])>"
            ]
          },
          "execution_count": 126,
          "metadata": {},
          "output_type": "execute_result"
        }
      ],
      "source": [
        "# Make a tensor\n",
        "t = tf.constant([[10, 32], [23, 12]])\n",
        "\n",
        "# You can add values to a tensor using the addition operator\n",
        "t + 10"
      ]
    },
    {
      "cell_type": "code",
      "execution_count": null,
      "metadata": {},
      "outputs": [],
      "source": [
        "# Make a tensor\n",
        "t = tf.constant([[10, 32], [23, 12]])\n",
        "\n",
        "# You can add values to a tensor using the addition operator\n",
        "t + 10"
      ]
    },
    {
      "cell_type": "code",
      "execution_count": 127,
      "metadata": {},
      "outputs": [
        {
          "data": {
            "text/plain": [
              "<tf.Tensor: shape=(2, 2), dtype=int32, numpy=\n",
              "array([[100, 320],\n",
              "       [230, 120]])>"
            ]
          },
          "execution_count": 127,
          "metadata": {},
          "output_type": "execute_result"
        }
      ],
      "source": [
        "# *\n",
        "t * 10"
      ]
    },
    {
      "cell_type": "code",
      "execution_count": 128,
      "metadata": {},
      "outputs": [
        {
          "data": {
            "text/plain": [
              "<tf.Tensor: shape=(2, 2), dtype=int32, numpy=\n",
              "array([[ 0, 22],\n",
              "       [13,  2]])>"
            ]
          },
          "execution_count": 128,
          "metadata": {},
          "output_type": "execute_result"
        }
      ],
      "source": [
        "# -\n",
        "t - 10"
      ]
    },
    {
      "cell_type": "code",
      "execution_count": 129,
      "metadata": {},
      "outputs": [
        {
          "data": {
            "text/plain": [
              "<tf.Tensor: shape=(2, 2), dtype=float64, numpy=\n",
              "array([[1. , 3.2],\n",
              "       [2.3, 1.2]])>"
            ]
          },
          "execution_count": 129,
          "metadata": {},
          "output_type": "execute_result"
        }
      ],
      "source": [
        "# /\n",
        "t / 10"
      ]
    },
    {
      "cell_type": "code",
      "execution_count": 130,
      "metadata": {},
      "outputs": [
        {
          "data": {
            "text/plain": [
              "<tf.Tensor: shape=(2, 2), dtype=int32, numpy=\n",
              "array([[100, 320],\n",
              "       [230, 120]])>"
            ]
          },
          "execution_count": 130,
          "metadata": {},
          "output_type": "execute_result"
        }
      ],
      "source": [
        "# Making operations with tensorflow functions (Its better to use this if you have big tensors!)\n",
        "tf.multiply(t, 10)"
      ]
    },
    {
      "cell_type": "markdown",
      "metadata": {},
      "source": [
        "## Matrix multiplication\n",
        "\n",
        "For mathematical purposes, the are some rules that tensor need to follow:\n",
        "\n",
        "1. The iiner dimensions must mactch\n",
        "2. The resulting matris has the shape of the outer dimensions"
      ]
    },
    {
      "cell_type": "code",
      "execution_count": 137,
      "metadata": {},
      "outputs": [
        {
          "data": {
            "text/plain": [
              "<tf.Tensor: shape=(3, 2), dtype=int32, numpy=\n",
              "array([[20, 59],\n",
              "       [34, 57],\n",
              "       [30, 60]])>"
            ]
          },
          "execution_count": 137,
          "metadata": {},
          "output_type": "execute_result"
        }
      ],
      "source": [
        "tf.matmul(\n",
        "    tf.constant([\n",
        "        [1, 2, 5],\n",
        "        [7, 2, 1],\n",
        "        [3, 3, 3],\n",
        "    ])\n",
        "\n",
        "    ,\n",
        "\n",
        "    tf.constant([\n",
        "        [3, 5],\n",
        "        [6, 7],\n",
        "        [1, 8],\n",
        "    ]) \n",
        ")"
      ]
    },
    {
      "cell_type": "code",
      "execution_count": 138,
      "metadata": {},
      "outputs": [
        {
          "ename": "InvalidArgumentError",
          "evalue": "Matrix size-incompatible: In[0]: [3,2], In[1]: [3,2] [Op:MatMul]",
          "output_type": "error",
          "traceback": [
            "\u001b[1;31m---------------------------------------------------------------------------\u001b[0m",
            "\u001b[1;31mInvalidArgumentError\u001b[0m                      Traceback (most recent call last)",
            "\u001b[1;32mc:\\Users\\pedro\\Desktop\\Estudo\\tensorFlow\\tensorflow-deep-learning\\notebooks\\00_TensorFlow.ipynb Célula: 50\u001b[0m in \u001b[0;36m<cell line: 1>\u001b[1;34m()\u001b[0m\n\u001b[1;32m----> <a href='vscode-notebook-cell:/c%3A/Users/pedro/Desktop/Estudo/tensorFlow/tensorflow-deep-learning/notebooks/00_TensorFlow.ipynb#Y132sZmlsZQ%3D%3D?line=0'>1</a>\u001b[0m tf\u001b[39m.\u001b[39;49mmatmul(\n\u001b[0;32m      <a href='vscode-notebook-cell:/c%3A/Users/pedro/Desktop/Estudo/tensorFlow/tensorflow-deep-learning/notebooks/00_TensorFlow.ipynb#Y132sZmlsZQ%3D%3D?line=1'>2</a>\u001b[0m     tf\u001b[39m.\u001b[39;49mconstant([\n\u001b[0;32m      <a href='vscode-notebook-cell:/c%3A/Users/pedro/Desktop/Estudo/tensorFlow/tensorflow-deep-learning/notebooks/00_TensorFlow.ipynb#Y132sZmlsZQ%3D%3D?line=2'>3</a>\u001b[0m         [\u001b[39m1\u001b[39;49m, \u001b[39m2\u001b[39;49m],\n\u001b[0;32m      <a href='vscode-notebook-cell:/c%3A/Users/pedro/Desktop/Estudo/tensorFlow/tensorflow-deep-learning/notebooks/00_TensorFlow.ipynb#Y132sZmlsZQ%3D%3D?line=3'>4</a>\u001b[0m         [\u001b[39m7\u001b[39;49m, \u001b[39m2\u001b[39;49m],\n\u001b[0;32m      <a href='vscode-notebook-cell:/c%3A/Users/pedro/Desktop/Estudo/tensorFlow/tensorflow-deep-learning/notebooks/00_TensorFlow.ipynb#Y132sZmlsZQ%3D%3D?line=4'>5</a>\u001b[0m         [\u001b[39m3\u001b[39;49m, \u001b[39m3\u001b[39;49m],\n\u001b[0;32m      <a href='vscode-notebook-cell:/c%3A/Users/pedro/Desktop/Estudo/tensorFlow/tensorflow-deep-learning/notebooks/00_TensorFlow.ipynb#Y132sZmlsZQ%3D%3D?line=5'>6</a>\u001b[0m     ])\n\u001b[0;32m      <a href='vscode-notebook-cell:/c%3A/Users/pedro/Desktop/Estudo/tensorFlow/tensorflow-deep-learning/notebooks/00_TensorFlow.ipynb#Y132sZmlsZQ%3D%3D?line=6'>7</a>\u001b[0m \n\u001b[0;32m      <a href='vscode-notebook-cell:/c%3A/Users/pedro/Desktop/Estudo/tensorFlow/tensorflow-deep-learning/notebooks/00_TensorFlow.ipynb#Y132sZmlsZQ%3D%3D?line=7'>8</a>\u001b[0m     ,\n\u001b[0;32m      <a href='vscode-notebook-cell:/c%3A/Users/pedro/Desktop/Estudo/tensorFlow/tensorflow-deep-learning/notebooks/00_TensorFlow.ipynb#Y132sZmlsZQ%3D%3D?line=8'>9</a>\u001b[0m \n\u001b[0;32m     <a href='vscode-notebook-cell:/c%3A/Users/pedro/Desktop/Estudo/tensorFlow/tensorflow-deep-learning/notebooks/00_TensorFlow.ipynb#Y132sZmlsZQ%3D%3D?line=9'>10</a>\u001b[0m     tf\u001b[39m.\u001b[39;49mconstant([\n\u001b[0;32m     <a href='vscode-notebook-cell:/c%3A/Users/pedro/Desktop/Estudo/tensorFlow/tensorflow-deep-learning/notebooks/00_TensorFlow.ipynb#Y132sZmlsZQ%3D%3D?line=10'>11</a>\u001b[0m         [\u001b[39m3\u001b[39;49m, \u001b[39m5\u001b[39;49m],\n\u001b[0;32m     <a href='vscode-notebook-cell:/c%3A/Users/pedro/Desktop/Estudo/tensorFlow/tensorflow-deep-learning/notebooks/00_TensorFlow.ipynb#Y132sZmlsZQ%3D%3D?line=11'>12</a>\u001b[0m         [\u001b[39m6\u001b[39;49m, \u001b[39m7\u001b[39;49m],\n\u001b[0;32m     <a href='vscode-notebook-cell:/c%3A/Users/pedro/Desktop/Estudo/tensorFlow/tensorflow-deep-learning/notebooks/00_TensorFlow.ipynb#Y132sZmlsZQ%3D%3D?line=12'>13</a>\u001b[0m         [\u001b[39m1\u001b[39;49m, \u001b[39m8\u001b[39;49m],\n\u001b[0;32m     <a href='vscode-notebook-cell:/c%3A/Users/pedro/Desktop/Estudo/tensorFlow/tensorflow-deep-learning/notebooks/00_TensorFlow.ipynb#Y132sZmlsZQ%3D%3D?line=13'>14</a>\u001b[0m     ]) \n\u001b[0;32m     <a href='vscode-notebook-cell:/c%3A/Users/pedro/Desktop/Estudo/tensorFlow/tensorflow-deep-learning/notebooks/00_TensorFlow.ipynb#Y132sZmlsZQ%3D%3D?line=14'>15</a>\u001b[0m )\n",
            "File \u001b[1;32m~\\AppData\\Roaming\\Python\\Python39\\site-packages\\tensorflow\\python\\util\\traceback_utils.py:153\u001b[0m, in \u001b[0;36mfilter_traceback.<locals>.error_handler\u001b[1;34m(*args, **kwargs)\u001b[0m\n\u001b[0;32m    151\u001b[0m \u001b[39mexcept\u001b[39;00m \u001b[39mException\u001b[39;00m \u001b[39mas\u001b[39;00m e:\n\u001b[0;32m    152\u001b[0m   filtered_tb \u001b[39m=\u001b[39m _process_traceback_frames(e\u001b[39m.\u001b[39m__traceback__)\n\u001b[1;32m--> 153\u001b[0m   \u001b[39mraise\u001b[39;00m e\u001b[39m.\u001b[39mwith_traceback(filtered_tb) \u001b[39mfrom\u001b[39;00m \u001b[39mNone\u001b[39m\n\u001b[0;32m    154\u001b[0m \u001b[39mfinally\u001b[39;00m:\n\u001b[0;32m    155\u001b[0m   \u001b[39mdel\u001b[39;00m filtered_tb\n",
            "File \u001b[1;32m~\\AppData\\Roaming\\Python\\Python39\\site-packages\\tensorflow\\python\\framework\\ops.py:7164\u001b[0m, in \u001b[0;36mraise_from_not_ok_status\u001b[1;34m(e, name)\u001b[0m\n\u001b[0;32m   7162\u001b[0m \u001b[39mdef\u001b[39;00m \u001b[39mraise_from_not_ok_status\u001b[39m(e, name):\n\u001b[0;32m   7163\u001b[0m   e\u001b[39m.\u001b[39mmessage \u001b[39m+\u001b[39m\u001b[39m=\u001b[39m (\u001b[39m\"\u001b[39m\u001b[39m name: \u001b[39m\u001b[39m\"\u001b[39m \u001b[39m+\u001b[39m name \u001b[39mif\u001b[39;00m name \u001b[39mis\u001b[39;00m \u001b[39mnot\u001b[39;00m \u001b[39mNone\u001b[39;00m \u001b[39melse\u001b[39;00m \u001b[39m\"\u001b[39m\u001b[39m\"\u001b[39m)\n\u001b[1;32m-> 7164\u001b[0m   \u001b[39mraise\u001b[39;00m core\u001b[39m.\u001b[39m_status_to_exception(e) \u001b[39mfrom\u001b[39;00m \u001b[39mNone\u001b[39m\n",
            "\u001b[1;31mInvalidArgumentError\u001b[0m: Matrix size-incompatible: In[0]: [3,2], In[1]: [3,2] [Op:MatMul]"
          ]
        }
      ],
      "source": [
        "tf.matmul(\n",
        "    tf.constant([\n",
        "        [1, 2],\n",
        "        [7, 2],\n",
        "        [3, 3],\n",
        "    ])\n",
        "\n",
        "    ,\n",
        "\n",
        "    tf.constant([\n",
        "        [3, 5],\n",
        "        [6, 7],\n",
        "        [1, 8],\n",
        "    ]) \n",
        ")\n",
        "\n",
        "# Thus givers a erros because the inner dimensions dont match 3x(2 != 3)x2"
      ]
    },
    {
      "cell_type": "code",
      "execution_count": 140,
      "metadata": {},
      "outputs": [
        {
          "data": {
            "text/plain": [
              "<tf.Tensor: shape=(3, 2), dtype=int32, numpy=\n",
              "array([[15, 19],\n",
              "       [33, 49],\n",
              "       [27, 36]])>"
            ]
          },
          "execution_count": 140,
          "metadata": {},
          "output_type": "execute_result"
        }
      ],
      "source": [
        "# Lets make a shape thhat can be multiplied\n",
        "tf.matmul(\n",
        "    tf.constant([\n",
        "        [1, 2],\n",
        "        [7, 2],\n",
        "        [3, 3],\n",
        "    ])\n",
        "\n",
        "    ,\n",
        "\n",
        "    tf.constant([\n",
        "        [3, 5],\n",
        "        [6, 7],\n",
        "    ]) \n",
        ")\n",
        "\n",
        "# Now the inner dimensions are equal! 3x(2 == 2)x2"
      ]
    },
    {
      "cell_type": "code",
      "execution_count": 147,
      "metadata": {},
      "outputs": [],
      "source": [
        "# You can change a tensor to the size that you want using transpose or reshape\n",
        "X = tf.constant([\n",
        "    [1, 2],\n",
        "    [7, 2],\n",
        "    [3, 3],\n",
        "])"
      ]
    },
    {
      "cell_type": "code",
      "execution_count": 149,
      "metadata": {},
      "outputs": [
        {
          "data": {
            "text/plain": [
              "<tf.Tensor: shape=(2, 3), dtype=int32, numpy=\n",
              "array([[1, 2, 7],\n",
              "       [2, 3, 3]])>"
            ]
          },
          "execution_count": 149,
          "metadata": {},
          "output_type": "execute_result"
        }
      ],
      "source": [
        "# Reshape (Just makes the format and append the numbers in order)\n",
        "tf.reshape(X, shape=(2, 3))"
      ]
    },
    {
      "cell_type": "code",
      "execution_count": 152,
      "metadata": {},
      "outputs": [
        {
          "data": {
            "text/plain": [
              "<tf.Tensor: shape=(2, 3), dtype=int32, numpy=\n",
              "array([[1, 7, 3],\n",
              "       [2, 2, 3]])>"
            ]
          },
          "execution_count": 152,
          "metadata": {},
          "output_type": "execute_result"
        }
      ],
      "source": [
        "# Flips the matrix (rows turn into columns)\n",
        "tf.transpose(X)"
      ]
    },
    {
      "cell_type": "markdown",
      "metadata": {},
      "source": [
        "### Matrix multiplication is called dot product, and is made using matmul, but there is a method called tensordot"
      ]
    },
    {
      "cell_type": "code",
      "execution_count": 160,
      "metadata": {},
      "outputs": [
        {
          "name": "stdout",
          "output_type": "stream",
          "text": [
            "This tensors cannot be multiplied with matrix multiplication\n"
          ]
        }
      ],
      "source": [
        "# Lets make two tensor that CANT be multiplied with matrix multiplication (they dont follow the necessary rules)\n",
        "X = tf.constant([\n",
        "    [1, 2],\n",
        "    [2, 3],\n",
        "    [3, 4],\n",
        "])\n",
        "\n",
        "Y = tf.constant([\n",
        "    [2, 3],\n",
        "    [5, 10],\n",
        "    [5, 10],\n",
        "])\n",
        "\n",
        "try: \n",
        "    tf.matmul(X, Y)\n",
        "\n",
        "except:\n",
        "    print(\"This tensors cannot be multiplied with matrix multiplication\")"
      ]
    },
    {
      "cell_type": "code",
      "execution_count": 174,
      "metadata": {},
      "outputs": [
        {
          "name": "stdout",
          "output_type": "stream",
          "text": [
            "-X=-X=-X=-X=-X=-X=-X=-X=-X=-X=-X=-X=-X=-X=-X=-X=-X=-X=-X=-X=-X=-X=-X=-X=-X=-X=-X=-X=-X=-X=-X=-X=-X=-X=-X=-X=-X=-X=-X=-X=-X=-X=-X=-X=-X=-X=-X=-X=-X=-X=\n",
            "tf.Tensor(\n",
            "[[1 2 3]\n",
            " [2 3 4]], shape=(2, 3), dtype=int32)\n",
            "=-=-==-=-=-==-=-=-==-=-=-==-=-=-==-=-=-==-=-=-==-=-=-==-=-=-==-=-=-==-\n",
            "tf.Tensor(\n",
            "[[ 2  3]\n",
            " [ 5 10]\n",
            " [ 5 10]], shape=(3, 2), dtype=int32)\n",
            "-X=-X=-X=-X=-X=-X=-X=-X=-X=-X=-X=-X=-X=-X=-X=-X=-X=-X=-X=-X=-X=-X=-X=-X=-X=-X=-X=-X=-X=-X=-X=-X=-X=-X=-X=-X=-X=-X=-X=-X=-X=-X=-X=-X=-X=-X=-X=-X=-X=-X=\n"
          ]
        },
        {
          "data": {
            "text/plain": [
              "<tf.Tensor: shape=(2, 3, 3, 2), dtype=int32, numpy=\n",
              "array([[[[ 2,  3],\n",
              "         [ 5, 10],\n",
              "         [ 5, 10]],\n",
              "\n",
              "        [[ 4,  6],\n",
              "         [10, 20],\n",
              "         [10, 20]],\n",
              "\n",
              "        [[ 6,  9],\n",
              "         [15, 30],\n",
              "         [15, 30]]],\n",
              "\n",
              "\n",
              "       [[[ 4,  6],\n",
              "         [10, 20],\n",
              "         [10, 20]],\n",
              "\n",
              "        [[ 6,  9],\n",
              "         [15, 30],\n",
              "         [15, 30]],\n",
              "\n",
              "        [[ 8, 12],\n",
              "         [20, 40],\n",
              "         [20, 40]]]])>"
            ]
          },
          "execution_count": 174,
          "metadata": {},
          "output_type": "execute_result"
        }
      ],
      "source": [
        "# Use tensor dot!\n",
        "print(\"-X=\" * 50)\n",
        "print(tf.transpose(X))\n",
        "print(\"=-=-==-\" * 10)\n",
        "print(Y)\n",
        "print(\"-X=\" * 50)\n",
        "tf.tensordot(tf.transpose(X) # Use transpose to make this tensor follow the rule\n",
        ", Y, axes=0)"
      ]
    },
    {
      "cell_type": "code",
      "execution_count": 163,
      "metadata": {},
      "outputs": [
        {
          "data": {
            "text/plain": [
              "<tf.Tensor: shape=(2, 2), dtype=int32, numpy=\n",
              "array([[27, 53],\n",
              "       [39, 76]])>"
            ]
          },
          "execution_count": 163,
          "metadata": {},
          "output_type": "execute_result"
        }
      ],
      "source": [
        "# Use tensor dot!\n",
        "tf.matmul(tf.transpose(X) # Use transpose to make this tensor follow the rule\n",
        ", Y)"
      ]
    },
    {
      "cell_type": "code",
      "execution_count": 159,
      "metadata": {},
      "outputs": [
        {
          "data": {
            "text/plain": [
              "<tf.Tensor: shape=(3, 3), dtype=int32, numpy=\n",
              "array([[    25977,    142211,   5030760],\n",
              "       [   685981,    498819, 142657444],\n",
              "       [       71,      4467,      1466]])>"
            ]
          },
          "execution_count": 159,
          "metadata": {},
          "output_type": "execute_result"
        }
      ],
      "source": [
        "tf.tensordot(X # Use transpose to make this tensor follow the rule\n",
        ", tf.transpose(Y), axes=1)"
      ]
    },
    {
      "cell_type": "markdown",
      "metadata": {},
      "source": [
        "## Changing the data type of a tensor"
      ]
    },
    {
      "cell_type": "code",
      "execution_count": 3,
      "metadata": {},
      "outputs": [
        {
          "data": {
            "text/plain": [
              "tf.float32"
            ]
          },
          "execution_count": 3,
          "metadata": {},
          "output_type": "execute_result"
        }
      ],
      "source": [
        "# The default type is (float32)\n",
        "B = tf.constant([1.7, 7.4])\n",
        "B.dtype"
      ]
    },
    {
      "cell_type": "code",
      "execution_count": 4,
      "metadata": {},
      "outputs": [
        {
          "data": {
            "text/plain": [
              "tf.int32"
            ]
          },
          "execution_count": 4,
          "metadata": {},
          "output_type": "execute_result"
        }
      ],
      "source": [
        "# With int\n",
        "C = tf.constant([7, 4])\n",
        "C.dtype"
      ]
    },
    {
      "cell_type": "code",
      "execution_count": 6,
      "metadata": {},
      "outputs": [
        {
          "data": {
            "text/plain": [
              "tf.int32"
            ]
          },
          "execution_count": 6,
          "metadata": {},
          "output_type": "execute_result"
        }
      ],
      "source": [
        "# Change the precision of a tensor (from 32 to 16)\n",
        "# This is very important, the tensor flow docs have guide to improve training\n",
        "#  time in 60% just making these types of operation\n",
        "C = tf.constant([7, 4])\n",
        "C.dtype"
      ]
    },
    {
      "cell_type": "code",
      "execution_count": 7,
      "metadata": {},
      "outputs": [
        {
          "data": {
            "text/plain": [
              "tf.float16"
            ]
          },
          "execution_count": 7,
          "metadata": {},
          "output_type": "execute_result"
        }
      ],
      "source": [
        "# Change type with tf cast!\n",
        "changed_C = tf.cast(C, dtype=tf.float16)\n",
        "changed_C.dtype"
      ]
    },
    {
      "cell_type": "markdown",
      "metadata": {},
      "source": [
        "## Tensor agreggations\n",
        "\n",
        "min, max, avg"
      ]
    },
    {
      "cell_type": "code",
      "execution_count": 9,
      "metadata": {},
      "outputs": [
        {
          "data": {
            "text/plain": [
              "<tf.Tensor: shape=(4,), dtype=int32, numpy=array([23,  4,  1,  2])>"
            ]
          },
          "execution_count": 9,
          "metadata": {},
          "output_type": "execute_result"
        }
      ],
      "source": [
        "# Return absolute values\n",
        "tensor = tf.constant([-23, 4, 1,2])\n",
        "tf.abs(tensor)"
      ]
    },
    {
      "cell_type": "code",
      "execution_count": 22,
      "metadata": {},
      "outputs": [
        {
          "name": "stdout",
          "output_type": "stream",
          "text": [
            "Min: tf.Tensor(0, shape=(), dtype=int32)\n",
            "Max: tf.Tensor(99, shape=(), dtype=int32)\n",
            "Mean: tf.Tensor(49, shape=(), dtype=int32)\n",
            "Sum: tf.Tensor(4958085, shape=(), dtype=int32)\n",
            "Variance: 828.5111032774998\n",
            "Std: 28.78386880315952\n"
          ]
        }
      ],
      "source": [
        "# Descriptive analytics\n",
        "random_tensor = tf.constant(np.random.randint(0, 100, size=100000))\n",
        "\n",
        "# min\n",
        "print(\"Min:\", tf.reduce_min(random_tensor))\n",
        "\n",
        "# max\n",
        "print(\"Max:\", tf.reduce_max(random_tensor))\n",
        "\n",
        "# mean\n",
        "print(\"Mean:\", tf.reduce_mean(random_tensor))\n",
        "\n",
        "# sum\n",
        "print(\"Sum:\", tf.reduce_sum(random_tensor))\n",
        "\n",
        "# standard variance\n",
        "print(\"Variance:\", np.array(random_tensor).var())\n",
        "\n",
        "# standard deviation\n",
        "print(\"Std:\", np.array(random_tensor).std())"
      ]
    },
    {
      "cell_type": "markdown",
      "metadata": {},
      "source": [
        "## Find positional minimum and maximum\n",
        "Imagine a set of prediciton probabilities, the neural network will have for example 0.70 of class 1 and 0.30 of class 2 | Its important to know how to select the high probability of a line, to know the classification!"
      ]
    },
    {
      "cell_type": "code",
      "execution_count": 29,
      "metadata": {},
      "outputs": [
        {
          "data": {
            "text/plain": [
              "<tf.Tensor: shape=(), dtype=int64, numpy=1>"
            ]
          },
          "execution_count": 29,
          "metadata": {},
          "output_type": "execute_result"
        }
      ],
      "source": [
        "# Create a tensor to text this\n",
        "rt = tf.random.uniform(shape=[50])\n",
        "\n",
        "# Find the positional max\n",
        "tf.argmax(rt)"
      ]
    },
    {
      "cell_type": "code",
      "execution_count": 30,
      "metadata": {},
      "outputs": [
        {
          "data": {
            "text/plain": [
              "<tf.Tensor: shape=(), dtype=int64, numpy=29>"
            ]
          },
          "execution_count": 30,
          "metadata": {},
          "output_type": "execute_result"
        }
      ],
      "source": [
        "# Find the positional min\n",
        "tf.argmin(rt)"
      ]
    },
    {
      "cell_type": "markdown",
      "metadata": {},
      "source": [
        "## Squeezing a tensor (removing all 1 dimension axes)"
      ]
    },
    {
      "cell_type": "code",
      "execution_count": 33,
      "metadata": {},
      "outputs": [
        {
          "data": {
            "text/plain": [
              "TensorShape([1, 1, 1, 1, 50])"
            ]
          },
          "execution_count": 33,
          "metadata": {},
          "output_type": "execute_result"
        }
      ],
      "source": [
        "# Make a tensor\n",
        "rt = tf.constant(tf.random.uniform(shape=[50]), shape=(1, 1, 1, 1, 50))\n",
        "rt.shape"
      ]
    },
    {
      "cell_type": "code",
      "execution_count": 34,
      "metadata": {},
      "outputs": [
        {
          "data": {
            "text/plain": [
              "TensorShape([50])"
            ]
          },
          "execution_count": 34,
          "metadata": {},
          "output_type": "execute_result"
        }
      ],
      "source": [
        "rt_squeezed = tf.squeeze(rt)\n",
        "rt_squeezed.shape"
      ]
    },
    {
      "cell_type": "markdown",
      "metadata": {},
      "source": [
        "## One hot encoding"
      ]
    },
    {
      "cell_type": "code",
      "execution_count": 38,
      "metadata": {},
      "outputs": [
        {
          "data": {
            "text/plain": [
              "<tf.Tensor: shape=(6, 6), dtype=int32, numpy=\n",
              "array([[333, 666, 666, 666, 666, 666],\n",
              "       [666, 333, 666, 666, 666, 666],\n",
              "       [666, 666, 333, 666, 666, 666],\n",
              "       [666, 666, 666, 333, 666, 666],\n",
              "       [666, 666, 666, 666, 333, 666],\n",
              "       [666, 666, 666, 666, 666, 333]])>"
            ]
          },
          "execution_count": 38,
          "metadata": {},
          "output_type": "execute_result"
        }
      ],
      "source": [
        "# Craete a list of indice\n",
        "ll = [0, 1, 2, 3, 4, 5]\n",
        "\n",
        "# One hot encode this list\n",
        "tf.one_hot(ll, depth=len(ll), on_value=333, off_value=666)"
      ]
    },
    {
      "cell_type": "markdown",
      "metadata": {},
      "source": [
        "## More math tensor flow operations\n",
        "\n",
        "squaring, log, square root"
      ]
    },
    {
      "cell_type": "code",
      "execution_count": 44,
      "metadata": {},
      "outputs": [],
      "source": [
        "# Make a tensor\n",
        "H = tf.range(1, 10)"
      ]
    },
    {
      "cell_type": "code",
      "execution_count": 45,
      "metadata": {},
      "outputs": [
        {
          "data": {
            "text/plain": [
              "<tf.Tensor: shape=(9,), dtype=int32, numpy=array([ 1,  4,  9, 16, 25, 36, 49, 64, 81])>"
            ]
          },
          "execution_count": 45,
          "metadata": {},
          "output_type": "execute_result"
        }
      ],
      "source": [
        "# Square root\n",
        "tf.square(H)"
      ]
    },
    {
      "cell_type": "code",
      "execution_count": 47,
      "metadata": {},
      "outputs": [
        {
          "data": {
            "text/plain": [
              "<tf.Tensor: shape=(9,), dtype=float32, numpy=\n",
              "array([0.       , 0.6931472, 1.0986123, 1.3862944, 1.609438 , 1.7917595,\n",
              "       1.9459102, 2.0794415, 2.1972246], dtype=float32)>"
            ]
          },
          "execution_count": 47,
          "metadata": {},
          "output_type": "execute_result"
        }
      ],
      "source": [
        "# Find the loog (this is the natural loog)\n",
        "tf.math.log(tf.cast(H, dtype=tf.float32)) # -> Necessary to cast to float32"
      ]
    },
    {
      "cell_type": "code",
      "execution_count": 48,
      "metadata": {},
      "outputs": [
        {
          "data": {
            "text/plain": [
              "<tf.Tensor: shape=(9,), dtype=float32, numpy=\n",
              "array([1.       , 1.4142135, 1.7320508, 2.       , 2.236068 , 2.4494898,\n",
              "       2.6457512, 2.828427 , 3.       ], dtype=float32)>"
            ]
          },
          "execution_count": 48,
          "metadata": {},
          "output_type": "execute_result"
        }
      ],
      "source": [
        "# Find the square root\n",
        "tf.math.sqrt(tf.cast(H, dtype=tf.float32)) # -> Necessary to cast to float32"
      ]
    },
    {
      "cell_type": "markdown",
      "metadata": {},
      "source": [
        "## Exploring tensorflow and numpy compatibility\n",
        "\n",
        "**tensorflow intercast well with numpy arrays**"
      ]
    },
    {
      "cell_type": "code",
      "execution_count": 49,
      "metadata": {},
      "outputs": [
        {
          "data": {
            "text/plain": [
              "<tf.Tensor: shape=(2, 3), dtype=int32, numpy=\n",
              "array([[1, 2, 3],\n",
              "       [4, 5, 6]])>"
            ]
          },
          "execution_count": 49,
          "metadata": {},
          "output_type": "execute_result"
        }
      ],
      "source": [
        "J = tf.constant(np.array([[1, 2, 3], [4, 5, 6]]))\n",
        "J # Array to tensor"
      ]
    },
    {
      "cell_type": "code",
      "execution_count": 50,
      "metadata": {},
      "outputs": [
        {
          "data": {
            "text/plain": [
              "array([[1, 2, 3],\n",
              "       [4, 5, 6]])"
            ]
          },
          "execution_count": 50,
          "metadata": {},
          "output_type": "execute_result"
        }
      ],
      "source": [
        "np.array(J) # Tensor to array"
      ]
    },
    {
      "cell_type": "code",
      "execution_count": 54,
      "metadata": {},
      "outputs": [
        {
          "data": {
            "text/plain": [
              "array([2, 3])"
            ]
          },
          "execution_count": 54,
          "metadata": {},
          "output_type": "execute_result"
        }
      ],
      "source": [
        "# Is this useful? Yes, if some action is not possible in tensorflow but possible in numpy you can always convert\n",
        "np.array(J)[0][1:] # for example, array slicing"
      ]
    },
    {
      "cell_type": "markdown",
      "metadata": {},
      "source": [
        "## How to use GPU\"s? to process tensors"
      ]
    },
    {
      "cell_type": "code",
      "execution_count": 56,
      "metadata": {},
      "outputs": [
        {
          "data": {
            "text/plain": [
              "[PhysicalDevice(name='/physical_device:CPU:0', device_type='CPU')]"
            ]
          },
          "execution_count": 56,
          "metadata": {},
          "output_type": "execute_result"
        }
      ],
      "source": [
        "### Finding acess to GPUs\n",
        "tf.config.list_physical_devices() # I only have a CPU available! :("
      ]
    },
    {
      "cell_type": "markdown",
      "metadata": {},
      "source": [
        "## Extra exercices!"
      ]
    },
    {
      "cell_type": "code",
      "execution_count": 62,
      "metadata": {},
      "outputs": [
        {
          "name": "stdout",
          "output_type": "stream",
          "text": [
            "(2,)\n",
            "=-==-==-==-==-==-==-==-==-==-==-==-==-==-==-=\n",
            "()\n",
            "=-==-==-==-==-==-==-==-==-==-==-==-==-==-==-=\n",
            "(2, 3)\n",
            "=-==-==-==-==-==-==-==-==-==-==-==-==-==-==-=\n",
            "(2, 2, 3)\n",
            "=-==-==-==-==-==-==-==-==-==-==-==-==-==-==-=\n"
          ]
        }
      ],
      "source": [
        "# Vector\n",
        "vector = tf.constant([1, 2])\n",
        "\n",
        "# Scalar\n",
        "scalar = tf.constant(10)\n",
        "\n",
        "# Matrix\n",
        "matrix = tf.constant([\n",
        "                    [1, 2, 3],\n",
        "                    [4, 5, 6]\n",
        "                    ])\n",
        "\n",
        "# Tensor\n",
        "tensor = tf.constant([\n",
        "    [\n",
        "        [1, 2, 3],\n",
        "        [4, 5, 6]\n",
        "    ],\n",
        "    [\n",
        "        [7, 8, 9],\n",
        "        [10, 11, 12]\n",
        "    ]\n",
        "    ])\n",
        "\n",
        "for v in [vector, scalar, matrix, tensor]:\n",
        "    print(v.shape)\n",
        "    print(\"=-=\" * 15)"
      ]
    },
    {
      "cell_type": "code",
      "execution_count": 65,
      "metadata": {},
      "outputs": [],
      "source": [
        "# Creating two tensor with random number betwen 0 and 1\n",
        "uniform_tensor_1 = tf.random.uniform(shape=(5, 300), dtype=tf.float16)\n",
        "uniform_tensor_2 = tf.random.uniform(shape=(5, 300), dtype=tf.float16)"
      ]
    },
    {
      "cell_type": "code",
      "execution_count": 70,
      "metadata": {},
      "outputs": [
        {
          "data": {
            "text/plain": [
              "<tf.Tensor: shape=(5, 5), dtype=float16, numpy=\n",
              "array([[70.2 , 71.75, 67.25, 71.5 , 69.4 ],\n",
              "       [75.75, 77.44, 75.2 , 76.  , 76.5 ],\n",
              "       [77.56, 77.75, 75.8 , 73.9 , 78.  ],\n",
              "       [70.3 , 70.8 , 67.56, 67.75, 70.44],\n",
              "       [78.06, 79.7 , 75.56, 76.5 , 79.6 ]], dtype=float16)>"
            ]
          },
          "execution_count": 70,
          "metadata": {},
          "output_type": "execute_result"
        }
      ],
      "source": [
        "# Multiply the two tensor with matrix multiplication\n",
        "mm_tensor = tf.matmul(\n",
        "    uniform_tensor_1, \n",
        "    tf.transpose(uniform_tensor_2) # --> Transpose to avoid error\n",
        ")\n",
        "\n",
        "mm_tensor"
      ]
    },
    {
      "cell_type": "code",
      "execution_count": 72,
      "metadata": {},
      "outputs": [
        {
          "data": {
            "text/plain": [
              "<tf.Tensor: shape=(5, 300, 300, 5), dtype=float16, numpy=\n",
              "array([[[[0.2563  , 0.5205  , 0.3801  , 0.6675  , 0.09    ],\n",
              "         [0.595   , 0.0872  , 0.2067  , 0.8506  , 0.1561  ],\n",
              "         [0.877   , 0.63    , 0.2443  , 0.655   , 0.1744  ],\n",
              "         ...,\n",
              "         [0.584   , 0.6973  , 0.2993  , 0.899   , 0.225   ],\n",
              "         [0.2544  , 0.6978  , 0.09094 , 0.213   , 0.3774  ],\n",
              "         [0.8364  , 0.7715  , 0.584   , 0.743   , 0.587   ]],\n",
              "\n",
              "        [[0.0881  , 0.179   , 0.1307  , 0.2295  , 0.03093 ],\n",
              "         [0.2046  , 0.02998 , 0.07104 , 0.2922  , 0.05365 ],\n",
              "         [0.3015  , 0.2166  , 0.084   , 0.2251  , 0.05997 ],\n",
              "         ...,\n",
              "         [0.2008  , 0.2396  , 0.1029  , 0.309   , 0.07733 ],\n",
              "         [0.08746 , 0.2399  , 0.03125 , 0.07324 , 0.1298  ],\n",
              "         [0.2876  , 0.2651  , 0.2008  , 0.2554  , 0.2017  ]],\n",
              "\n",
              "        [[0.2195  , 0.446   , 0.3257  , 0.572   , 0.0771  ],\n",
              "         [0.51    , 0.07477 , 0.177   , 0.7285  , 0.1338  ],\n",
              "         [0.7515  , 0.5396  , 0.2092  , 0.561   , 0.1495  ],\n",
              "         ...,\n",
              "         [0.5005  , 0.597   , 0.2566  , 0.77    , 0.1927  ],\n",
              "         [0.2179  , 0.598   , 0.0779  , 0.1825  , 0.3235  ],\n",
              "         [0.717   , 0.661   , 0.5005  , 0.6367  , 0.503   ]],\n",
              "\n",
              "        ...,\n",
              "\n",
              "        [[0.1293  , 0.2627  , 0.1919  , 0.337   , 0.0454  ],\n",
              "         [0.3003  , 0.04404 , 0.1043  , 0.4292  , 0.0788  ],\n",
              "         [0.4426  , 0.3179  , 0.1233  , 0.3306  , 0.0881  ],\n",
              "         ...,\n",
              "         [0.2947  , 0.3518  , 0.1511  , 0.4539  , 0.1135  ],\n",
              "         [0.1284  , 0.3523  , 0.0459  , 0.10754 , 0.1906  ],\n",
              "         [0.422   , 0.3894  , 0.2947  , 0.375   , 0.2961  ]],\n",
              "\n",
              "        [[0.2166  , 0.4402  , 0.3213  , 0.5645  , 0.07605 ],\n",
              "         [0.503   , 0.0737  , 0.1747  , 0.7188  , 0.132   ],\n",
              "         [0.741   , 0.5327  , 0.2065  , 0.5537  , 0.1475  ],\n",
              "         ...,\n",
              "         [0.4937  , 0.5894  , 0.2532  , 0.76    , 0.1902  ],\n",
              "         [0.2151  , 0.59    , 0.07684 , 0.18    , 0.319   ],\n",
              "         [0.707   , 0.652   , 0.4937  , 0.628   , 0.496   ]],\n",
              "\n",
              "        [[0.1373  , 0.279   , 0.2037  , 0.3577  , 0.04822 ],\n",
              "         [0.3188  , 0.04675 , 0.1107  , 0.4556  , 0.0837  ],\n",
              "         [0.47    , 0.3376  , 0.1309  , 0.3508  , 0.0935  ],\n",
              "         ...,\n",
              "         [0.313   , 0.3735  , 0.1604  , 0.4817  , 0.12054 ],\n",
              "         [0.1364  , 0.374   , 0.0487  , 0.11414 , 0.2023  ],\n",
              "         [0.4482  , 0.4133  , 0.313   , 0.3982  , 0.3145  ]]],\n",
              "\n",
              "\n",
              "       [[[0.02634 , 0.05353 , 0.0391  , 0.06866 , 0.009254],\n",
              "         [0.0612  , 0.00897 , 0.02124 , 0.0874  , 0.01605 ],\n",
              "         [0.09015 , 0.06476 , 0.02512 , 0.0673  , 0.01794 ],\n",
              "         ...,\n",
              "         [0.06006 , 0.07166 , 0.03078 , 0.0924  , 0.02313 ],\n",
              "         [0.02615 , 0.0718  , 0.009346, 0.02191 , 0.03882 ],\n",
              "         [0.086   , 0.0793  , 0.06006 , 0.07635 , 0.06033 ]],\n",
              "\n",
              "        [[0.0564  , 0.1146  , 0.0837  , 0.147   , 0.0198  ],\n",
              "         [0.131   , 0.01921 , 0.0455  , 0.1873  , 0.03436 ],\n",
              "         [0.1931  , 0.1387  , 0.05377 , 0.1442  , 0.03842 ],\n",
              "         ...,\n",
              "         [0.1285  , 0.1534  , 0.0659  , 0.1979  , 0.04953 ],\n",
              "         [0.056   , 0.1537  , 0.02002 , 0.0469  , 0.08307 ],\n",
              "         [0.1842  , 0.1698  , 0.1285  , 0.1636  , 0.1292  ]],\n",
              "\n",
              "        [[0.0679  , 0.138   , 0.1007  , 0.1768  , 0.02383 ],\n",
              "         [0.1576  , 0.0231  , 0.05472 , 0.2252  , 0.04135 ],\n",
              "         [0.2323  , 0.1669  , 0.0647  , 0.1733  , 0.0462  ],\n",
              "         ...,\n",
              "         [0.1547  , 0.1846  , 0.0793  , 0.238   , 0.05957 ],\n",
              "         [0.0674  , 0.1848  , 0.02408 , 0.05643 , 0.1     ],\n",
              "         [0.2216  , 0.2042  , 0.1547  , 0.1968  , 0.1554  ]],\n",
              "\n",
              "        ...,\n",
              "\n",
              "        [[0.2253  , 0.458   , 0.3345  , 0.5874  , 0.07916 ],\n",
              "         [0.5234  , 0.0767  , 0.1818  , 0.748   , 0.1373  ],\n",
              "         [0.7715  , 0.554   , 0.2148  , 0.576   , 0.1534  ],\n",
              "         ...,\n",
              "         [0.5137  , 0.6133  , 0.2634  , 0.791   , 0.1979  ],\n",
              "         [0.2238  , 0.614   , 0.07996 , 0.1874  , 0.332   ],\n",
              "         [0.736   , 0.6787  , 0.5137  , 0.6533  , 0.516   ]],\n",
              "\n",
              "        [[0.1982  , 0.4028  , 0.2942  , 0.5166  , 0.06964 ],\n",
              "         [0.4604  , 0.0675  , 0.1599  , 0.6577  , 0.1208  ],\n",
              "         [0.6787  , 0.4873  , 0.189   , 0.5063  , 0.135   ],\n",
              "         ...,\n",
              "         [0.452   , 0.539   , 0.2316  , 0.696   , 0.1741  ],\n",
              "         [0.1968  , 0.54    , 0.0703  , 0.1648  , 0.292   ],\n",
              "         [0.6475  , 0.5967  , 0.452   , 0.5747  , 0.454   ]],\n",
              "\n",
              "        [[0.1256  , 0.2551  , 0.1864  , 0.3271  , 0.04413 ],\n",
              "         [0.2917  , 0.04276 , 0.10126 , 0.4167  , 0.07654 ],\n",
              "         [0.43    , 0.3088  , 0.11975 , 0.321   , 0.0855  ],\n",
              "         ...,\n",
              "         [0.2864  , 0.3416  , 0.1467  , 0.4407  , 0.1103  ],\n",
              "         [0.1247  , 0.342   , 0.04456 , 0.10443 , 0.185   ],\n",
              "         [0.4102  , 0.3782  , 0.2864  , 0.3643  , 0.2876  ]]],\n",
              "\n",
              "\n",
              "       [[[0.0671  , 0.1362  , 0.0995  , 0.1747  , 0.02356 ],\n",
              "         [0.1558  , 0.02283 , 0.05408 , 0.2225  , 0.04086 ],\n",
              "         [0.2295  , 0.1649  , 0.0639  , 0.1714  , 0.04565 ],\n",
              "         ...,\n",
              "         [0.1528  , 0.1824  , 0.07837 , 0.2352  , 0.05887 ],\n",
              "         [0.0666  , 0.1826  , 0.02379 , 0.05576 , 0.09875 ],\n",
              "         [0.219   , 0.2019  , 0.1528  , 0.1945  , 0.1536  ]],\n",
              "\n",
              "        [[0.005054, 0.01028 , 0.0075  , 0.013176, 0.001776],\n",
              "         [0.01174 , 0.001721, 0.004078, 0.01678 , 0.00308 ],\n",
              "         [0.0173  , 0.01243 , 0.00482 , 0.01292 , 0.003443],\n",
              "         ...,\n",
              "         [0.01152 , 0.013756, 0.005905, 0.01775 , 0.00444 ],\n",
              "         [0.00502 , 0.01377 , 0.001794, 0.004204, 0.007446],\n",
              "         [0.01651 , 0.01522 , 0.01152 , 0.014656, 0.01158 ]],\n",
              "\n",
              "        [[0.2389  , 0.4856  , 0.3545  , 0.6226  , 0.0839  ],\n",
              "         [0.555   , 0.08136 , 0.1927  , 0.793   , 0.1456  ],\n",
              "         [0.818   , 0.5874  , 0.2278  , 0.611   , 0.1627  ],\n",
              "         ...,\n",
              "         [0.5444  , 0.65    , 0.2793  , 0.8384  , 0.2098  ],\n",
              "         [0.2372  , 0.651   , 0.0848  , 0.1987  , 0.352   ],\n",
              "         [0.7803  , 0.719   , 0.5444  , 0.693   , 0.5474  ]],\n",
              "\n",
              "        ...,\n",
              "\n",
              "        [[0.2505  , 0.509   , 0.3716  , 0.6523  , 0.08795 ],\n",
              "         [0.5815  , 0.08527 , 0.2019  , 0.831   , 0.1526  ],\n",
              "         [0.857   , 0.6157  , 0.2388  , 0.6396  , 0.1705  ],\n",
              "         ...,\n",
              "         [0.571   , 0.681   , 0.2925  , 0.8784  , 0.2198  ],\n",
              "         [0.2485  , 0.682   , 0.08887 , 0.2083  , 0.369   ],\n",
              "         [0.8174  , 0.754   , 0.571   , 0.726   , 0.573   ]],\n",
              "\n",
              "        [[0.02261 , 0.04596 , 0.03357 , 0.05893 , 0.00794 ],\n",
              "         [0.05252 , 0.0077  , 0.01823 , 0.0751  , 0.01378 ],\n",
              "         [0.0774  , 0.0556  , 0.02156 , 0.0578  , 0.0154  ],\n",
              "         ...,\n",
              "         [0.05154 , 0.06152 , 0.02643 , 0.07935 , 0.01987 ],\n",
              "         [0.02246 , 0.0616  , 0.008026, 0.0188  , 0.03333 ],\n",
              "         [0.07385 , 0.0681  , 0.05154 , 0.06555 , 0.0518  ]],\n",
              "\n",
              "        [[0.01968 , 0.04    , 0.02922 , 0.0513  , 0.006916],\n",
              "         [0.04572 , 0.006706, 0.01588 , 0.06537 , 0.01199 ],\n",
              "         [0.0674  , 0.0484  , 0.01877 , 0.05032 , 0.01341 ],\n",
              "         ...,\n",
              "         [0.0449  , 0.05356 , 0.02301 , 0.0691  , 0.01729 ],\n",
              "         [0.01955 , 0.05365 , 0.00699 , 0.01637 , 0.029   ],\n",
              "         [0.0643  , 0.05927 , 0.0449  , 0.0571  , 0.0451  ]]],\n",
              "\n",
              "\n",
              "       [[[0.1913  , 0.3887  , 0.284   , 0.4985  , 0.0672  ],\n",
              "         [0.4443  , 0.0651  , 0.1543  , 0.635   , 0.1166  ],\n",
              "         [0.655   , 0.4705  , 0.1824  , 0.489   , 0.1302  ],\n",
              "         ...,\n",
              "         [0.436   , 0.5205  , 0.2235  , 0.6714  , 0.168   ],\n",
              "         [0.19    , 0.521   , 0.0679  , 0.159   , 0.2817  ],\n",
              "         [0.6245  , 0.576   , 0.436   , 0.5547  , 0.4382  ]],\n",
              "\n",
              "        [[0.05908 , 0.12006 , 0.08765 , 0.1539  , 0.02075 ],\n",
              "         [0.1372  , 0.02011 , 0.04764 , 0.196   , 0.03598 ],\n",
              "         [0.2021  , 0.1453  , 0.0563  , 0.151   , 0.04022 ],\n",
              "         ...,\n",
              "         [0.1346  , 0.1606  , 0.06903 , 0.2073  , 0.05188 ],\n",
              "         [0.05865 , 0.1609  , 0.02097 , 0.04913 , 0.08704 ],\n",
              "         [0.1929  , 0.1779  , 0.1346  , 0.1713  , 0.1353  ]],\n",
              "\n",
              "        [[0.0761  , 0.1547  , 0.1129  , 0.1982  , 0.02673 ],\n",
              "         [0.1768  , 0.02591 , 0.06137 , 0.2527  , 0.04636 ],\n",
              "         [0.2605  , 0.1871  , 0.0726  , 0.1945  , 0.05182 ],\n",
              "         ...,\n",
              "         [0.1735  , 0.207   , 0.0889  , 0.267   , 0.06683 ],\n",
              "         [0.07556 , 0.2073  , 0.02701 , 0.0633  , 0.1121  ],\n",
              "         [0.2485  , 0.2291  , 0.1735  , 0.2207  , 0.1743  ]],\n",
              "\n",
              "        ...,\n",
              "\n",
              "        [[0.00958 , 0.01947 , 0.01421 , 0.02496 , 0.003365],\n",
              "         [0.02225 , 0.003262, 0.007725, 0.0318  , 0.005836],\n",
              "         [0.03278 , 0.02356 , 0.00913 , 0.02448 , 0.006523],\n",
              "         ...,\n",
              "         [0.02184 , 0.02606 , 0.01119 , 0.0336  , 0.00841 ],\n",
              "         [0.00951 , 0.0261  , 0.003399, 0.007965, 0.014114],\n",
              "         [0.03128 , 0.02884 , 0.02184 , 0.02777 , 0.02194 ]],\n",
              "\n",
              "        [[0.1107  , 0.225   , 0.1643  , 0.2883  , 0.03888 ],\n",
              "         [0.257   , 0.0377  , 0.08923 , 0.3674  , 0.06744 ],\n",
              "         [0.379   , 0.2722  , 0.1055  , 0.283   , 0.0754  ],\n",
              "         ...,\n",
              "         [0.2524  , 0.301   , 0.1294  , 0.3884  , 0.09717 ],\n",
              "         [0.10986 , 0.3015  , 0.03928 , 0.09204 , 0.1631  ],\n",
              "         [0.3613  , 0.3333  , 0.2524  , 0.321   , 0.2534  ]],\n",
              "\n",
              "        [[0.2461  , 0.5     , 0.3652  , 0.641   , 0.0864  ],\n",
              "         [0.572   , 0.0838  , 0.1985  , 0.817   , 0.15    ],\n",
              "         [0.8423  , 0.605   , 0.2346  , 0.629   , 0.1676  ],\n",
              "         ...,\n",
              "         [0.561   , 0.6694  , 0.2876  , 0.864   , 0.2162  ],\n",
              "         [0.2444  , 0.6704  , 0.08734 , 0.2047  , 0.3625  ],\n",
              "         [0.8037  , 0.741   , 0.561   , 0.714   , 0.5635  ]]],\n",
              "\n",
              "\n",
              "       [[[0.02634 , 0.05353 , 0.0391  , 0.06866 , 0.009254],\n",
              "         [0.0612  , 0.00897 , 0.02124 , 0.0874  , 0.01605 ],\n",
              "         [0.09015 , 0.06476 , 0.02512 , 0.0673  , 0.01794 ],\n",
              "         ...,\n",
              "         [0.06006 , 0.07166 , 0.03078 , 0.0924  , 0.02313 ],\n",
              "         [0.02615 , 0.0718  , 0.009346, 0.02191 , 0.03882 ],\n",
              "         [0.086   , 0.0793  , 0.06006 , 0.07635 , 0.06033 ]],\n",
              "\n",
              "        [[0.0801  , 0.1627  , 0.11884 , 0.2087  , 0.02814 ],\n",
              "         [0.186   , 0.02727 , 0.0646  , 0.2659  , 0.0488  ],\n",
              "         [0.2742  , 0.1969  , 0.07635 , 0.2047  , 0.05453 ],\n",
              "         ...,\n",
              "         [0.1826  , 0.2179  , 0.09357 , 0.281   , 0.0703  ],\n",
              "         [0.0795  , 0.2181  , 0.02841 , 0.0666  , 0.118   ],\n",
              "         [0.2615  , 0.2411  , 0.1826  , 0.2322  , 0.1835  ]],\n",
              "\n",
              "        [[0.07556 , 0.1536  , 0.1121  , 0.1969  , 0.02655 ],\n",
              "         [0.1755  , 0.02573 , 0.06094 , 0.2507  , 0.04605 ],\n",
              "         [0.2585  , 0.1858  , 0.072   , 0.1931  , 0.05145 ],\n",
              "         ...,\n",
              "         [0.1722  , 0.2056  , 0.0883  , 0.2651  , 0.06635 ],\n",
              "         [0.075   , 0.2058  , 0.02681 , 0.06287 , 0.1113  ],\n",
              "         [0.2467  , 0.2275  , 0.1722  , 0.2191  , 0.1731  ]],\n",
              "\n",
              "        ...,\n",
              "\n",
              "        [[0.04285 , 0.08704 , 0.06354 , 0.11163 , 0.015045],\n",
              "         [0.0995  , 0.01459 , 0.03455 , 0.1422  , 0.02611 ],\n",
              "         [0.1466  , 0.10535 , 0.04083 , 0.1095  , 0.02917 ],\n",
              "         ...,\n",
              "         [0.09766 , 0.1165  , 0.05005 , 0.1503  , 0.03763 ],\n",
              "         [0.04254 , 0.1167  , 0.0152  , 0.0356  , 0.0631  ],\n",
              "         [0.1399  , 0.129   , 0.09766 , 0.1242  , 0.0981  ]],\n",
              "\n",
              "        [[0.1155  , 0.2346  , 0.1714  , 0.3008  , 0.04056 ],\n",
              "         [0.2683  , 0.0393  , 0.09314 , 0.3833  , 0.0704  ],\n",
              "         [0.3953  , 0.284   , 0.1101  , 0.2952  , 0.0786  ],\n",
              "         ...,\n",
              "         [0.2632  , 0.3142  , 0.1349  , 0.4053  , 0.1014  ],\n",
              "         [0.1146  , 0.3145  , 0.041   , 0.096   , 0.1702  ],\n",
              "         [0.377   , 0.3477  , 0.2632  , 0.335   , 0.2644  ]],\n",
              "\n",
              "        [[0.0878  , 0.1785  , 0.1302  , 0.2288  , 0.03084 ],\n",
              "         [0.204   , 0.02989 , 0.0708  , 0.2915  , 0.0535  ],\n",
              "         [0.3005  , 0.216   , 0.08374 , 0.2244  , 0.05978 ],\n",
              "         ...,\n",
              "         [0.2002  , 0.2389  , 0.1026  , 0.308   , 0.0771  ],\n",
              "         [0.08716 , 0.2391  , 0.03116 , 0.073   , 0.1294  ],\n",
              "         [0.2866  , 0.2644  , 0.2002  , 0.2546  , 0.201   ]]]],\n",
              "      dtype=float16)>"
            ]
          },
          "execution_count": 72,
          "metadata": {},
          "output_type": "execute_result"
        }
      ],
      "source": [
        "# Multiply the two tensor with dot product\n",
        "mm_tensor = tf.tensordot(\n",
        "    uniform_tensor_1, \n",
        "    tf.transpose(uniform_tensor_2), # --> Transpose to avoid error\n",
        "    axes=0,\n",
        ")\n",
        "\n",
        "mm_tensor"
      ]
    },
    {
      "cell_type": "code",
      "execution_count": 75,
      "metadata": {},
      "outputs": [],
      "source": [
        "# Make a tensor with dim 3\n",
        "uniform_tensor_3 = tf.random.uniform(shape=(224, 224, 3), dtype=tf.float16)"
      ]
    },
    {
      "cell_type": "code",
      "execution_count": 81,
      "metadata": {},
      "outputs": [
        {
          "data": {
            "text/plain": [
              "<tf.Tensor: shape=(), dtype=float16, numpy=0.909>"
            ]
          },
          "execution_count": 81,
          "metadata": {},
          "output_type": "execute_result"
        }
      ],
      "source": [
        "# Finf the maximum value of the first axis\n",
        "tf.reduce_max(uniform_tensor_3[0, 0, :])"
      ]
    },
    {
      "cell_type": "code",
      "execution_count": 82,
      "metadata": {},
      "outputs": [
        {
          "data": {
            "text/plain": [
              "<tf.Tensor: shape=(), dtype=float16, numpy=0.5625>"
            ]
          },
          "execution_count": 82,
          "metadata": {},
          "output_type": "execute_result"
        }
      ],
      "source": [
        "# Find the minimum value of the first axis\n",
        "tf.reduce_min(uniform_tensor_3[0, 0, :])"
      ]
    },
    {
      "cell_type": "code",
      "execution_count": 85,
      "metadata": {},
      "outputs": [
        {
          "data": {
            "text/plain": [
              "TensorShape([224, 224, 3])"
            ]
          },
          "execution_count": 85,
          "metadata": {},
          "output_type": "execute_result"
        }
      ],
      "source": [
        "# Create a tensor and squeeze it\n",
        "uniform_tensor_4 = tf.random.uniform(shape=(1, 224, 224, 3), dtype=tf.float16)\n",
        "\n",
        "# Squeeze\n",
        "uniform_tensor_4 = tf.squeeze(uniform_tensor_4)\n",
        "uniform_tensor_4.shape"
      ]
    },
    {
      "cell_type": "code",
      "execution_count": 100,
      "metadata": {},
      "outputs": [
        {
          "data": {
            "text/plain": [
              "<tf.Tensor: shape=(), dtype=int32, numpy=99>"
            ]
          },
          "execution_count": 100,
          "metadata": {},
          "output_type": "execute_result"
        }
      ],
      "source": [
        "# Create a tensor with size 10 and finx max value of it\n",
        "uniform_tensor_5 = tf.constant(value=[1, 2, 99, 1, 5, 3, 3, 5, 1, 1], shape=(10))\n",
        "\n",
        "ind = tf.argmax(uniform_tensor_5)\n",
        "\n",
        "uniform_tensor_5[ind] # -> max value"
      ]
    },
    {
      "cell_type": "code",
      "execution_count": 103,
      "metadata": {},
      "outputs": [
        {
          "data": {
            "text/plain": [
              "<tf.Tensor: shape=(10, 10), dtype=int32, numpy=\n",
              "array([[-99,   1, -99, -99, -99, -99, -99, -99, -99, -99],\n",
              "       [-99, -99,   1, -99, -99, -99, -99, -99, -99, -99],\n",
              "       [-99, -99, -99, -99, -99, -99, -99, -99, -99, -99],\n",
              "       [-99,   1, -99, -99, -99, -99, -99, -99, -99, -99],\n",
              "       [-99, -99, -99, -99, -99,   1, -99, -99, -99, -99],\n",
              "       [-99, -99, -99,   1, -99, -99, -99, -99, -99, -99],\n",
              "       [-99, -99, -99,   1, -99, -99, -99, -99, -99, -99],\n",
              "       [-99, -99, -99, -99, -99,   1, -99, -99, -99, -99],\n",
              "       [-99,   1, -99, -99, -99, -99, -99, -99, -99, -99],\n",
              "       [-99,   1, -99, -99, -99, -99, -99, -99, -99, -99]])>"
            ]
          },
          "execution_count": 103,
          "metadata": {},
          "output_type": "execute_result"
        }
      ],
      "source": [
        "# One hot encode a tensor\n",
        "one_hot_tensor = tf.one_hot(uniform_tensor_5, depth=len(uniform_tensor_5), on_value=1, off_value=-99)\n",
        "\n",
        "one_hot_tensor"
      ]
    }
  ],
  "metadata": {
    "colab": {
      "collapsed_sections": [],
      "name": "00_TensorFlow.ipynb",
      "provenance": []
    },
    "kernelspec": {
      "display_name": "Python 3.9.12 ('base')",
      "language": "python",
      "name": "python3"
    },
    "language_info": {
      "codemirror_mode": {
        "name": "ipython",
        "version": 3
      },
      "file_extension": ".py",
      "mimetype": "text/x-python",
      "name": "python",
      "nbconvert_exporter": "python",
      "pygments_lexer": "ipython3",
      "version": "3.9.12"
    },
    "vscode": {
      "interpreter": {
        "hash": "190605ead3d59fdd7149d57090309db6515571225da4d448ac9f06d043bf74ec"
      }
    }
  },
  "nbformat": 4,
  "nbformat_minor": 0
}
