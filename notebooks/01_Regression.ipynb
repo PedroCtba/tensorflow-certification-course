{
 "cells": [
  {
   "cell_type": "markdown",
   "metadata": {},
   "source": [
    "# Imports"
   ]
  },
  {
   "cell_type": "code",
   "execution_count": 1,
   "metadata": {},
   "outputs": [
    {
     "name": "stdout",
     "output_type": "stream",
     "text": [
      "Tensor flow version: 2.9.1\n"
     ]
    }
   ],
   "source": [
    "import tensorflow as tf\n",
    "import pandas as pd\n",
    "import numpy as np\n",
    "import seaborn as sns\n",
    "import matplotlib.pyplot as plt\n",
    "from random import randint\n",
    "\n",
    "from tensorflow.keras.utils import plot_model\n",
    "from sklearn.model_selection import train_test_split\n",
    "\n",
    "print(\"Tensor flow version:\", tf.__version__)"
   ]
  },
  {
   "cell_type": "markdown",
   "metadata": {},
   "source": [
    "# Basic architecture of a NN\n",
    "\n",
    "* Input layer: same as the number of samples\n",
    "* Hidden layer: Unlimited, minumum 1\n",
    "* Output layer: same as the number of desired outputs (number of classes, if regression, 1)\n",
    "\n",
    "***there are more parameters, they will be covered in more detail latter***"
   ]
  },
  {
   "cell_type": "markdown",
   "metadata": {},
   "source": [
    "**Regression problem, is simple words, is predicting a number, so lets get going! :)**"
   ]
  },
  {
   "cell_type": "code",
   "execution_count": 2,
   "metadata": {},
   "outputs": [
    {
     "data": {
      "image/png": "[encoded data removed]",
      "text/plain": [
       "<Figure size 432x288 with 1 Axes>"
      ]
     },
     "metadata": {
      "needs_background": "light"
     },
     "output_type": "display_data"
    }
   ],
   "source": [
    "# Lets create some data to fit\n",
    "X = np.array([number for number in range(0, 50)])\n",
    "rand = randint(0, 50) # -> Define a fixed random number that will multiply x\n",
    "Y = np.array([(number * rand) / np.cos(number/rand) for number in X])\n",
    "\n",
    "# Scater\n",
    "plt.scatter(X, Y);"
   ]
  },
  {
   "cell_type": "markdown",
   "metadata": {},
   "source": [
    "# Inputs and outputs shapes"
   ]
  },
  {
   "cell_type": "code",
   "execution_count": 34,
   "metadata": {},
   "outputs": [
    {
     "data": {
      "text/plain": [
       "()"
      ]
     },
     "execution_count": 34,
     "metadata": {},
     "output_type": "execute_result"
    }
   ],
   "source": [
    "# Input shape\n",
    "X[0].shape"
   ]
  },
  {
   "cell_type": "code",
   "execution_count": 35,
   "metadata": {},
   "outputs": [
    {
     "data": {
      "text/plain": [
       "()"
      ]
     },
     "execution_count": 35,
     "metadata": {},
     "output_type": "execute_result"
    }
   ],
   "source": [
    "# Output shape\n",
    "Y[0].shape"
   ]
  },
  {
   "cell_type": "markdown",
   "metadata": {},
   "source": [
    "**But hold ON! If you try to train the model with this, you will encounter problems, bexause tensorflow 2.7+ requires the data to have at least 2 dimensions, in your case the data has 1 dimension mathematicaly speaking, and 0 (\"tensorflowing\" speaking)**\n",
    "\n",
    "***lets fix the data dimensions***"
   ]
  },
  {
   "cell_type": "code",
   "execution_count": 3,
   "metadata": {},
   "outputs": [],
   "source": [
    "X = tf.expand_dims(X, axis=-1)\n",
    "Y = tf.expand_dims(Y, axis=-1)"
   ]
  },
  {
   "cell_type": "markdown",
   "metadata": {},
   "source": [
    "**This is odd, but correct, because the input is a scalar, with has 0 dimensions in tensor flow, and the output as 0 dimensions too**"
   ]
  },
  {
   "cell_type": "code",
   "execution_count": null,
   "metadata": {},
   "outputs": [],
   "source": [
    "# Let\"s build a model to fit this problem\n",
    "\n",
    "# Step 1: Create a model: Define the layers (input, hidden, output, and maybe others)\n",
    "\n",
    "# Set random seed\n",
    "tf.random.set_seed(32)\n",
    "\n",
    "# Model\n",
    "model = tf.keras.Sequential([ # -> Sequential API make the layers in the coded order\n",
    "    tf.keras.layers.Dense(1) # -> Just one layer (with 1 neuron)\n",
    "])\n",
    "\n",
    "# Step 2: Compile the model \n",
    "model.compile(\n",
    "    loss=tf.keras.losses.mae, # Mean Absolute Error\n",
    "    optimizer=tf.keras.optimizers.SGD(), # Stochastic Gradient Descent\n",
    "    metrics=[\"mae\"] # See how the model is going with this metric\n",
    ")\n",
    "\n",
    "## Define the loss function: The funciton that says how much the model is wrong;\n",
    "## Define the optimizer: The funcitons that says how your model can improve;\n",
    "## Dine eval metrics: The functions that can interpret the performance of your model;\n",
    "\n",
    "# Step 3: Fitting the model: Letting the model find the relations\n",
    "model.fit(X, Y, epochs=50) # -> How have 50 epochs to learn the patterns"
   ]
  },
  {
   "cell_type": "code",
   "execution_count": 37,
   "metadata": {},
   "outputs": [
    {
     "data": {
      "text/plain": [
       "(<tf.Tensor: shape=(50, 1), dtype=int32, numpy=\n",
       " array([[ 0],\n",
       "        [ 1],\n",
       "        [ 2],\n",
       "        [ 3],\n",
       "        [ 4],\n",
       "        [ 5],\n",
       "        [ 6],\n",
       "        [ 7],\n",
       "        [ 8],\n",
       "        [ 9],\n",
       "        [10],\n",
       "        [11],\n",
       "        [12],\n",
       "        [13],\n",
       "        [14],\n",
       "        [15],\n",
       "        [16],\n",
       "        [17],\n",
       "        [18],\n",
       "        [19],\n",
       "        [20],\n",
       "        [21],\n",
       "        [22],\n",
       "        [23],\n",
       "        [24],\n",
       "        [25],\n",
       "        [26],\n",
       "        [27],\n",
       "        [28],\n",
       "        [29],\n",
       "        [30],\n",
       "        [31],\n",
       "        [32],\n",
       "        [33],\n",
       "        [34],\n",
       "        [35],\n",
       "        [36],\n",
       "        [37],\n",
       "        [38],\n",
       "        [39],\n",
       "        [40],\n",
       "        [41],\n",
       "        [42],\n",
       "        [43],\n",
       "        [44],\n",
       "        [45],\n",
       "        [46],\n",
       "        [47],\n",
       "        [48],\n",
       "        [49]])>,\n",
       " <tf.Tensor: shape=(50, 1), dtype=float64, numpy=\n",
       " array([[   0.        ],\n",
       "        [  49.01020585],\n",
       "        [  98.08168936],\n",
       "        [ 147.27594117],\n",
       "        [ 196.65487946],\n",
       "        [ 246.2810675 ],\n",
       "        [ 296.21793588],\n",
       "        [ 346.53001097],\n",
       "        [ 397.28315137],\n",
       "        [ 448.54479416],\n",
       "        [ 500.38421284],\n",
       "        [ 552.87278909],\n",
       "        [ 606.08430059],\n",
       "        [ 660.09522742],\n",
       "        [ 714.98507964],\n",
       "        [ 770.83674931],\n",
       "        [ 827.73689002],\n",
       "        [ 885.77632791],\n",
       "        [ 945.0505084 ],\n",
       "        [1005.65998318],\n",
       "        [1067.71094318],\n",
       "        [1131.31580341],\n",
       "        [1196.59384673],\n",
       "        [1263.67193465],\n",
       "        [1332.6852942 ],\n",
       "        [1403.77839153],\n",
       "        [1477.10590437],\n",
       "        [1552.83380762],\n",
       "        [1631.14058829],\n",
       "        [1712.21860916],\n",
       "        [1796.27564329],\n",
       "        [1883.53660588],\n",
       "        [1974.24551422],\n",
       "        [2068.66771238],\n",
       "        [2167.09240379],\n",
       "        [2269.83554345],\n",
       "        [2377.24315127],\n",
       "        [2489.69512039],\n",
       "        [2607.60960979],\n",
       "        [2731.44812874],\n",
       "        [2861.72144459],\n",
       "        [2998.99647393],\n",
       "        [3143.90435438],\n",
       "        [3297.14994022],\n",
       "        [3459.52302447],\n",
       "        [3631.91166547],\n",
       "        [3815.31809376],\n",
       "        [4010.87780214],\n",
       "        [4219.88258812],\n",
       "        [4443.80853815]])>)"
      ]
     },
     "execution_count": 37,
     "metadata": {},
     "output_type": "execute_result"
    }
   ],
   "source": [
    "# Check out X and Y\n",
    "X, Y"
   ]
  },
  {
   "cell_type": "code",
   "execution_count": null,
   "metadata": {},
   "outputs": [],
   "source": [
    "# Predict ussing the model\n",
    "model.predict([12])"
   ]
  },
  {
   "cell_type": "markdown",
   "metadata": {},
   "source": [
    "**Okay, your predictions are a shit, how to improve them?**\n",
    "\n",
    "# Improving the model\n",
    "\n",
    "Options:\n",
    "\n",
    "* Add more layers to the model (or change number of neuros and activation functions)\n",
    "* Change the optimization function\n",
    "* Change the learning rate\n",
    "* Increase the number of epochs"
   ]
  },
  {
   "cell_type": "code",
   "execution_count": 39,
   "metadata": {},
   "outputs": [
    {
     "name": "stdout",
     "output_type": "stream",
     "text": [
      "Epoch 1/100\n",
      "2/2 [==============================] - 1s 3ms/step - loss: 1604.1711 - mae: 1604.1711\n",
      "Epoch 2/100\n",
      "2/2 [==============================] - 0s 3ms/step - loss: 1592.3237 - mae: 1592.3237\n",
      "Epoch 3/100\n",
      "2/2 [==============================] - 0s 3ms/step - loss: 1580.2606 - mae: 1580.2606\n",
      "Epoch 4/100\n",
      "2/2 [==============================] - 0s 4ms/step - loss: 1568.0056 - mae: 1568.0056\n",
      "Epoch 5/100\n",
      "2/2 [==============================] - 0s 4ms/step - loss: 1556.0637 - mae: 1556.0637\n",
      "Epoch 6/100\n",
      "2/2 [==============================] - 0s 3ms/step - loss: 1544.3168 - mae: 1544.3168\n",
      "Epoch 7/100\n",
      "2/2 [==============================] - 0s 6ms/step - loss: 1532.4261 - mae: 1532.4261\n",
      "Epoch 8/100\n",
      "2/2 [==============================] - 0s 6ms/step - loss: 1519.9888 - mae: 1519.9888\n",
      "Epoch 9/100\n",
      "2/2 [==============================] - 0s 3ms/step - loss: 1507.7484 - mae: 1507.7484\n",
      "Epoch 10/100\n",
      "2/2 [==============================] - 0s 5ms/step - loss: 1495.6614 - mae: 1495.6614\n",
      "Epoch 11/100\n",
      "2/2 [==============================] - 0s 5ms/step - loss: 1483.2822 - mae: 1483.2822\n",
      "Epoch 12/100\n",
      "2/2 [==============================] - 0s 2ms/step - loss: 1471.4922 - mae: 1471.4922\n",
      "Epoch 13/100\n",
      "2/2 [==============================] - 0s 4ms/step - loss: 1459.7122 - mae: 1459.7122\n",
      "Epoch 14/100\n",
      "2/2 [==============================] - 0s 5ms/step - loss: 1447.7505 - mae: 1447.7505\n",
      "Epoch 15/100\n",
      "2/2 [==============================] - 0s 2ms/step - loss: 1435.7446 - mae: 1435.7446\n",
      "Epoch 16/100\n",
      "2/2 [==============================] - 0s 8ms/step - loss: 1423.7488 - mae: 1423.7488\n",
      "Epoch 17/100\n",
      "2/2 [==============================] - 0s 6ms/step - loss: 1411.5173 - mae: 1411.5173\n",
      "Epoch 18/100\n",
      "2/2 [==============================] - 0s 4ms/step - loss: 1399.4414 - mae: 1399.4414\n",
      "Epoch 19/100\n",
      "2/2 [==============================] - 0s 4ms/step - loss: 1387.1431 - mae: 1387.1431\n",
      "Epoch 20/100\n",
      "2/2 [==============================] - 0s 3ms/step - loss: 1375.0607 - mae: 1375.0607\n",
      "Epoch 21/100\n",
      "2/2 [==============================] - 0s 5ms/step - loss: 1362.7981 - mae: 1362.7981\n",
      "Epoch 22/100\n",
      "2/2 [==============================] - 0s 6ms/step - loss: 1350.6257 - mae: 1350.6257\n",
      "Epoch 23/100\n",
      "2/2 [==============================] - 0s 6ms/step - loss: 1338.5010 - mae: 1338.5010\n",
      "Epoch 24/100\n",
      "2/2 [==============================] - 0s 5ms/step - loss: 1326.1073 - mae: 1326.1073\n",
      "Epoch 25/100\n",
      "2/2 [==============================] - 0s 3ms/step - loss: 1314.1715 - mae: 1314.1715\n",
      "Epoch 26/100\n",
      "2/2 [==============================] - 0s 3ms/step - loss: 1302.1890 - mae: 1302.1890\n",
      "Epoch 27/100\n",
      "2/2 [==============================] - 0s 5ms/step - loss: 1290.0402 - mae: 1290.0402\n",
      "Epoch 28/100\n",
      "2/2 [==============================] - 0s 4ms/step - loss: 1277.5806 - mae: 1277.5806\n",
      "Epoch 29/100\n",
      "2/2 [==============================] - 0s 5ms/step - loss: 1265.3870 - mae: 1265.3870\n",
      "Epoch 30/100\n",
      "2/2 [==============================] - 0s 5ms/step - loss: 1253.0769 - mae: 1253.0769\n",
      "Epoch 31/100\n",
      "2/2 [==============================] - 0s 4ms/step - loss: 1241.0472 - mae: 1241.0472\n",
      "Epoch 32/100\n",
      "2/2 [==============================] - 0s 4ms/step - loss: 1229.1757 - mae: 1229.1757\n",
      "Epoch 33/100\n",
      "2/2 [==============================] - 0s 10ms/step - loss: 1217.2133 - mae: 1217.2133\n",
      "Epoch 34/100\n",
      "2/2 [==============================] - 0s 6ms/step - loss: 1205.1484 - mae: 1205.1484\n",
      "Epoch 35/100\n",
      "2/2 [==============================] - 0s 3ms/step - loss: 1193.2998 - mae: 1193.2998\n",
      "Epoch 36/100\n",
      "2/2 [==============================] - 0s 5ms/step - loss: 1181.4805 - mae: 1181.4805\n",
      "Epoch 37/100\n",
      "2/2 [==============================] - 0s 5ms/step - loss: 1169.5364 - mae: 1169.5364\n",
      "Epoch 38/100\n",
      "2/2 [==============================] - 0s 4ms/step - loss: 1157.4232 - mae: 1157.4232\n",
      "Epoch 39/100\n",
      "2/2 [==============================] - 0s 4ms/step - loss: 1145.4285 - mae: 1145.4285\n",
      "Epoch 40/100\n",
      "2/2 [==============================] - 0s 7ms/step - loss: 1133.6949 - mae: 1133.6949\n",
      "Epoch 41/100\n",
      "2/2 [==============================] - 0s 4ms/step - loss: 1121.9092 - mae: 1121.9092\n",
      "Epoch 42/100\n",
      "2/2 [==============================] - 0s 5ms/step - loss: 1109.9805 - mae: 1109.9805\n",
      "Epoch 43/100\n",
      "2/2 [==============================] - 0s 9ms/step - loss: 1097.6589 - mae: 1097.6591\n",
      "Epoch 44/100\n",
      "2/2 [==============================] - 0s 9ms/step - loss: 1085.7467 - mae: 1085.7467\n",
      "Epoch 45/100\n",
      "2/2 [==============================] - 0s 6ms/step - loss: 1073.8547 - mae: 1073.8547\n",
      "Epoch 46/100\n",
      "2/2 [==============================] - 0s 6ms/step - loss: 1062.0865 - mae: 1062.0865\n",
      "Epoch 47/100\n",
      "2/2 [==============================] - 0s 4ms/step - loss: 1050.5842 - mae: 1050.5842\n",
      "Epoch 48/100\n",
      "2/2 [==============================] - 0s 4ms/step - loss: 1038.9257 - mae: 1038.9257\n",
      "Epoch 49/100\n",
      "2/2 [==============================] - 0s 4ms/step - loss: 1027.0063 - mae: 1027.0063\n",
      "Epoch 50/100\n",
      "2/2 [==============================] - 0s 8ms/step - loss: 1014.8481 - mae: 1014.8481\n",
      "Epoch 51/100\n",
      "2/2 [==============================] - 0s 8ms/step - loss: 1002.7844 - mae: 1002.7844\n",
      "Epoch 52/100\n",
      "2/2 [==============================] - 0s 7ms/step - loss: 990.8146 - mae: 990.8146\n",
      "Epoch 53/100\n",
      "2/2 [==============================] - 0s 6ms/step - loss: 978.9059 - mae: 978.9059\n",
      "Epoch 54/100\n",
      "2/2 [==============================] - 0s 6ms/step - loss: 966.6238 - mae: 966.6238\n",
      "Epoch 55/100\n",
      "2/2 [==============================] - 0s 4ms/step - loss: 954.4595 - mae: 954.4595\n",
      "Epoch 56/100\n",
      "2/2 [==============================] - 0s 3ms/step - loss: 942.1674 - mae: 942.1675\n",
      "Epoch 57/100\n",
      "2/2 [==============================] - 0s 6ms/step - loss: 929.8561 - mae: 929.8561\n",
      "Epoch 58/100\n",
      "2/2 [==============================] - 0s 5ms/step - loss: 917.9044 - mae: 917.9044\n",
      "Epoch 59/100\n",
      "2/2 [==============================] - 0s 4ms/step - loss: 906.3970 - mae: 906.3970\n",
      "Epoch 60/100\n",
      "2/2 [==============================] - 0s 4ms/step - loss: 894.7935 - mae: 894.7935\n",
      "Epoch 61/100\n",
      "2/2 [==============================] - 0s 5ms/step - loss: 882.8301 - mae: 882.8301\n",
      "Epoch 62/100\n",
      "2/2 [==============================] - 0s 6ms/step - loss: 870.7333 - mae: 870.7333\n",
      "Epoch 63/100\n",
      "2/2 [==============================] - 0s 4ms/step - loss: 858.6088 - mae: 858.6088\n",
      "Epoch 64/100\n",
      "2/2 [==============================] - 0s 6ms/step - loss: 846.6359 - mae: 846.6359\n",
      "Epoch 65/100\n",
      "2/2 [==============================] - 0s 3ms/step - loss: 834.8433 - mae: 834.8433\n",
      "Epoch 66/100\n",
      "2/2 [==============================] - 0s 4ms/step - loss: 822.9013 - mae: 822.9013\n",
      "Epoch 67/100\n",
      "2/2 [==============================] - 0s 5ms/step - loss: 810.9295 - mae: 810.9295\n",
      "Epoch 68/100\n",
      "2/2 [==============================] - 0s 3ms/step - loss: 799.2952 - mae: 799.2952\n",
      "Epoch 69/100\n",
      "2/2 [==============================] - 0s 4ms/step - loss: 787.5737 - mae: 787.5737\n",
      "Epoch 70/100\n",
      "2/2 [==============================] - 0s 4ms/step - loss: 775.5283 - mae: 775.5283\n",
      "Epoch 71/100\n",
      "2/2 [==============================] - 0s 4ms/step - loss: 763.3742 - mae: 763.3742\n",
      "Epoch 72/100\n",
      "2/2 [==============================] - 0s 5ms/step - loss: 750.9959 - mae: 750.9959\n",
      "Epoch 73/100\n",
      "2/2 [==============================] - 0s 3ms/step - loss: 738.8293 - mae: 738.8293\n",
      "Epoch 74/100\n",
      "2/2 [==============================] - 0s 5ms/step - loss: 726.8138 - mae: 726.8138\n",
      "Epoch 75/100\n",
      "2/2 [==============================] - 0s 4ms/step - loss: 714.7847 - mae: 714.7847\n",
      "Epoch 76/100\n",
      "2/2 [==============================] - 0s 3ms/step - loss: 702.9172 - mae: 702.9172\n",
      "Epoch 77/100\n",
      "2/2 [==============================] - 0s 5ms/step - loss: 690.7375 - mae: 690.7375\n",
      "Epoch 78/100\n",
      "2/2 [==============================] - 0s 4ms/step - loss: 678.5991 - mae: 678.5991\n",
      "Epoch 79/100\n",
      "2/2 [==============================] - 0s 4ms/step - loss: 666.7402 - mae: 666.7402\n",
      "Epoch 80/100\n",
      "2/2 [==============================] - 0s 3ms/step - loss: 654.8176 - mae: 654.8176\n",
      "Epoch 81/100\n",
      "2/2 [==============================] - 0s 3ms/step - loss: 643.0042 - mae: 643.0042\n",
      "Epoch 82/100\n",
      "2/2 [==============================] - 0s 3ms/step - loss: 630.8633 - mae: 630.8633\n",
      "Epoch 83/100\n",
      "2/2 [==============================] - 0s 3ms/step - loss: 618.0709 - mae: 618.0709\n",
      "Epoch 84/100\n",
      "2/2 [==============================] - 0s 5ms/step - loss: 606.0760 - mae: 606.0760\n",
      "Epoch 85/100\n",
      "2/2 [==============================] - 0s 4ms/step - loss: 594.3226 - mae: 594.3226\n",
      "Epoch 86/100\n",
      "2/2 [==============================] - 0s 4ms/step - loss: 582.4383 - mae: 582.4383\n",
      "Epoch 87/100\n",
      "2/2 [==============================] - 0s 5ms/step - loss: 570.5009 - mae: 570.5009\n",
      "Epoch 88/100\n",
      "2/2 [==============================] - 0s 5ms/step - loss: 558.5170 - mae: 558.5170\n",
      "Epoch 89/100\n",
      "2/2 [==============================] - 0s 5ms/step - loss: 546.5264 - mae: 546.5264\n",
      "Epoch 90/100\n",
      "2/2 [==============================] - 0s 5ms/step - loss: 534.3667 - mae: 534.3667\n",
      "Epoch 91/100\n",
      "2/2 [==============================] - 0s 5ms/step - loss: 522.1213 - mae: 522.1213\n",
      "Epoch 92/100\n",
      "2/2 [==============================] - 0s 6ms/step - loss: 510.2162 - mae: 510.2162\n",
      "Epoch 93/100\n",
      "2/2 [==============================] - 0s 5ms/step - loss: 498.3481 - mae: 498.3481\n",
      "Epoch 94/100\n",
      "2/2 [==============================] - 0s 6ms/step - loss: 486.6767 - mae: 486.6767\n",
      "Epoch 95/100\n",
      "2/2 [==============================] - 0s 3ms/step - loss: 474.7036 - mae: 474.7036\n",
      "Epoch 96/100\n",
      "2/2 [==============================] - 0s 3ms/step - loss: 462.2712 - mae: 462.2712\n",
      "Epoch 97/100\n",
      "2/2 [==============================] - 0s 9ms/step - loss: 450.1893 - mae: 450.1893\n",
      "Epoch 98/100\n",
      "2/2 [==============================] - 0s 9ms/step - loss: 438.2712 - mae: 438.2712\n",
      "Epoch 99/100\n",
      "2/2 [==============================] - 0s 3ms/step - loss: 426.4657 - mae: 426.4657\n",
      "Epoch 100/100\n",
      "2/2 [==============================] - 0s 6ms/step - loss: 415.6056 - mae: 415.6056\n"
     ]
    },
    {
     "data": {
      "text/plain": [
       "<keras.callbacks.History at 0x1e51879e220>"
      ]
     },
     "execution_count": 39,
     "metadata": {},
     "output_type": "execute_result"
    }
   ],
   "source": [
    "# Lets build a new model\n",
    "model = tf.keras.Sequential([\n",
    "    tf.keras.layers.Dense(1)\n",
    "])\n",
    "\n",
    "# Compile\n",
    "model.compile(loss=tf.keras.losses.mae,\n",
    "optimizer=tf.keras.optimizers.SGD(),\n",
    "metrics=[\"mae\"])\n",
    "\n",
    "# Fit\n",
    "model.fit(X, Y, epochs=100)"
   ]
  },
  {
   "cell_type": "markdown",
   "metadata": {},
   "source": [
    "# Evaluating a model performance\n",
    "\n",
    "**To evaluate a model, you want to visualize a lot**\n",
    "\n",
    "But what?\n",
    "\n",
    "Its good to visualize:\n",
    "1. How is the data that we are wotking on\n",
    "2. The model? How does our model look\n",
    "3. How the model is perfoming while learning\n",
    "4. The predictions? Where the model is missing?"
   ]
  },
  {
   "cell_type": "code",
   "execution_count": 41,
   "metadata": {},
   "outputs": [
    {
     "data": {
      "image/png": "[encoded data removed]",
      "text/plain": [
       "<Figure size 432x288 with 1 Axes>"
      ]
     },
     "metadata": {
      "needs_background": "light"
     },
     "output_type": "display_data"
    }
   ],
   "source": [
    "# Look at the data!\n",
    "plt.scatter(X, Y);"
   ]
  },
  {
   "cell_type": "code",
   "execution_count": 4,
   "metadata": {},
   "outputs": [],
   "source": [
    "# Split X and Y\n",
    "xtr, xte, ytr, yte = train_test_split(np.array(X), np.array(Y), test_size=0.20)"
   ]
  },
  {
   "cell_type": "code",
   "execution_count": 5,
   "metadata": {},
   "outputs": [
    {
     "name": "stderr",
     "output_type": "stream",
     "text": [
      "C:\\Users\\pedro\\AppData\\Local\\Temp\\ipykernel_19312\\541986225.py:10: FutureWarning: The frame.append method is deprecated and will be removed from pandas in a future version. Use pandas.concat instead.\n",
      "  data = d1.append(d2)\n"
     ]
    },
    {
     "data": {
      "text/plain": [
       "<AxesSubplot:xlabel='X', ylabel='Y'>"
      ]
     },
     "execution_count": 5,
     "metadata": {},
     "output_type": "execute_result"
    },
    {
     "data": {
      "image/png": "[encoded data removed]",
      "text/plain": [
       "<Figure size 432x288 with 1 Axes>"
      ]
     },
     "metadata": {
      "needs_background": "light"
     },
     "output_type": "display_data"
    }
   ],
   "source": [
    "# Plot train and test data together\n",
    "d1 = pd.DataFrame(xtr, columns=[\"X\"])\n",
    "d1[\"Y\"] = ytr\n",
    "d1[\"set\"] = \"train\"\n",
    "\n",
    "d2 = pd.DataFrame(xte, columns=[\"X\"])\n",
    "d2[\"Y\"] = yte\n",
    "d2[\"set\"] = \"test\"\n",
    "\n",
    "data = d1.append(d2)\n",
    "sns.scatterplot(data=data, x=\"X\", y=\"Y\", hue=\"set\")"
   ]
  },
  {
   "cell_type": "code",
   "execution_count": 16,
   "metadata": {},
   "outputs": [
    {
     "name": "stdout",
     "output_type": "stream",
     "text": [
      "Epoch 1/100\n",
      "2/2 [==============================] - 0s 3ms/step - loss: 692.0898 - mae: 692.0898\n",
      "Epoch 2/100\n",
      "2/2 [==============================] - 0s 2ms/step - loss: 684.9796 - mae: 684.9796\n",
      "Epoch 3/100\n",
      "2/2 [==============================] - 0s 3ms/step - loss: 669.7499 - mae: 669.7499\n",
      "Epoch 4/100\n",
      "2/2 [==============================] - 0s 3ms/step - loss: 651.6057 - mae: 651.6057\n",
      "Epoch 5/100\n",
      "2/2 [==============================] - 0s 3ms/step - loss: 633.8337 - mae: 633.8337\n",
      "Epoch 6/100\n",
      "2/2 [==============================] - 0s 3ms/step - loss: 637.3434 - mae: 637.3434\n",
      "Epoch 7/100\n",
      "2/2 [==============================] - 0s 5ms/step - loss: 634.0389 - mae: 634.0389\n",
      "Epoch 8/100\n",
      "2/2 [==============================] - 0s 3ms/step - loss: 633.7985 - mae: 633.7985\n",
      "Epoch 9/100\n",
      "2/2 [==============================] - 0s 5ms/step - loss: 633.5480 - mae: 633.5480\n",
      "Epoch 10/100\n",
      "2/2 [==============================] - 0s 2ms/step - loss: 633.4204 - mae: 633.4204\n",
      "Epoch 11/100\n",
      "2/2 [==============================] - 0s 3ms/step - loss: 633.2823 - mae: 633.2823\n",
      "Epoch 12/100\n",
      "2/2 [==============================] - 0s 3ms/step - loss: 634.1941 - mae: 634.1941\n",
      "Epoch 13/100\n",
      "2/2 [==============================] - 0s 3ms/step - loss: 644.4739 - mae: 644.4739\n",
      "Epoch 14/100\n",
      "2/2 [==============================] - 0s 3ms/step - loss: 644.2446 - mae: 644.2446\n",
      "Epoch 15/100\n",
      "2/2 [==============================] - 0s 6ms/step - loss: 640.0392 - mae: 640.0392\n",
      "Epoch 16/100\n",
      "2/2 [==============================] - 0s 5ms/step - loss: 633.4083 - mae: 633.4083\n",
      "Epoch 17/100\n",
      "2/2 [==============================] - 0s 2ms/step - loss: 633.5766 - mae: 633.5766\n",
      "Epoch 18/100\n",
      "2/2 [==============================] - 0s 4ms/step - loss: 633.7986 - mae: 633.7986\n",
      "Epoch 19/100\n",
      "2/2 [==============================] - 0s 2ms/step - loss: 633.3406 - mae: 633.3406\n",
      "Epoch 20/100\n",
      "2/2 [==============================] - 0s 7ms/step - loss: 634.4139 - mae: 634.4139\n",
      "Epoch 21/100\n",
      "2/2 [==============================] - 0s 4ms/step - loss: 637.1573 - mae: 637.1573\n",
      "Epoch 22/100\n",
      "2/2 [==============================] - 0s 4ms/step - loss: 638.4055 - mae: 638.4055\n",
      "Epoch 23/100\n",
      "2/2 [==============================] - 0s 2ms/step - loss: 636.7936 - mae: 636.7936\n",
      "Epoch 24/100\n",
      "2/2 [==============================] - 0s 4ms/step - loss: 641.6625 - mae: 641.6625\n",
      "Epoch 25/100\n",
      "2/2 [==============================] - 0s 3ms/step - loss: 634.9828 - mae: 634.9828\n",
      "Epoch 26/100\n",
      "2/2 [==============================] - 0s 5ms/step - loss: 639.9175 - mae: 639.9175\n",
      "Epoch 27/100\n",
      "2/2 [==============================] - 0s 4ms/step - loss: 633.6285 - mae: 633.6285\n",
      "Epoch 28/100\n",
      "2/2 [==============================] - 0s 4ms/step - loss: 635.0129 - mae: 635.0129\n",
      "Epoch 29/100\n",
      "2/2 [==============================] - 0s 4ms/step - loss: 638.8393 - mae: 638.8393\n",
      "Epoch 30/100\n",
      "2/2 [==============================] - 0s 7ms/step - loss: 641.5173 - mae: 641.5173\n",
      "Epoch 31/100\n",
      "2/2 [==============================] - 0s 2ms/step - loss: 636.2513 - mae: 636.2513\n",
      "Epoch 32/100\n",
      "2/2 [==============================] - 0s 5ms/step - loss: 638.0328 - mae: 638.0328\n",
      "Epoch 33/100\n",
      "2/2 [==============================] - 0s 3ms/step - loss: 636.2909 - mae: 636.2909\n",
      "Epoch 34/100\n",
      "2/2 [==============================] - 0s 8ms/step - loss: 643.1301 - mae: 643.1301\n",
      "Epoch 35/100\n",
      "2/2 [==============================] - 0s 3ms/step - loss: 633.4940 - mae: 633.4940\n",
      "Epoch 36/100\n",
      "2/2 [==============================] - 0s 5ms/step - loss: 639.5994 - mae: 639.5994\n",
      "Epoch 37/100\n",
      "2/2 [==============================] - 0s 3ms/step - loss: 643.8677 - mae: 643.8677\n",
      "Epoch 38/100\n",
      "2/2 [==============================] - 0s 2ms/step - loss: 642.1253 - mae: 642.1253\n",
      "Epoch 39/100\n",
      "2/2 [==============================] - 0s 3ms/step - loss: 640.8559 - mae: 640.8559\n",
      "Epoch 40/100\n",
      "2/2 [==============================] - 0s 3ms/step - loss: 633.9223 - mae: 633.9223\n",
      "Epoch 41/100\n",
      "2/2 [==============================] - 0s 3ms/step - loss: 639.1411 - mae: 639.1411\n",
      "Epoch 42/100\n",
      "2/2 [==============================] - 0s 5ms/step - loss: 634.7316 - mae: 634.7316\n",
      "Epoch 43/100\n",
      "2/2 [==============================] - 0s 3ms/step - loss: 634.5377 - mae: 634.5377\n",
      "Epoch 44/100\n",
      "2/2 [==============================] - 0s 3ms/step - loss: 648.5967 - mae: 648.5967\n",
      "Epoch 45/100\n",
      "2/2 [==============================] - 0s 6ms/step - loss: 636.4281 - mae: 636.4281\n",
      "Epoch 46/100\n",
      "2/2 [==============================] - 0s 3ms/step - loss: 635.7440 - mae: 635.7440\n",
      "Epoch 47/100\n",
      "2/2 [==============================] - 0s 3ms/step - loss: 635.6029 - mae: 635.6029\n",
      "Epoch 48/100\n",
      "2/2 [==============================] - 0s 2ms/step - loss: 649.2958 - mae: 649.2958\n",
      "Epoch 49/100\n",
      "2/2 [==============================] - 0s 3ms/step - loss: 648.2471 - mae: 648.2471\n",
      "Epoch 50/100\n",
      "2/2 [==============================] - 0s 5ms/step - loss: 635.8893 - mae: 635.8893\n",
      "Epoch 51/100\n",
      "2/2 [==============================] - 0s 3ms/step - loss: 635.3660 - mae: 635.3660\n",
      "Epoch 52/100\n",
      "2/2 [==============================] - 0s 5ms/step - loss: 633.3870 - mae: 633.3870\n",
      "Epoch 53/100\n",
      "2/2 [==============================] - 0s 5ms/step - loss: 634.8221 - mae: 634.8221\n",
      "Epoch 54/100\n",
      "2/2 [==============================] - 0s 3ms/step - loss: 641.9559 - mae: 641.9559\n",
      "Epoch 55/100\n",
      "2/2 [==============================] - 0s 6ms/step - loss: 644.6168 - mae: 644.6168\n",
      "Epoch 56/100\n",
      "2/2 [==============================] - 0s 3ms/step - loss: 635.5361 - mae: 635.5361\n",
      "Epoch 57/100\n",
      "2/2 [==============================] - 0s 5ms/step - loss: 633.9921 - mae: 633.9921\n",
      "Epoch 58/100\n",
      "2/2 [==============================] - 0s 3ms/step - loss: 633.2043 - mae: 633.2043\n",
      "Epoch 59/100\n",
      "2/2 [==============================] - 0s 5ms/step - loss: 634.6319 - mae: 634.6319\n",
      "Epoch 60/100\n",
      "2/2 [==============================] - 0s 3ms/step - loss: 633.8254 - mae: 633.8254\n",
      "Epoch 61/100\n",
      "2/2 [==============================] - 0s 2ms/step - loss: 635.3246 - mae: 635.3246\n",
      "Epoch 62/100\n",
      "2/2 [==============================] - 0s 2ms/step - loss: 634.8336 - mae: 634.8336\n",
      "Epoch 63/100\n",
      "2/2 [==============================] - 0s 4ms/step - loss: 636.1293 - mae: 636.1293\n",
      "Epoch 64/100\n",
      "2/2 [==============================] - 0s 6ms/step - loss: 633.0414 - mae: 633.0414\n",
      "Epoch 65/100\n",
      "2/2 [==============================] - 0s 2ms/step - loss: 634.3843 - mae: 634.3843\n",
      "Epoch 66/100\n",
      "2/2 [==============================] - 0s 6ms/step - loss: 638.3934 - mae: 638.3934\n",
      "Epoch 67/100\n",
      "2/2 [==============================] - 0s 2ms/step - loss: 637.4758 - mae: 637.4758\n",
      "Epoch 68/100\n",
      "2/2 [==============================] - 0s 3ms/step - loss: 642.9312 - mae: 642.9312\n",
      "Epoch 69/100\n",
      "2/2 [==============================] - 0s 3ms/step - loss: 635.8217 - mae: 635.8217\n",
      "Epoch 70/100\n",
      "2/2 [==============================] - 0s 3ms/step - loss: 633.3990 - mae: 633.3990\n",
      "Epoch 71/100\n",
      "2/2 [==============================] - 0s 4ms/step - loss: 636.3102 - mae: 636.3102\n",
      "Epoch 72/100\n",
      "2/2 [==============================] - 0s 3ms/step - loss: 634.8589 - mae: 634.8589\n",
      "Epoch 73/100\n",
      "2/2 [==============================] - 0s 7ms/step - loss: 640.7052 - mae: 640.7052\n",
      "Epoch 74/100\n",
      "2/2 [==============================] - 0s 3ms/step - loss: 651.9680 - mae: 651.9680\n",
      "Epoch 75/100\n",
      "2/2 [==============================] - 0s 3ms/step - loss: 634.6077 - mae: 634.6077\n",
      "Epoch 76/100\n",
      "2/2 [==============================] - 0s 3ms/step - loss: 634.0571 - mae: 634.0571\n",
      "Epoch 77/100\n",
      "2/2 [==============================] - 0s 3ms/step - loss: 650.1081 - mae: 650.1081\n",
      "Epoch 78/100\n",
      "2/2 [==============================] - 0s 2ms/step - loss: 636.0532 - mae: 636.0532\n",
      "Epoch 79/100\n",
      "2/2 [==============================] - 0s 3ms/step - loss: 633.3386 - mae: 633.3386\n",
      "Epoch 80/100\n",
      "2/2 [==============================] - 0s 5ms/step - loss: 634.1364 - mae: 634.1364\n",
      "Epoch 81/100\n",
      "2/2 [==============================] - 0s 4ms/step - loss: 635.1808 - mae: 635.1808\n",
      "Epoch 82/100\n",
      "2/2 [==============================] - 0s 4ms/step - loss: 641.9559 - mae: 641.9559\n",
      "Epoch 83/100\n",
      "2/2 [==============================] - 0s 2ms/step - loss: 646.2806 - mae: 646.2806\n",
      "Epoch 84/100\n",
      "2/2 [==============================] - 0s 4ms/step - loss: 633.4366 - mae: 633.4366\n",
      "Epoch 85/100\n",
      "2/2 [==============================] - 0s 3ms/step - loss: 636.2508 - mae: 636.2508\n",
      "Epoch 86/100\n",
      "2/2 [==============================] - 0s 3ms/step - loss: 641.1646 - mae: 641.1646\n",
      "Epoch 87/100\n",
      "2/2 [==============================] - 0s 4ms/step - loss: 646.6418 - mae: 646.6418\n",
      "Epoch 88/100\n",
      "2/2 [==============================] - 0s 6ms/step - loss: 633.1171 - mae: 633.1171\n",
      "Epoch 89/100\n",
      "2/2 [==============================] - 0s 2ms/step - loss: 636.1816 - mae: 636.1816\n",
      "Epoch 90/100\n",
      "2/2 [==============================] - 0s 4ms/step - loss: 639.3861 - mae: 639.3861\n",
      "Epoch 91/100\n",
      "2/2 [==============================] - 0s 4ms/step - loss: 633.7630 - mae: 633.7630\n",
      "Epoch 92/100\n",
      "2/2 [==============================] - 0s 3ms/step - loss: 633.7859 - mae: 633.7859\n",
      "Epoch 93/100\n",
      "2/2 [==============================] - 0s 7ms/step - loss: 643.2086 - mae: 643.2086\n",
      "Epoch 94/100\n",
      "2/2 [==============================] - 0s 6ms/step - loss: 651.6675 - mae: 651.6675\n",
      "Epoch 95/100\n",
      "2/2 [==============================] - 0s 37ms/step - loss: 634.1046 - mae: 634.1046\n",
      "Epoch 96/100\n",
      "2/2 [==============================] - 0s 4ms/step - loss: 633.4515 - mae: 633.4515\n",
      "Epoch 97/100\n",
      "2/2 [==============================] - 0s 4ms/step - loss: 634.9258 - mae: 634.9258\n",
      "Epoch 98/100\n",
      "2/2 [==============================] - 0s 4ms/step - loss: 633.4126 - mae: 633.4126\n",
      "Epoch 99/100\n",
      "2/2 [==============================] - 0s 13ms/step - loss: 633.3386 - mae: 633.3386\n",
      "Epoch 100/100\n",
      "2/2 [==============================] - 0s 4ms/step - loss: 633.2886 - mae: 633.2886\n"
     ]
    },
    {
     "data": {
      "text/plain": [
       "<keras.callbacks.History at 0x1802f805070>"
      ]
     },
     "execution_count": 16,
     "metadata": {},
     "output_type": "execute_result"
    }
   ],
   "source": [
    "# Lets build a new NN\n",
    "model = tf.keras.Sequential([\n",
    "    tf.keras.layers.Dense(10, input_shape=[1], name=\"input_layer\"),\n",
    "    tf.keras.layers.Dense(1, name=\"output_layer\"),\n",
    "])\n",
    "\n",
    "# Compile the model\n",
    "model.compile(loss=tf.keras.losses.mae,\n",
    "    optimizer=tf.keras.optimizers.SGD(),\n",
    "    metrics=[\"mae\"]\n",
    ")\n",
    "\n",
    "# Fit\n",
    "model.fit(xtr, ytr, epochs=100)"
   ]
  },
  {
   "cell_type": "code",
   "execution_count": 64,
   "metadata": {},
   "outputs": [
    {
     "name": "stdout",
     "output_type": "stream",
     "text": [
      "Model: \"sequential_7\"\n",
      "_________________________________________________________________\n",
      " Layer (type)                Output Shape              Param #   \n",
      "=================================================================\n",
      " dense_8 (Dense)             (None, 1)                 2         \n",
      "                                                                 \n",
      "=================================================================\n",
      "Total params: 2\n",
      "Trainable params: 2\n",
      "Non-trainable params: 0\n",
      "_________________________________________________________________\n"
     ]
    }
   ],
   "source": [
    "# # I want to see the summary of the model but tensorflow says that i need to build it first, so lets build the model\n",
    "# model = tf.keras.Sequential([\n",
    "#     tf.keras.layers.Dense(1, input_shape=[1]) # Input shape is one, vector\n",
    "# ])\n",
    "\n",
    "# # Compile the model\n",
    "# model.compile(loss=tf.keras.losses.mae,\n",
    "#     optimizer=tf.keras.optimizers.SGD(),\n",
    "#     metrics=[\"mae\"])\n",
    "\n",
    "# model.summary() # IT WORKS!"
   ]
  },
  {
   "cell_type": "markdown",
   "metadata": {},
   "source": [
    "Summary returns:\n",
    "- The output shape\n",
    "- The layers and its types\n",
    "- Trainable parameters: Number of parameters that the model can change while training\n",
    "- Total parameters: Total number of parameters\n",
    "- Non-trainable parameters: Freezed parameters, the model will not change these (normal when ussing pre saved models)\n",
    "\n",
    "What are this parameters?\n",
    "- Bias\n",
    "- Weights\n",
    "\n",
    "Learn more her: https://www.youtube.com/watch?v=7sB052Pz0sQ&ab_channel=AlexanderAmini"
   ]
  },
  {
   "cell_type": "code",
   "execution_count": null,
   "metadata": {},
   "outputs": [],
   "source": []
  }
 ],
 "metadata": {
  "kernelspec": {
   "display_name": "Python 3.9.12 ('base')",
   "language": "python",
   "name": "python3"
  },
  "language_info": {
   "codemirror_mode": {
    "name": "ipython",
    "version": 3
   },
   "file_extension": ".py",
   "mimetype": "text/x-python",
   "name": "python",
   "nbconvert_exporter": "python",
   "pygments_lexer": "ipython3",
   "version": "3.9.12"
  },
  "orig_nbformat": 4,
  "vscode": {
   "interpreter": {
    "hash": "190605ead3d59fdd7149d57090309db6515571225da4d448ac9f06d043bf74ec"
   }
  }
 },
 "nbformat": 4,
 "nbformat_minor": 2
}
