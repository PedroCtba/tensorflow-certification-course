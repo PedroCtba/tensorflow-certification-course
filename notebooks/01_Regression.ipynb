{
 "cells": [
  {
   "cell_type": "markdown",
   "metadata": {},
   "source": [
    "# Imports"
   ]
  },
  {
   "cell_type": "code",
   "execution_count": 5,
   "metadata": {},
   "outputs": [
    {
     "name": "stdout",
     "output_type": "stream",
     "text": [
      "Tensor flow version: 2.9.1\n"
     ]
    }
   ],
   "source": [
    "import tensorflow as tf\n",
    "import pandas as pd\n",
    "import numpy as np\n",
    "import matplotlib.pyplot as plt\n",
    "\n",
    "print(\"Tensor flow version:\", tf.__version__)"
   ]
  },
  {
   "cell_type": "markdown",
   "metadata": {},
   "source": [
    "# Basic architecture of a NN\n",
    "\n",
    "* Input layer: same as the number of samples\n",
    "* Hidden layer: Unlimited, minumum 1\n",
    "* Output layer: same as the number of desired outputs (number of classes, if regression, 1)\n",
    "\n",
    "***there are more parameters, they will be covered in more detail latter***"
   ]
  },
  {
   "cell_type": "markdown",
   "metadata": {},
   "source": [
    "**Regression problem, is simple words, is predicting a number, so lets get going! :)**"
   ]
  },
  {
   "cell_type": "code",
   "execution_count": 15,
   "metadata": {},
   "outputs": [
    {
     "data": {
      "image/png": "[encoded data removed]",
      "text/plain": [
       "<Figure size 432x288 with 1 Axes>"
      ]
     },
     "metadata": {
      "needs_background": "light"
     },
     "output_type": "display_data"
    }
   ],
   "source": [
    "# Lets create some data to fit\n",
    "X = np.array([-32.5, -25.8, -15, -8.6, 5, 6.1, 10, 12, 15, 16, 20])\n",
    "Y = np.array([3.0, 6.0, 9.0, 12.0, 15.0, 18.0, 21.0, 24.0, 30, 50, 60])\n",
    "\n",
    "# Scater\n",
    "plt.scatter(X, Y);"
   ]
  },
  {
   "cell_type": "markdown",
   "metadata": {},
   "source": [
    "# Inputs and outputs shapes"
   ]
  },
  {
   "cell_type": "code",
   "execution_count": 18,
   "metadata": {},
   "outputs": [
    {
     "data": {
      "text/plain": [
       "()"
      ]
     },
     "execution_count": 18,
     "metadata": {},
     "output_type": "execute_result"
    }
   ],
   "source": [
    "# Input shape\n",
    "X[0].shape"
   ]
  },
  {
   "cell_type": "code",
   "execution_count": 19,
   "metadata": {},
   "outputs": [
    {
     "data": {
      "text/plain": [
       "()"
      ]
     },
     "execution_count": 19,
     "metadata": {},
     "output_type": "execute_result"
    }
   ],
   "source": [
    "# Output shape\n",
    "Y[0].shape"
   ]
  },
  {
   "cell_type": "markdown",
   "metadata": {},
   "source": [
    "**But hold ON! If you try to train the model with this, you will encounter problems, bexause tensorflow 2.7+ requires the data to have at least 2 dimensions, in your case the data has 1 dimension mathematicaly speaking, and 0 (\"tensorflowing\" speaking)**\n",
    "\n",
    "***lets fix the data dimensions***"
   ]
  },
  {
   "cell_type": "code",
   "execution_count": 21,
   "metadata": {},
   "outputs": [],
   "source": [
    "X = tf.expand_dims(X, axis=-1)\n",
    "Y = tf.expand_dims(Y, axis=-1)"
   ]
  },
  {
   "cell_type": "markdown",
   "metadata": {},
   "source": [
    "**This is odd, but correct, because the input is a scalar, with has 0 dimensions in tensor flow, and the output as 0 dimensions too**"
   ]
  },
  {
   "cell_type": "code",
   "execution_count": 22,
   "metadata": {},
   "outputs": [
    {
     "name": "stdout",
     "output_type": "stream",
     "text": [
      "Epoch 1/50\n",
      "1/1 [==============================] - 1s 549ms/step - loss: 22.5141 - mae: 22.5141\n",
      "Epoch 2/50\n",
      "1/1 [==============================] - 0s 3ms/step - loss: 22.5037 - mae: 22.5037\n",
      "Epoch 3/50\n",
      "1/1 [==============================] - 0s 3ms/step - loss: 22.4933 - mae: 22.4933\n",
      "Epoch 4/50\n",
      "1/1 [==============================] - 0s 3ms/step - loss: 22.4829 - mae: 22.4829\n",
      "Epoch 5/50\n",
      "1/1 [==============================] - 0s 4ms/step - loss: 22.4725 - mae: 22.4725\n",
      "Epoch 6/50\n",
      "1/1 [==============================] - 0s 3ms/step - loss: 22.4621 - mae: 22.4621\n",
      "Epoch 7/50\n",
      "1/1 [==============================] - 0s 4ms/step - loss: 22.4517 - mae: 22.4517\n",
      "Epoch 8/50\n",
      "1/1 [==============================] - 0s 3ms/step - loss: 22.4413 - mae: 22.4413\n",
      "Epoch 9/50\n",
      "1/1 [==============================] - 0s 5ms/step - loss: 22.4309 - mae: 22.4309\n",
      "Epoch 10/50\n",
      "1/1 [==============================] - 0s 5ms/step - loss: 22.4205 - mae: 22.4205\n",
      "Epoch 11/50\n",
      "1/1 [==============================] - 0s 5ms/step - loss: 22.4101 - mae: 22.4101\n",
      "Epoch 12/50\n",
      "1/1 [==============================] - 0s 4ms/step - loss: 22.3997 - mae: 22.3997\n",
      "Epoch 13/50\n",
      "1/1 [==============================] - 0s 4ms/step - loss: 22.3893 - mae: 22.3893\n",
      "Epoch 14/50\n",
      "1/1 [==============================] - 0s 6ms/step - loss: 22.3789 - mae: 22.3789\n",
      "Epoch 15/50\n",
      "1/1 [==============================] - 0s 5ms/step - loss: 22.3685 - mae: 22.3685\n",
      "Epoch 16/50\n",
      "1/1 [==============================] - 0s 3ms/step - loss: 22.3581 - mae: 22.3581\n",
      "Epoch 17/50\n",
      "1/1 [==============================] - 0s 10ms/step - loss: 22.3477 - mae: 22.3477\n",
      "Epoch 18/50\n",
      "1/1 [==============================] - 0s 3ms/step - loss: 22.3373 - mae: 22.3373\n",
      "Epoch 19/50\n",
      "1/1 [==============================] - 0s 4ms/step - loss: 22.3269 - mae: 22.3269\n",
      "Epoch 20/50\n",
      "1/1 [==============================] - 0s 4ms/step - loss: 22.3165 - mae: 22.3165\n",
      "Epoch 21/50\n",
      "1/1 [==============================] - 0s 3ms/step - loss: 22.3061 - mae: 22.3061\n",
      "Epoch 22/50\n",
      "1/1 [==============================] - 0s 3ms/step - loss: 22.2957 - mae: 22.2957\n",
      "Epoch 23/50\n",
      "1/1 [==============================] - 0s 6ms/step - loss: 22.2853 - mae: 22.2853\n",
      "Epoch 24/50\n",
      "1/1 [==============================] - 0s 5ms/step - loss: 22.2749 - mae: 22.2749\n",
      "Epoch 25/50\n",
      "1/1 [==============================] - 0s 5ms/step - loss: 22.2645 - mae: 22.2645\n",
      "Epoch 26/50\n",
      "1/1 [==============================] - 0s 7ms/step - loss: 22.2541 - mae: 22.2541\n",
      "Epoch 27/50\n",
      "1/1 [==============================] - 0s 4ms/step - loss: 22.2437 - mae: 22.2437\n",
      "Epoch 28/50\n",
      "1/1 [==============================] - 0s 4ms/step - loss: 22.2333 - mae: 22.2333\n",
      "Epoch 29/50\n",
      "1/1 [==============================] - 0s 5ms/step - loss: 22.2229 - mae: 22.2229\n",
      "Epoch 30/50\n",
      "1/1 [==============================] - 0s 5ms/step - loss: 22.2125 - mae: 22.2125\n",
      "Epoch 31/50\n",
      "1/1 [==============================] - 0s 13ms/step - loss: 22.2021 - mae: 22.2021\n",
      "Epoch 32/50\n",
      "1/1 [==============================] - 0s 4ms/step - loss: 22.1917 - mae: 22.1917\n",
      "Epoch 33/50\n",
      "1/1 [==============================] - 0s 4ms/step - loss: 22.1813 - mae: 22.1813\n",
      "Epoch 34/50\n",
      "1/1 [==============================] - 0s 4ms/step - loss: 22.1709 - mae: 22.1709\n",
      "Epoch 35/50\n",
      "1/1 [==============================] - 0s 4ms/step - loss: 22.1605 - mae: 22.1605\n",
      "Epoch 36/50\n",
      "1/1 [==============================] - 0s 6ms/step - loss: 22.1501 - mae: 22.1501\n",
      "Epoch 37/50\n",
      "1/1 [==============================] - 0s 7ms/step - loss: 22.1397 - mae: 22.1397\n",
      "Epoch 38/50\n",
      "1/1 [==============================] - 0s 5ms/step - loss: 22.1293 - mae: 22.1293\n",
      "Epoch 39/50\n",
      "1/1 [==============================] - 0s 5ms/step - loss: 22.1189 - mae: 22.1189\n",
      "Epoch 40/50\n",
      "1/1 [==============================] - 0s 5ms/step - loss: 22.1085 - mae: 22.1085\n",
      "Epoch 41/50\n",
      "1/1 [==============================] - 0s 3ms/step - loss: 22.0981 - mae: 22.0981\n",
      "Epoch 42/50\n",
      "1/1 [==============================] - 0s 5ms/step - loss: 22.0877 - mae: 22.0877\n",
      "Epoch 43/50\n",
      "1/1 [==============================] - 0s 7ms/step - loss: 22.0773 - mae: 22.0773\n",
      "Epoch 44/50\n",
      "1/1 [==============================] - 0s 6ms/step - loss: 22.0669 - mae: 22.0669\n",
      "Epoch 45/50\n",
      "1/1 [==============================] - 0s 6ms/step - loss: 22.0565 - mae: 22.0565\n",
      "Epoch 46/50\n",
      "1/1 [==============================] - 0s 5ms/step - loss: 22.0461 - mae: 22.0461\n",
      "Epoch 47/50\n",
      "1/1 [==============================] - 0s 64ms/step - loss: 22.0357 - mae: 22.0357\n",
      "Epoch 48/50\n",
      "1/1 [==============================] - 0s 5ms/step - loss: 22.0253 - mae: 22.0253\n",
      "Epoch 49/50\n",
      "1/1 [==============================] - 0s 4ms/step - loss: 22.0149 - mae: 22.0149\n",
      "Epoch 50/50\n",
      "1/1 [==============================] - 0s 3ms/step - loss: 22.0045 - mae: 22.0045\n"
     ]
    },
    {
     "data": {
      "text/plain": [
       "<keras.callbacks.History at 0x11c059d0160>"
      ]
     },
     "execution_count": 22,
     "metadata": {},
     "output_type": "execute_result"
    }
   ],
   "source": [
    "# Let\"s build a model to fit this problem\n",
    "\n",
    "# Step 1: Create a model: Define the layers (input, hidden, output, and maybe others)\n",
    "\n",
    "# Set random seed\n",
    "tf.random.set_seed(32)\n",
    "\n",
    "# Model\n",
    "model = tf.keras.Sequential([ # -> Sequential API make the layers in the coded order\n",
    "    tf.keras.layers.Dense(1) # -> Just one layer by now (one output and one input)\n",
    "])\n",
    "\n",
    "# Step 2: Compile the model \n",
    "model.compile(\n",
    "    loss=tf.keras.losses.mae, # Mean Absolute Error\n",
    "    optimizer=tf.keras.optimizers.SGD(), # Stochastic Gradient Descent\n",
    "    metrics=[\"mae\"] # See how the model is going with this metric\n",
    ")\n",
    "\n",
    "## Define the loss function: The funciton that says how much the model is wrong;\n",
    "## Define the optimizer: The funcitons that says how your model can improve;\n",
    "## Dine eval metrics: The functions that can interpret the performance of your model;\n",
    "\n",
    "# Step 3: Fitting the model: Letting the model find the relations\n",
    "model.fit(X, Y, epochs=50) # -> How have 50 epochs to learn the patterns"
   ]
  },
  {
   "cell_type": "code",
   "execution_count": 23,
   "metadata": {},
   "outputs": [
    {
     "data": {
      "text/plain": [
       "(<tf.Tensor: shape=(11, 1), dtype=float64, numpy=\n",
       " array([[-32.5],\n",
       "        [-25.8],\n",
       "        [-15. ],\n",
       "        [ -8.6],\n",
       "        [  5. ],\n",
       "        [  6.1],\n",
       "        [ 10. ],\n",
       "        [ 12. ],\n",
       "        [ 15. ],\n",
       "        [ 16. ],\n",
       "        [ 20. ]])>,\n",
       " <tf.Tensor: shape=(11, 1), dtype=float64, numpy=\n",
       " array([[ 3.],\n",
       "        [ 6.],\n",
       "        [ 9.],\n",
       "        [12.],\n",
       "        [15.],\n",
       "        [18.],\n",
       "        [21.],\n",
       "        [24.],\n",
       "        [30.],\n",
       "        [50.],\n",
       "        [60.]])>)"
      ]
     },
     "execution_count": 23,
     "metadata": {},
     "output_type": "execute_result"
    }
   ],
   "source": [
    "# Check out X and Y\n",
    "X, Y"
   ]
  },
  {
   "cell_type": "code",
   "execution_count": 25,
   "metadata": {},
   "outputs": [
    {
     "name": "stdout",
     "output_type": "stream",
     "text": [
      "1/1 [==============================] - 0s 63ms/step\n"
     ]
    },
    {
     "data": {
      "text/plain": [
       "array([[3.5791779]], dtype=float32)"
      ]
     },
     "execution_count": 25,
     "metadata": {},
     "output_type": "execute_result"
    }
   ],
   "source": [
    "# Predict ussing the model\n",
    "model.predict([12])"
   ]
  },
  {
   "cell_type": "markdown",
   "metadata": {},
   "source": [
    "**Okay, your predictions are a shit, how to improve them?**\n",
    "\n",
    "# Improving the model"
   ]
  },
  {
   "cell_type": "code",
   "execution_count": null,
   "metadata": {},
   "outputs": [],
   "source": []
  }
 ],
 "metadata": {
  "kernelspec": {
   "display_name": "Python 3.9.12 ('base')",
   "language": "python",
   "name": "python3"
  },
  "language_info": {
   "codemirror_mode": {
    "name": "ipython",
    "version": 3
   },
   "file_extension": ".py",
   "mimetype": "text/x-python",
   "name": "python",
   "nbconvert_exporter": "python",
   "pygments_lexer": "ipython3",
   "version": "3.9.12"
  },
  "orig_nbformat": 4,
  "vscode": {
   "interpreter": {
    "hash": "190605ead3d59fdd7149d57090309db6515571225da4d448ac9f06d043bf74ec"
   }
  }
 },
 "nbformat": 4,
 "nbformat_minor": 2
}
