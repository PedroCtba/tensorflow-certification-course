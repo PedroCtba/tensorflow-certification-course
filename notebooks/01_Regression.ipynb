{
 "cells": [
  {
   "cell_type": "markdown",
   "metadata": {},
   "source": [
    "# Imports"
   ]
  },
  {
   "cell_type": "code",
   "execution_count": 2,
   "metadata": {},
   "outputs": [
    {
     "name": "stdout",
     "output_type": "stream",
     "text": [
      "Tensor flow version: 2.9.1\n"
     ]
    }
   ],
   "source": [
    "import tensorflow as tf\n",
    "import pandas as pd\n",
    "import numpy as np\n",
    "import seaborn as sns\n",
    "import matplotlib.pyplot as plt\n",
    "from random import randint\n",
    "\n",
    "from tensorflow.keras.utils import plot_model\n",
    "from sklearn.model_selection import train_test_split\n",
    "\n",
    "print(\"Tensor flow version:\", tf.__version__)"
   ]
  },
  {
   "cell_type": "markdown",
   "metadata": {},
   "source": [
    "# Basic architecture of a NN\n",
    "\n",
    "* Input layer: same as the number of samples\n",
    "* Hidden layer: Unlimited, minumum 1\n",
    "* Output layer: same as the number of desired outputs (number of classes, if regression, 1)\n",
    "\n",
    "***there are more parameters, they will be covered in more detail latter***"
   ]
  },
  {
   "cell_type": "markdown",
   "metadata": {},
   "source": [
    "**Regression problem, is simple words, is predicting a number, so lets get going! :)**"
   ]
  },
  {
   "cell_type": "code",
   "execution_count": 3,
   "metadata": {},
   "outputs": [
    {
     "data": {
<<<<<<< HEAD
      "image/png": "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",
=======
      "image/png": "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",
>>>>>>> 95f2a42f4e29e797f3e65aaa3edb2b4926bbbb22
      "text/plain": [
       "<Figure size 432x288 with 1 Axes>"
      ]
     },
     "metadata": {
      "needs_background": "light"
     },
     "output_type": "display_data"
    }
   ],
   "source": [
    "# Lets create some data to fit\n",
    "X = np.array([number for number in range(0, 50)])\n",
    "rand = randint(0, 50) # -> Define a fixed random number that will multiply x\n",
    "Y = np.array([(number * rand) / np.cos(number/rand) for number in X])\n",
    "\n",
    "# Scater\n",
    "plt.scatter(X, Y);"
   ]
  },
  {
   "cell_type": "markdown",
   "metadata": {},
   "source": [
    "# Inputs and outputs shapes"
   ]
  },
  {
   "cell_type": "code",
   "execution_count": 34,
   "metadata": {},
   "outputs": [
    {
     "data": {
      "text/plain": [
       "()"
      ]
     },
     "execution_count": 34,
     "metadata": {},
     "output_type": "execute_result"
    }
   ],
   "source": [
    "# Input shape\n",
    "X[0].shape"
   ]
  },
  {
   "cell_type": "code",
   "execution_count": 35,
   "metadata": {},
   "outputs": [
    {
     "data": {
      "text/plain": [
       "()"
      ]
     },
     "execution_count": 35,
     "metadata": {},
     "output_type": "execute_result"
    }
   ],
   "source": [
    "# Output shape\n",
    "Y[0].shape"
   ]
  },
  {
   "cell_type": "markdown",
   "metadata": {},
   "source": [
    "**But hold ON! If you try to train the model with this, you will encounter problems, bexause tensorflow 2.7+ requires the data to have at least 2 dimensions, in your case the data has 1 dimension mathematicaly speaking, and 0 (\"tensorflowing\" speaking)**\n",
    "\n",
    "***lets fix the data dimensions***"
   ]
  },
  {
   "cell_type": "code",
   "execution_count": 4,
   "metadata": {},
   "outputs": [],
   "source": [
    "X = tf.expand_dims(X, axis=-1)\n",
    "Y = tf.expand_dims(Y, axis=-1)"
   ]
  },
  {
   "cell_type": "markdown",
   "metadata": {},
   "source": [
    "**This is odd, but correct, because the input is a scalar, with has 0 dimensions in tensor flow, and the output as 0 dimensions too**"
   ]
  },
  {
   "cell_type": "code",
   "execution_count": null,
   "metadata": {},
   "outputs": [],
   "source": [
    "# Let\"s build a model to fit this problem\n",
    "\n",
    "# Step 1: Create a model: Define the layers (input, hidden, output, and maybe others)\n",
    "\n",
    "# Set random seed\n",
    "tf.random.set_seed(32)\n",
    "\n",
    "# Model\n",
    "model = tf.keras.Sequential([ # -> Sequential API make the layers in the coded order\n",
    "    tf.keras.layers.Dense(1) # -> Just one layer (with 1 neuron)\n",
    "])\n",
    "\n",
    "# Step 2: Compile the model \n",
    "model.compile(\n",
    "    loss=tf.keras.losses.mae, # Mean Absolute Error\n",
    "    optimizer=tf.keras.optimizers.SGD(), # Stochastic Gradient Descent\n",
    "    metrics=[\"mae\"] # See how the model is going with this metric\n",
    ")\n",
    "\n",
    "## Define the loss function: The funciton that says how much the model is wrong;\n",
    "## Define the optimizer: The funcitons that says how your model can improve;\n",
    "## Dine eval metrics: The functions that can interpret the performance of your model;\n",
    "\n",
    "# Step 3: Fitting the model: Letting the model find the relations\n",
    "model.fit(X, Y, epochs=50) # -> How have 50 epochs to learn the patterns"
   ]
  },
  {
   "cell_type": "code",
   "execution_count": 37,
   "metadata": {},
   "outputs": [
    {
     "data": {
      "text/plain": [
       "(<tf.Tensor: shape=(50, 1), dtype=int32, numpy=\n",
       " array([[ 0],\n",
       "        [ 1],\n",
       "        [ 2],\n",
       "        [ 3],\n",
       "        [ 4],\n",
       "        [ 5],\n",
       "        [ 6],\n",
       "        [ 7],\n",
       "        [ 8],\n",
       "        [ 9],\n",
       "        [10],\n",
       "        [11],\n",
       "        [12],\n",
       "        [13],\n",
       "        [14],\n",
       "        [15],\n",
       "        [16],\n",
       "        [17],\n",
       "        [18],\n",
       "        [19],\n",
       "        [20],\n",
       "        [21],\n",
       "        [22],\n",
       "        [23],\n",
       "        [24],\n",
       "        [25],\n",
       "        [26],\n",
       "        [27],\n",
       "        [28],\n",
       "        [29],\n",
       "        [30],\n",
       "        [31],\n",
       "        [32],\n",
       "        [33],\n",
       "        [34],\n",
       "        [35],\n",
       "        [36],\n",
       "        [37],\n",
       "        [38],\n",
       "        [39],\n",
       "        [40],\n",
       "        [41],\n",
       "        [42],\n",
       "        [43],\n",
       "        [44],\n",
       "        [45],\n",
       "        [46],\n",
       "        [47],\n",
       "        [48],\n",
       "        [49]])>,\n",
       " <tf.Tensor: shape=(50, 1), dtype=float64, numpy=\n",
       " array([[   0.        ],\n",
       "        [  49.01020585],\n",
       "        [  98.08168936],\n",
       "        [ 147.27594117],\n",
       "        [ 196.65487946],\n",
       "        [ 246.2810675 ],\n",
       "        [ 296.21793588],\n",
       "        [ 346.53001097],\n",
       "        [ 397.28315137],\n",
       "        [ 448.54479416],\n",
       "        [ 500.38421284],\n",
       "        [ 552.87278909],\n",
       "        [ 606.08430059],\n",
       "        [ 660.09522742],\n",
       "        [ 714.98507964],\n",
       "        [ 770.83674931],\n",
       "        [ 827.73689002],\n",
       "        [ 885.77632791],\n",
       "        [ 945.0505084 ],\n",
       "        [1005.65998318],\n",
       "        [1067.71094318],\n",
       "        [1131.31580341],\n",
       "        [1196.59384673],\n",
       "        [1263.67193465],\n",
       "        [1332.6852942 ],\n",
       "        [1403.77839153],\n",
       "        [1477.10590437],\n",
       "        [1552.83380762],\n",
       "        [1631.14058829],\n",
       "        [1712.21860916],\n",
       "        [1796.27564329],\n",
       "        [1883.53660588],\n",
       "        [1974.24551422],\n",
       "        [2068.66771238],\n",
       "        [2167.09240379],\n",
       "        [2269.83554345],\n",
       "        [2377.24315127],\n",
       "        [2489.69512039],\n",
       "        [2607.60960979],\n",
       "        [2731.44812874],\n",
       "        [2861.72144459],\n",
       "        [2998.99647393],\n",
       "        [3143.90435438],\n",
       "        [3297.14994022],\n",
       "        [3459.52302447],\n",
       "        [3631.91166547],\n",
       "        [3815.31809376],\n",
       "        [4010.87780214],\n",
       "        [4219.88258812],\n",
       "        [4443.80853815]])>)"
      ]
     },
     "execution_count": 37,
     "metadata": {},
     "output_type": "execute_result"
    }
   ],
   "source": [
    "# Check out X and Y\n",
    "X, Y"
   ]
  },
  {
   "cell_type": "code",
   "execution_count": null,
   "metadata": {},
   "outputs": [],
   "source": [
    "# Predict ussing the model\n",
    "model.predict([12])"
   ]
  },
  {
   "cell_type": "markdown",
   "metadata": {},
   "source": [
    "**Okay, your predictions are a shit, how to improve them?**\n",
    "\n",
    "# Improving the model\n",
    "\n",
    "Options:\n",
    "\n",
    "* Add more layers to the model (or change number of neuros and activation functions)\n",
    "* Change the optimization function\n",
    "* Change the learning rate\n",
    "* Increase the number of epochs"
   ]
  },
  {
   "cell_type": "code",
   "execution_count": 39,
   "metadata": {},
   "outputs": [
    {
     "name": "stdout",
     "output_type": "stream",
     "text": [
      "Epoch 1/100\n",
      "2/2 [==============================] - 1s 3ms/step - loss: 1604.1711 - mae: 1604.1711\n",
      "Epoch 2/100\n",
      "2/2 [==============================] - 0s 3ms/step - loss: 1592.3237 - mae: 1592.3237\n",
      "Epoch 3/100\n",
      "2/2 [==============================] - 0s 3ms/step - loss: 1580.2606 - mae: 1580.2606\n",
      "Epoch 4/100\n",
      "2/2 [==============================] - 0s 4ms/step - loss: 1568.0056 - mae: 1568.0056\n",
      "Epoch 5/100\n",
      "2/2 [==============================] - 0s 4ms/step - loss: 1556.0637 - mae: 1556.0637\n",
      "Epoch 6/100\n",
      "2/2 [==============================] - 0s 3ms/step - loss: 1544.3168 - mae: 1544.3168\n",
      "Epoch 7/100\n",
      "2/2 [==============================] - 0s 6ms/step - loss: 1532.4261 - mae: 1532.4261\n",
      "Epoch 8/100\n",
      "2/2 [==============================] - 0s 6ms/step - loss: 1519.9888 - mae: 1519.9888\n",
      "Epoch 9/100\n",
      "2/2 [==============================] - 0s 3ms/step - loss: 1507.7484 - mae: 1507.7484\n",
      "Epoch 10/100\n",
      "2/2 [==============================] - 0s 5ms/step - loss: 1495.6614 - mae: 1495.6614\n",
      "Epoch 11/100\n",
      "2/2 [==============================] - 0s 5ms/step - loss: 1483.2822 - mae: 1483.2822\n",
      "Epoch 12/100\n",
      "2/2 [==============================] - 0s 2ms/step - loss: 1471.4922 - mae: 1471.4922\n",
      "Epoch 13/100\n",
      "2/2 [==============================] - 0s 4ms/step - loss: 1459.7122 - mae: 1459.7122\n",
      "Epoch 14/100\n",
      "2/2 [==============================] - 0s 5ms/step - loss: 1447.7505 - mae: 1447.7505\n",
      "Epoch 15/100\n",
      "2/2 [==============================] - 0s 2ms/step - loss: 1435.7446 - mae: 1435.7446\n",
      "Epoch 16/100\n",
      "2/2 [==============================] - 0s 8ms/step - loss: 1423.7488 - mae: 1423.7488\n",
      "Epoch 17/100\n",
      "2/2 [==============================] - 0s 6ms/step - loss: 1411.5173 - mae: 1411.5173\n",
      "Epoch 18/100\n",
      "2/2 [==============================] - 0s 4ms/step - loss: 1399.4414 - mae: 1399.4414\n",
      "Epoch 19/100\n",
      "2/2 [==============================] - 0s 4ms/step - loss: 1387.1431 - mae: 1387.1431\n",
      "Epoch 20/100\n",
      "2/2 [==============================] - 0s 3ms/step - loss: 1375.0607 - mae: 1375.0607\n",
      "Epoch 21/100\n",
      "2/2 [==============================] - 0s 5ms/step - loss: 1362.7981 - mae: 1362.7981\n",
      "Epoch 22/100\n",
      "2/2 [==============================] - 0s 6ms/step - loss: 1350.6257 - mae: 1350.6257\n",
      "Epoch 23/100\n",
      "2/2 [==============================] - 0s 6ms/step - loss: 1338.5010 - mae: 1338.5010\n",
      "Epoch 24/100\n",
      "2/2 [==============================] - 0s 5ms/step - loss: 1326.1073 - mae: 1326.1073\n",
      "Epoch 25/100\n",
      "2/2 [==============================] - 0s 3ms/step - loss: 1314.1715 - mae: 1314.1715\n",
      "Epoch 26/100\n",
      "2/2 [==============================] - 0s 3ms/step - loss: 1302.1890 - mae: 1302.1890\n",
      "Epoch 27/100\n",
      "2/2 [==============================] - 0s 5ms/step - loss: 1290.0402 - mae: 1290.0402\n",
      "Epoch 28/100\n",
      "2/2 [==============================] - 0s 4ms/step - loss: 1277.5806 - mae: 1277.5806\n",
      "Epoch 29/100\n",
      "2/2 [==============================] - 0s 5ms/step - loss: 1265.3870 - mae: 1265.3870\n",
      "Epoch 30/100\n",
      "2/2 [==============================] - 0s 5ms/step - loss: 1253.0769 - mae: 1253.0769\n",
      "Epoch 31/100\n",
      "2/2 [==============================] - 0s 4ms/step - loss: 1241.0472 - mae: 1241.0472\n",
      "Epoch 32/100\n",
      "2/2 [==============================] - 0s 4ms/step - loss: 1229.1757 - mae: 1229.1757\n",
      "Epoch 33/100\n",
      "2/2 [==============================] - 0s 10ms/step - loss: 1217.2133 - mae: 1217.2133\n",
      "Epoch 34/100\n",
      "2/2 [==============================] - 0s 6ms/step - loss: 1205.1484 - mae: 1205.1484\n",
      "Epoch 35/100\n",
      "2/2 [==============================] - 0s 3ms/step - loss: 1193.2998 - mae: 1193.2998\n",
      "Epoch 36/100\n",
      "2/2 [==============================] - 0s 5ms/step - loss: 1181.4805 - mae: 1181.4805\n",
      "Epoch 37/100\n",
      "2/2 [==============================] - 0s 5ms/step - loss: 1169.5364 - mae: 1169.5364\n",
      "Epoch 38/100\n",
      "2/2 [==============================] - 0s 4ms/step - loss: 1157.4232 - mae: 1157.4232\n",
      "Epoch 39/100\n",
      "2/2 [==============================] - 0s 4ms/step - loss: 1145.4285 - mae: 1145.4285\n",
      "Epoch 40/100\n",
      "2/2 [==============================] - 0s 7ms/step - loss: 1133.6949 - mae: 1133.6949\n",
      "Epoch 41/100\n",
      "2/2 [==============================] - 0s 4ms/step - loss: 1121.9092 - mae: 1121.9092\n",
      "Epoch 42/100\n",
      "2/2 [==============================] - 0s 5ms/step - loss: 1109.9805 - mae: 1109.9805\n",
      "Epoch 43/100\n",
      "2/2 [==============================] - 0s 9ms/step - loss: 1097.6589 - mae: 1097.6591\n",
      "Epoch 44/100\n",
      "2/2 [==============================] - 0s 9ms/step - loss: 1085.7467 - mae: 1085.7467\n",
      "Epoch 45/100\n",
      "2/2 [==============================] - 0s 6ms/step - loss: 1073.8547 - mae: 1073.8547\n",
      "Epoch 46/100\n",
      "2/2 [==============================] - 0s 6ms/step - loss: 1062.0865 - mae: 1062.0865\n",
      "Epoch 47/100\n",
      "2/2 [==============================] - 0s 4ms/step - loss: 1050.5842 - mae: 1050.5842\n",
      "Epoch 48/100\n",
      "2/2 [==============================] - 0s 4ms/step - loss: 1038.9257 - mae: 1038.9257\n",
      "Epoch 49/100\n",
      "2/2 [==============================] - 0s 4ms/step - loss: 1027.0063 - mae: 1027.0063\n",
      "Epoch 50/100\n",
      "2/2 [==============================] - 0s 8ms/step - loss: 1014.8481 - mae: 1014.8481\n",
      "Epoch 51/100\n",
      "2/2 [==============================] - 0s 8ms/step - loss: 1002.7844 - mae: 1002.7844\n",
      "Epoch 52/100\n",
      "2/2 [==============================] - 0s 7ms/step - loss: 990.8146 - mae: 990.8146\n",
      "Epoch 53/100\n",
      "2/2 [==============================] - 0s 6ms/step - loss: 978.9059 - mae: 978.9059\n",
      "Epoch 54/100\n",
      "2/2 [==============================] - 0s 6ms/step - loss: 966.6238 - mae: 966.6238\n",
      "Epoch 55/100\n",
      "2/2 [==============================] - 0s 4ms/step - loss: 954.4595 - mae: 954.4595\n",
      "Epoch 56/100\n",
      "2/2 [==============================] - 0s 3ms/step - loss: 942.1674 - mae: 942.1675\n",
      "Epoch 57/100\n",
      "2/2 [==============================] - 0s 6ms/step - loss: 929.8561 - mae: 929.8561\n",
      "Epoch 58/100\n",
      "2/2 [==============================] - 0s 5ms/step - loss: 917.9044 - mae: 917.9044\n",
      "Epoch 59/100\n",
      "2/2 [==============================] - 0s 4ms/step - loss: 906.3970 - mae: 906.3970\n",
      "Epoch 60/100\n",
      "2/2 [==============================] - 0s 4ms/step - loss: 894.7935 - mae: 894.7935\n",
      "Epoch 61/100\n",
      "2/2 [==============================] - 0s 5ms/step - loss: 882.8301 - mae: 882.8301\n",
      "Epoch 62/100\n",
      "2/2 [==============================] - 0s 6ms/step - loss: 870.7333 - mae: 870.7333\n",
      "Epoch 63/100\n",
      "2/2 [==============================] - 0s 4ms/step - loss: 858.6088 - mae: 858.6088\n",
      "Epoch 64/100\n",
      "2/2 [==============================] - 0s 6ms/step - loss: 846.6359 - mae: 846.6359\n",
      "Epoch 65/100\n",
      "2/2 [==============================] - 0s 3ms/step - loss: 834.8433 - mae: 834.8433\n",
      "Epoch 66/100\n",
      "2/2 [==============================] - 0s 4ms/step - loss: 822.9013 - mae: 822.9013\n",
      "Epoch 67/100\n",
      "2/2 [==============================] - 0s 5ms/step - loss: 810.9295 - mae: 810.9295\n",
      "Epoch 68/100\n",
      "2/2 [==============================] - 0s 3ms/step - loss: 799.2952 - mae: 799.2952\n",
      "Epoch 69/100\n",
      "2/2 [==============================] - 0s 4ms/step - loss: 787.5737 - mae: 787.5737\n",
      "Epoch 70/100\n",
      "2/2 [==============================] - 0s 4ms/step - loss: 775.5283 - mae: 775.5283\n",
      "Epoch 71/100\n",
      "2/2 [==============================] - 0s 4ms/step - loss: 763.3742 - mae: 763.3742\n",
      "Epoch 72/100\n",
      "2/2 [==============================] - 0s 5ms/step - loss: 750.9959 - mae: 750.9959\n",
      "Epoch 73/100\n",
      "2/2 [==============================] - 0s 3ms/step - loss: 738.8293 - mae: 738.8293\n",
      "Epoch 74/100\n",
      "2/2 [==============================] - 0s 5ms/step - loss: 726.8138 - mae: 726.8138\n",
      "Epoch 75/100\n",
      "2/2 [==============================] - 0s 4ms/step - loss: 714.7847 - mae: 714.7847\n",
      "Epoch 76/100\n",
      "2/2 [==============================] - 0s 3ms/step - loss: 702.9172 - mae: 702.9172\n",
      "Epoch 77/100\n",
      "2/2 [==============================] - 0s 5ms/step - loss: 690.7375 - mae: 690.7375\n",
      "Epoch 78/100\n",
      "2/2 [==============================] - 0s 4ms/step - loss: 678.5991 - mae: 678.5991\n",
      "Epoch 79/100\n",
      "2/2 [==============================] - 0s 4ms/step - loss: 666.7402 - mae: 666.7402\n",
      "Epoch 80/100\n",
      "2/2 [==============================] - 0s 3ms/step - loss: 654.8176 - mae: 654.8176\n",
      "Epoch 81/100\n",
      "2/2 [==============================] - 0s 3ms/step - loss: 643.0042 - mae: 643.0042\n",
      "Epoch 82/100\n",
      "2/2 [==============================] - 0s 3ms/step - loss: 630.8633 - mae: 630.8633\n",
      "Epoch 83/100\n",
      "2/2 [==============================] - 0s 3ms/step - loss: 618.0709 - mae: 618.0709\n",
      "Epoch 84/100\n",
      "2/2 [==============================] - 0s 5ms/step - loss: 606.0760 - mae: 606.0760\n",
      "Epoch 85/100\n",
      "2/2 [==============================] - 0s 4ms/step - loss: 594.3226 - mae: 594.3226\n",
      "Epoch 86/100\n",
      "2/2 [==============================] - 0s 4ms/step - loss: 582.4383 - mae: 582.4383\n",
      "Epoch 87/100\n",
      "2/2 [==============================] - 0s 5ms/step - loss: 570.5009 - mae: 570.5009\n",
      "Epoch 88/100\n",
      "2/2 [==============================] - 0s 5ms/step - loss: 558.5170 - mae: 558.5170\n",
      "Epoch 89/100\n",
      "2/2 [==============================] - 0s 5ms/step - loss: 546.5264 - mae: 546.5264\n",
      "Epoch 90/100\n",
      "2/2 [==============================] - 0s 5ms/step - loss: 534.3667 - mae: 534.3667\n",
      "Epoch 91/100\n",
      "2/2 [==============================] - 0s 5ms/step - loss: 522.1213 - mae: 522.1213\n",
      "Epoch 92/100\n",
      "2/2 [==============================] - 0s 6ms/step - loss: 510.2162 - mae: 510.2162\n",
      "Epoch 93/100\n",
      "2/2 [==============================] - 0s 5ms/step - loss: 498.3481 - mae: 498.3481\n",
      "Epoch 94/100\n",
      "2/2 [==============================] - 0s 6ms/step - loss: 486.6767 - mae: 486.6767\n",
      "Epoch 95/100\n",
      "2/2 [==============================] - 0s 3ms/step - loss: 474.7036 - mae: 474.7036\n",
      "Epoch 96/100\n",
      "2/2 [==============================] - 0s 3ms/step - loss: 462.2712 - mae: 462.2712\n",
      "Epoch 97/100\n",
      "2/2 [==============================] - 0s 9ms/step - loss: 450.1893 - mae: 450.1893\n",
      "Epoch 98/100\n",
      "2/2 [==============================] - 0s 9ms/step - loss: 438.2712 - mae: 438.2712\n",
      "Epoch 99/100\n",
      "2/2 [==============================] - 0s 3ms/step - loss: 426.4657 - mae: 426.4657\n",
      "Epoch 100/100\n",
      "2/2 [==============================] - 0s 6ms/step - loss: 415.6056 - mae: 415.6056\n"
     ]
    },
    {
     "data": {
      "text/plain": [
       "<keras.callbacks.History at 0x1e51879e220>"
      ]
     },
     "execution_count": 39,
     "metadata": {},
     "output_type": "execute_result"
    }
   ],
   "source": [
    "# Lets build a new model\n",
    "model = tf.keras.Sequential([\n",
    "    tf.keras.layers.Dense(1)\n",
    "])\n",
    "\n",
    "# Compile\n",
    "model.compile(loss=tf.keras.losses.mae,\n",
    "optimizer=tf.keras.optimizers.SGD(),\n",
    "metrics=[\"mae\"])\n",
    "\n",
    "# Fit\n",
    "model.fit(X, Y, epochs=100)"
   ]
  },
  {
   "cell_type": "markdown",
   "metadata": {},
   "source": [
    "# Evaluating a model performance\n",
    "\n",
    "**To evaluate a model, you want to visualize a lot**\n",
    "\n",
    "But what?\n",
    "\n",
    "Its good to visualize:\n",
    "1. How is the data that we are wotking on\n",
    "2. The model? How does our model look\n",
    "3. How the model is perfoming while learning\n",
    "4. The predictions? Where the model is missing?"
   ]
  },
  {
   "cell_type": "code",
   "execution_count": 5,
   "metadata": {},
   "outputs": [
    {
     "data": {
      "image/png": "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",
      "text/plain": [
       "<Figure size 432x288 with 1 Axes>"
      ]
     },
     "metadata": {
      "needs_background": "light"
     },
     "output_type": "display_data"
    }
   ],
   "source": [
    "# Look at the data!\n",
    "plt.scatter(X, Y);"
   ]
  },
  {
   "cell_type": "code",
   "execution_count": 6,
   "metadata": {},
   "outputs": [],
   "source": [
    "# Split X and Y\n",
    "xtr, xte, ytr, yte = train_test_split(np.array(X), np.array(Y), test_size=0.20)"
   ]
  },
  {
   "cell_type": "code",
   "execution_count": 7,
   "metadata": {},
   "outputs": [
    {
     "name": "stderr",
     "output_type": "stream",
     "text": [
<<<<<<< HEAD
      "C:\\Users\\pedro\\AppData\\Local\\Temp\\ipykernel_164\\541986225.py:10: FutureWarning: The frame.append method is deprecated and will be removed from pandas in a future version. Use pandas.concat instead.\n",
=======
      "C:\\Users\\PedroMiyasaki\\AppData\\Local\\Temp\\ipykernel_19172\\541986225.py:10: FutureWarning: The frame.append method is deprecated and will be removed from pandas in a future version. Use pandas.concat instead.\n",
>>>>>>> 95f2a42f4e29e797f3e65aaa3edb2b4926bbbb22
      "  data = d1.append(d2)\n"
     ]
    },
    {
     "data": {
      "text/plain": [
       "<AxesSubplot:xlabel='X', ylabel='Y'>"
      ]
     },
     "execution_count": 7,
     "metadata": {},
     "output_type": "execute_result"
    },
    {
     "data": {
<<<<<<< HEAD
      "image/png": "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",
=======
      "image/png": "iVBORw0KGgoAAAANSUhEUgAAAZEAAAEGCAYAAACkQqisAAAAOXRFWHRTb2Z0d2FyZQBNYXRwbG90bGliIHZlcnNpb24zLjUuMiwgaHR0cHM6Ly9tYXRwbG90bGliLm9yZy8qNh9FAAAACXBIWXMAAAsTAAALEwEAmpwYAAAyBklEQVR4nO3dd3xW9d3/8dcnyZW9N0mAhD0FIYKIEweg3o7aWrdWW2qrVTuo2nnX3r1ra2vVX6u9rVLtcCBqtRUV6rYiGhBlQ5hJWGFkkD2+vz+uQ0gIKFwmuTLez8cjj1znc9b3YMw753zP+R5zziEiIhKIkGA3QEREei6FiIiIBEwhIiIiAVOIiIhIwBQiIiISsLBgN6Crpaamutzc3GA3Q0SkR1myZMlu51zaofU+FyK5ubkUFBQEuxkiIj2KmW05XF2Xs0REJGAKERERCZhCREREAtbn+kQOp6GhgeLiYmpra4PdlE4VGRlJTk4OPp8v2E0RkV5CIQIUFxcTFxdHbm4uZhbs5nQK5xx79uyhuLiYvLy8YDdHRHoJhQhQW1vbqwMEwMxISUmhtLQ02E0RkS60vbyGFSXllFU3MCQ9ltFZ8YSHhXbY9hUint4cIAf0hWMUkYN2VtRy65PL+GDzXgDM4MErJzBzTL8O24c61kVEeqmV2ypaAgTAOfjvF1eyq6Lj+n8VIt3EY489xrZt24LdDBHpRSpqGtrVSivrqGlo6rB9KES6CYWIiHS0IemxhIa0vYx9wbgsMhMiO2wfCpFOVFVVxXnnnce4ceMYM2YMTz/9NEuWLOG0005j4sSJTJ8+ne3btzNv3jwKCgq48sorGT9+PDU1NcFuuoj0AiP7xTPnuhMYlBqNL9T40sQcbjtrGBHqWO8ZXnnlFbKysnjppZcAKC8vZ+bMmbzwwgukpaXx9NNP88Mf/pA5c+bw+9//nt/85jfk5+cHudUi0luEhhinDUvj2W9Mpbq+kfS4SHxhHXvuoBDpRGPHjuW73/0ut99+O+effz5JSUmsWLGCs88+G4Cmpib69eu4uyRERA4nKSacpJjwTtm2QqQTDRs2jKVLlzJ//nx+9KMfMW3aNEaPHs2iRYuC3TQRkQ6hPpFOtG3bNqKjo7nqqquYPXs2ixcvprS0tCVEGhoaWLlyJQBxcXFUVlYGs7kiIsdMZyKdaPny5cyePZuQkBB8Ph8PPfQQYWFh3HLLLZSXl9PY2Mhtt93G6NGjue6667jxxhuJiopi0aJFREVFBbv5IiKfyZxzwW5Dl8rPz3eHvpRq9erVjBw5Mkgt6lp96VhFpOOY2RLnXLs7f3Q5S0REAqYQERGRgHVaiJjZHDPbZWYrWtXuMbM1ZvaJmT1vZomt5t1pZoVmttbMpreqz/BqhWZ2R6t6npkt9upPm1nn3L8mIiJH1JlnIo8BMw6pLQTGOOeOA9YBdwKY2SjgMmC0t86DZhZqZqHAH4CZwCjgcm9ZgF8Bv3PODQH2ATd04rGIiMhhdFqIOOfeBvYeUlvgnGv0Jt8HcrzPFwJPOefqnHObgEJgkvdV6Jzb6JyrB54CLjT/mObTgHne+o8DF3XWsYiIyOEFs0/keuBl73M2UNRqXrFXO1I9BShrFUgH6odlZrPMrMDMCvRSJhGRjhOUEDGzHwKNwN+7Yn/OuYedc/nOufy0tLSu2OUxKSsr48EHHzzm9c4991zKyso6vkEiIkepy0PEzK4DzgeudAcfUikB+rdaLMerHam+B0g0s7BD6j3SkUKksbHxMEsfNH/+fBITEzupVSIin61Ln1g3sxnA94HTnHPVrWa9CDxhZvcCWcBQ4APAgKFmloc/JC4DrnDOOTN7A/gi/n6Sa4EXuuo4/vFRCfe8upZtZTVkJUYxe/pwLjr+iFfTPtMdd9zBhg0bGD9+PD6fj8jISJKSklizZg3r1q3joosuoqioiNraWm699VZmzZoFQG5uLgUFBezfv5+ZM2dy8skn895775Gdnc0LL7ygp95FpNN15i2+TwKLgOFmVmxmNwC/B+KAhWa2zMz+COCcWwnMBVYBrwA3OeeavD6Pm4FXgdXAXG9ZgNuB75hZIf4+kkc761ha+8dHJdz53HJKympwQElZDXc+t5x/fBT4idDdd9/N4MGDWbZsGffccw9Lly7l/vvvZ926dQDMmTOHJUuWUFBQwAMPPMCePXvabWP9+vXcdNNNrFy5ksTERJ599tmA2yMicrQ67UzEOXf5YcpH/EXvnPsF8IvD1OcD8w9T34j/7q0udc+ra9u9WrKmoYl7Xl37uc5GWps0aRJ5eXkt0w888ADPP/88AEVFRaxfv56UlJQ26+Tl5TF+/HgAJk6cyObNmzukLSIin0YDMB6jbWWHf+vgkeqBiImJafn85ptv8u9//5tFixYRHR3N6aefTm1tbbt1IiIiWj6Hhobq7Ygi0iU07Mkxyko8fD/DkepH49OGgS8vLycpKYno6GjWrFnD+++/H/B+REQ6mkLkGM2ePpwoX9v3E0f5Qpk9fXjA20xJSWHq1KmMGTOG2bNnt5k3Y8YMGhsbGTlyJHfccQcnnnhiwPsREeloGgqeYx8evaPvzupKGgpeRAJxpKHg1ScSgIuOz+4xoSEi0pl0OUtERAKmEBERkYApREREJGAKERERCZhCREREAqYQ6QYCHQoe4L777qO6uvqzFxQR6QQKkW5AISIiPZWeEwnEJ3PhtbugvBgScuDMn8Bxlwa8udZDwZ999tmkp6czd+5c6urquPjii/nZz35GVVUVl156KcXFxTQ1NfHjH/+YnTt3sm3bNs444wxSU1N54403OvAgRUQ+m0LkWH0yF/55CzR4AxyWF/mnIeAgufvuu1mxYgXLli1jwYIFzJs3jw8++ADnHBdccAFvv/02paWlZGVl8dJLL/l3W15OQkIC9957L2+88QapqakdcXQiIsdEl7OO1Wt3HQyQAxpq/PUOsGDBAhYsWMDxxx/PhAkTWLNmDevXr2fs2LEsXLiQ22+/nXfeeYeEhIQO2Z+IyOehM5FjVV58bPVj5Jzjzjvv5Otf/3q7eUuXLmX+/Pn86Ec/4swzz+QnP/lJh+xTRCRQOhM5Vgk5x1Y/Cq2Hgp8+fTpz5sxh//79AJSUlLBr1y62bdtGdHQ0V111FbNnz2bp0qXt1hWRvq2qrpGKmoYu3afORI7VmT9p2ycC4Ivy1wPUeij4mTNncsUVVzBlyhQAYmNj+dvf/kZhYSGzZ88mJCQEn8/HQw89BMCsWbOYMWMGWVlZ6lgX6aNqG5p4Z/1uHnhtPdX1TXzj9MGcPTKDhGhfp+9bQ8ETwPDoHXx3VlfSUPAivc97hbu54pHFbWoPXDaeC8Z33GjjGgq+Ix13aY8JDRHp/Ras3Nmu9th7m5k+OpOIQ16i19HUJyIi0sMlxbS/bJUSG0FoiHX6vjstRMxsjpntMrMVrWrJZrbQzNZ735O8upnZA2ZWaGafmNmEVutc6y2/3syubVWfaGbLvXUeMLPP9a/VFy7r9YVjFOmLzhqVQUz4wTOO0BDjqyfnERba+ecJnbmHx4AZh9TuAF5zzg0FXvOmAWYCQ72vWcBD4A8d4KfAZGAS8NMDweMt87VW6x26r6MWGRnJnj17evUvWecce/bsITIyMthNEZEONjorgWduPImf/Ncobp8xnHk3TiE/N7lL9t1pfSLOubfNLPeQ8oXA6d7nx4E3gdu9+l+c/7f4+2aWaGb9vGUXOuf2ApjZQmCGmb0JxDvn3vfqfwEuAl4OpK05OTkUFxdTWloayOo9RmRkJDk5gd+KLCLd16iseEZlxXf5fru6Yz3DObfd+7wDyPA+ZwNFrZYr9mqfVi8+TD0gPp+PvLy8QFcXEemzgtax7p11dMn1IzObZWYFZlbQ2882RES6UleHyE7vMhXe911evQTo32q5HK/2afWcw9QPyzn3sHMu3zmXn5aW9rkPQkRE/Lo6RF4EDtxhdS3wQqv6Nd5dWicC5d5lr1eBc8wsyetQPwd41ZtXYWYnendlXdNqWyIi0kU6rU/EzJ7E3zGeambF+O+yuhuYa2Y3AFuAA0/szQfOBQqBauArAM65vWb2c+BDb7m7DnSyA9/EfwdYFP4O9YA61UVEJHAa9kRERD7TkYY90RPrIiISMIWIiIgETCEiIiIBU4iIiEjAFCIiIhIwhYiIiARMISIiIgFTiIiISMAUIiIiEjCFiIiIBEwhIiIiAVOIiIhIwBQiIiISMIWIiIgErKvfsS4iIgGqa2jio6IyXlu9k+SYCE4flsbIrPigtkkhIiLSQ7xbuJsbHj/4PqQH3yjkmRunMKJf8IJEl7NERHqA/XUN3Pfv9W1qlXWNLN609whrdA2FiIhID9DU7Kiqa2xXr2loCkJrDlKIiIj0AAlR4Xz91EFtaqEhxuS85CC1yE99IiIiPcT0MZn4wkL48382kRIbwY2nDea4nMSgtkkhIiLSQyRGh/OFCTnMGJNJaIgRERYa7CYpREREepro8O7zqzsofSJm9m0zW2lmK8zsSTOLNLM8M1tsZoVm9rSZhXvLRnjThd783FbbudOrrzWz6cE4FhGRvqzLQ8TMsoFbgHzn3BggFLgM+BXwO+fcEGAfcIO3yg3APq/+O285zGyUt95oYAbwoJkF/9xORKQPCdbdWWFAlJmFAdHAdmAaMM+b/zhwkff5Qm8ab/6ZZmZe/SnnXJ1zbhNQCEzqmuaLiAgEIUSccyXAb4Ct+MOjHFgClDnnDtwEXQxke5+zgSJv3UZv+ZTW9cOs04aZzTKzAjMrKC0t7dgDEhHpw4JxOSsJ/1lEHpAFxOC/HNVpnHMPO+fynXP5aWlpnbkrEZE+JRiXs84CNjnnSp1zDcBzwFQg0bu8BZADlHifS4D+AN78BGBP6/ph1hERkS4QjBDZCpxoZtFe38aZwCrgDeCL3jLXAi94n1/0pvHmv+6cc179Mu/urTxgKPBBFx2DiIgQhOdEnHOLzWwesBRoBD4CHgZeAp4ys//xao96qzwK/NXMCoG9+O/Iwjm30szm4g+gRuAm51xwB5EREeljzP9Hfd+Rn5/vCgoKPntBERFpYWZLnHP5h9Y1AKOIiARMISIiIgFTiIiIdFO1DU00N3fvLofuM4qXiIgAULKvhpdXbOcfy0o4vn8iV0weyMggvgL30yhERES6kbrGJh54fR1Pf1gMwIqSCl5esYPnvnESA1Jigty69nQ5S0SkGyneW8MzBcVtarv317Nu5/4gtejTKURERLqRkBAjNMTa1cNC29e6A4WIiEg30j8pqt271IekxTI8Iy5ILfp06hMREelGwkJDuG5qHiP7JfDG2l2Mzorn9OHp9EuMCnbTDkshIiLSzaTGRnDecf0477h+wW7KZ9LlLBERCZhCREREAqYQERGRgClEREQkYAoREREJmEJEREQCdsQQMbP5ZpbbhW0REZEe5tPORP4MLDCzH5qZr6saJCIiPccRHzZ0zj1jZi8DPwYKzOyvQHOr+fd2QftERHqvvZtg/UIoWgyDp8Hg0yE+O9itOiaf9cR6PVAFRABxtAoRERH5HPaXwnNfg+IP/dMr5sG4K+C830J4dHDbdgyOGCJmNgO4F3gRmOCcq+6yVomI9Ha71x4MkAM+fgKm3ASZY4LTpgB82pnID4EvOedWdlVjRET6jOYjXNhxTV3bjs/piB3rzrlTOitAzCzRzOaZ2RozW21mU8ws2cwWmtl673uSt6yZ2QNmVmhmn5jZhFbbudZbfr2ZXdsZbRUR6RRpwyB1eNvasBmQNOjwy3dTwXpO5H7gFefcCGAcsBq4A3jNOTcUeM2bBpgJDPW+ZgEPAZhZMvBTYDIwCfjpgeAREen24jLhy3+FU74L2RPhrJ/BjF9BZPd8b8iRmHOua3dolgAsAwa5Vjs3s7XA6c657WbWD3jTOTfczP7P+/xk6+UOfDnnvu7V2yx3JPn5+a6goKDjD0xEJFBN9RAaHuxWfCozW+Kcyz+0HowzkTygFPizmX1kZo+YWQyQ4Zzb7i2zA8jwPmcDRa3WL/ZqR6q3Y2azzKzAzApKS0s78FBERDpANw+QTxOMEAkDJgAPOeeOx38L8R2tF/DOUDrsFMk597BzLt85l5+WltZRmxUR6fOCESLFQLFzbrE3PQ9/qOz0LmPhfd/lzS8B+rdaP8erHakuIiJdpMtDxDm3AygyswO3JZwJrML/PMqBO6yuBV7wPr8IXOPdpXUiUO5d9noVOMfMkrwO9XO8moiIdJFgvWP9W8DfzSwc2Ah8BX+gzTWzG4AtwKXesvOBc4FCoNpbFufcXjP7OXDgaZ27nHN7u+4QRESOQVMjNDeALyrYLelQXX53VrDp7iwR6XJFH8KiP8C+jTDxehhxLsSmB7tVx+RId2cF60xERKRv2LEcHj8fGmv90/+6FWrL4OTbgtmqDqOXUomIdKYdyw8GyAH/uQ8qth928Z5GISIi0pkO9wyILwpCQru+LZ1AISIi0pn6jYOY1La1aT/ucX0iR6I+ERGRzpQ6FK79F6xfAGVF/kEWB0wOdqs6jEJERKSzpY/0f/VCupwlIiIBU4iIiEjAdDlLRKSDlNfUs6m0CgfkpcaQGN1zR+c9WgoREZEOULS3ih8+v4K31+8GYMqgFO6+ZCwDU2KC3LLOpctZIiId4LXVu1oCBGDRxj28unJnEFvUNRQiIiId4M217V949/oahYiIiByFU4e1f+HdGcN7xwOFn0YhIiLSAc4amcHUISkt0yfkJjFjTGYQW9Q11LEuItIBBqRE84crJrCxtAqHY1BaLEm6O0tERI5WYnQ4Ewb2/uBoTSEiInKMtuypYmNpFdHhoQzLiCMppm8FR2sKERGRY7CsaB/XzPmAippGAKaPzuCuC8eQER8Z5JYFhzrWRUSOUlVdI796ZU1LgAC8unInnxSXB7FVwaUQERE5SpW1DawsqWhX31ZWE4TWdA8KERGRo5QcE85ZozLa1YekxwahNd1D0ELEzELN7CMz+5c3nWdmi82s0MyeNrNwrx7hTRd683NbbeNOr77WzKYH6VBEpI8IDwvlm6cPIX9gEgARYSHcMXMEY7MTgtyy4Almx/qtwGog3pv+FfA759xTZvZH4AbgIe/7PufcEDO7zFvuy2Y2CrgMGA1kAf82s2HOuaauPhAR6TuGpMcy57oTKNpXTZQvlIEpMYSGWLCbFTRBORMxsxzgPOARb9qAacA8b5HHgYu8zxd603jzz/SWvxB4yjlX55zbBBQCk7rkAESk19tWVsMTi7dw3ZwP+MMbhWws3d8yLz7Kx+isBAalxfbpAIHgnYncB3wfiPOmU4Ay59yBWx6KgWzvczZQBOCcazSzcm/5bOD9VttsvY6ISMBq6hu5d+E65i0pBuDNdaX88+MS/nL9ZNL76K28R9LlZyJmdj6wyzm3pAv3OcvMCsysoLS0/UibIiKtbdlbzbNLi9vU1uzYz/pd+4+wRt8VjMtZU4ELzGwz8BT+y1j3A4lmduDMKAco8T6XAP0BvPkJwJ7W9cOs04Zz7mHnXL5zLj8trf1ImyIibThw7rBlOUSXh4hz7k7nXI5zLhd/x/jrzrkrgTeAL3qLXQu84H1+0ZvGm/+6c8559cu8u7fygKHAB110GCLSiw1MieHi8VltakPSYhnah2/lPZLuNOzJ7cBTZvY/wEfAo179UeCvZlYI7MUfPDjnVprZXGAV0AjcpDuzRCQQJftqKK9pICM+gpTYCKLCQ5k9YwQTBiYxf/l2pgxO4byxWX12aJNPY+5w52y9WH5+visoKAh2M0SkG2hsaua11bu447lP2FfdwOC0GH735fEcl5MY7KZ1O2a2xDmXf2hdT6yLSJ9VuGs/33xiKfuqGwDYUFrFt59exp79dUFuWc+hEBGRPmvL3mqamttejdlQWsXOitogtajnUYiISJ+VGtv+PSCJ0T4Sovru+0GOlUJERPqG2nIo+hA2vgXl/qcBhmfEc+Npg1oWCQ0xfvmFsWQnRQWrlT1Od7o7S0Skc1TugAU/guXP+Kfjs+GKp4nNHMvNZwzlnFGZ7N5fx4Dk6D49Im8gFCIi0vsVf3gwQAAqSuDte+ALfyI2MoIJ3qi8cux0OUtEer/dhe1rWxdBTd99I2FH0ZmIiPQujfVQtgUsBBIHQmgYpI9sv9zgsyBKZyCfl85ERKT3KC+GV+6EByfDgyfCm7+E/bsgJx+m3OwPFoDMsTD1VgjzBbe9vYDORESk91jzEhQ84k00wTu/gfRRMPYSOPPHMO4KaKyBpDyISQlqU3sLnYmISO/Q1ADL57avr5vv/x4WCZmj/WclCpAOozMREelxnHOs21nJxtIq4qN8DM+MIzU2ArLzofiQsfEyxwWnkX2EQkREepz3NuzhK3/+kPqmZgDOHpXBLy4eQ/qEq2Hlc/5+EICkQTB8ZhBb2vspRESkR9lXVc9PXljREiAAC1ft5IpJA0gfMQauXwilq/2d6BmjISEniK3t/RQiItK9VWzzn1lEp0Bif6rqG9m0u6rdYnuqvJF3k3P9X9Il1LEuIt3XpnfgT2fAw6f5v9YvJDXGxzmjM9stmpcaE4QGikJERLqnfVth7tX+ca8AqvfA3GuIrNzC984ZzslD/HdYJUT5uPfScYzOSghiY/suXc4SkaCrb2xiY2kVZTUN5CRFkZMUDZUlULOv7YIN1VBWxJDBQ/i/q/LZVl5DdHiYRt0NIoWIiARVVV0jf31/C/e8upamZkdyTDh/umYiE6NT/M92NLZ6QVRIKMSmAxATGcbQyLggtVoO0OUsEQmqNTsquPvlNS1vGNxbVc/tz35CWfQAOP93B4cqMYMZd0PK0CC2Vg6lMxER6TrbP4ENr0NdJQw5E7Lz2VbW/lW0hbuq2F3VSOKYL/rHuSovhrh+kDYCwvTWwe5EISIiXWPHcnjsXH+AALz7W7jqObISx7dbdEh6DMkx4f7AyBzr/5JuqcsvZ5lZfzN7w8xWmdlKM7vVqyeb2UIzW+99T/LqZmYPmFmhmX1iZhNabetab/n1ZnZtVx+LiBxBxXbY+DZsfR+q9/prG944GCAAzsHbv2V0Wji3zxhOaIgBkBTt41eXHOcPEen2gnEm0gh81zm31MzigCVmthC4DnjNOXe3md0B3AHcDswEhnpfk4GHgMlmlgz8FMgHnLedF51z+9rtUUS6zq7V8OTlsG+Tf3rIOfBf97UNkANqy4kMhRtOzuOMEemUVzeQfeDuLOkRuvxMxDm33Tm31PtcCawGsoELgce9xR4HLvI+Xwj8xfm9DySaWT9gOrDQObfXC46FwIyuOxIRKa2s4+OiMjaW7qe52UFzE3z4yMEAAShcAJvf9feBmLXdwEk3Q0Qs4WGhjMiMZ/KgFAVIDxPUPhEzywWOBxYDGc657d6sHUCG9zkbKGq1WrFXO1L9cPuZBcwCGDBgQAe1XqRvW1FSzk1PLGXLnmoifSH89PzRfGFMHBGb3mq/8PZlMPpiuOp5eOdeqC2DKTfB0Old3WzpYEELETOLBZ4FbnPOVVirv1Ccc87MXEftyzn3MPAwQH5+fodtV6QvcM6xaXcVpfvryIyLZGBqDOU19fzg+U/YsqcagNqGZu58fjnjcqYyavh5sPu+thvpP8nfST74DBgwBZobISK26w9GOlxQQsTMfPgD5O/Ouee88k4z6+ec2+5drvLGcqYE6N9q9RyvVgKcfkj9zc5st0hf09TseHXlDr4792NqGpqICQ/l/suPZ2haLJ8UV7RbvnB3FaMmXA1Fi2HrIv/lqwnX+YPjAF9k1x2AdLpg3J1lwKPAaufcva1mvQgcuMPqWuCFVvVrvLu0TgTKvcterwLnmFmSdyfXOV5NRAKwq6KWN9fu4oVlJawoKaep2bFp936+/fQyahqaAKiqb+K2p5ZR29hE/+T2Q42kx0VCyhC4/Cn42uvw9Xdg+v9CXPsBE6V3CMaZyFTgamC5mS3zaj8A7gbmmtkNwBbgUm/efOBcoBCoBr4C4Jzba2Y/Bz70lrvLObe3S45ApIerb2oCB+FhoQDsrKjhe3M/4Z3C3QCEhhiPXpuPL8Soa2xus+7+ukbKaxr41SXHccNjBS0B89VT8hjZzxuGJCoRsid22fFI8HR5iDjn3gXsCLPPPMzyDrjpCNuaA8zpuNaJ9G51DU18sHkv//f2RuoamvjqKYOYOiSVldsqWgIE/JexfvLCCh68ciK+UKOh6WBXYnR4KGlxEeSlxvLSLSezdW81idE+hqTHERuh55f7Gv0XF+mlSspq2Fi6nyhfKEPSY0mMDuejojKufvSDlmU+3LyEP12TT2VtQ7v1i/fVkBAVxq+/eBy3z1tOfVMzEWEh/PbSceSm+N/dMSgtlkFp6iDvyxQiIj1cY1Mze6vriYvwERXuvzy1cls51/35Q0or/W/7mz46g19cNIZ/fbyt3fqP/WcTPzl/JGb+h8gPOG9sP9LjI7lgXDZjshLYVVlHZnwkeakx2KHPe0ifpVF8RXqwTbv3c9c/V3Hu/e9w49+W8HHRPuoam/h/rxe2BAjAqyt3sqKkgujDXG6KjggjNzWGB6+cQFpchH+w3DGZfOfsYUSEhRIaYgzNiGPqkFQGp8cSEqIAkYN0JiLSA2wrq+GDTXtZv7OScf0TmZibRGRYKD/75yreXFsKwFvrSvlo6z6e/cZJLN3SfvSfldvKOXdMPx77z2bqm/yd5SEG10/NJcIXxswx/Zg4IIma+iYyEiKI9OnXg3w2/ZSIdCOllXWs2VFBVV0jg9NiGZoR1/J+jXfWH+z4/vqpg/jixJyWADmgoraRXZW1nDkynSc/KGozb2RWPOP6J/DMjSeycNUu6hqbOGd0JuP7J7Yskx6vZzjk2ChERIJgb1UdG0qrMPyd08kx4Wwvq+G7z3zMexv2ABDpC+Gv10+m2bk2AQLwyLubmD4mk4iwkHa34BrGDSfnsWZ7JR8VlREaYsw6ZRDj+ydiZozrn8S4/klddajSyylERDpRaWUdW/dWExMeSl5qDBG+UDbvruI7c5exdGsZAPm5SfzmS+NYu72iJUDAP5TI3S+v4eZpg9ttt6nZER4awnfOHsYvX17TUp86OIVhGXGkxkXw56+cwNa91USEhZKXGt3yTIhIR1KIiHSAor3V7KyoJSU2gtyUaMyMNdsr+Obfl7BxdzUhBt88fTBfO2UQr6zc0RIgAAWb9/Ha6p2Eh7a/z2Xdzkqyk6JJj4tgV6uO8pMGpzAwOZoBk/ozsl88q7ZV0D85muMHJJIaFwFAYnQ4idF6J4d0LoWIyFGqb2xiY2kVe6vryU6MYqD3rMS7hbu5+YmllFU3EOUL5VeXjGXaiHR+s2AtG3f7ByhsdvD7NzZwzqgM3lq7q922315XyjdOb3/Gcd5x/chLjeGx60/gT29vpGDLPqaPzuSKyQOIi/IBcOqwNE4dltaJRy5yZAoRkUPt3+V/sVJDDaQNg+RB1NQ38vfFW/nly2toanbER4bx8NX5DEiJ4tYnP6Ks2v+wXk1DE9+Z+zHPfuMk/lO4p92m1+3az1mjMlm0se0IPWeMyOC47ET+9+Ix/HL+GirrGjl7ZAZfP3UQvtAQRvVL4NeXjGN/fSMJkT7dZivdhkJE+qw12ytYtb2CsJAQxmTH+5+8LiuC52+ELe/6F4pKgqufZ21jHv/z0uqWdStqG/nO3GX88eqJ7Kmqb7PdxmbH7v11TByYxLuFbTvEU2MjmJyXzDvrSnlznf/Oqmkj0jlzRDrREWFcMXkgpwxNo66xiazEKKLDD/4v6gsLISlMl6eke1GISO/RWAc1eyEyqWW48bLqehZt2MPLK7YzND2Oc8ZkMjwjjmVFZVz+8PstgwemxITzxNcmM7z0g4MBAlCzD97+LXUTf91ud9vKa2lsaiY+KoyKmsaWeohBv4Qobp8xgrWPfUjpfn9fxpWTBzA2J4GUmAgeuPx4Nu3x352VlxpDXKSvZf3+yXqzn/QcChHpUfzDk1dRWdtAdmLUwecadq6Ct34Nm96EgSfD6XdA5hieKSjmF/MPnEFs5y/vb+G5b5zE4+9tagkQgD1V9fyncA/DGwvb73TbUvqf0tSu3D85igHJMfz2S+O5+Yml1DU2Expi3HXBaIakxxAeFsoLN09l0+4qYiPCGJwe2zJAYXyUj3E5iR37jyMSBAoRCbqGpmZCzAhtdZ1/y54qVm6roLGpmeGZ8QzPjKO6vpG5BUX870trqG9qJicpioeunMDYhDp4+irYu8G/8pp/wvaPqbzqJe5/bX2bfZVW1lG0t5qNpVXt2rF+ZyUcd3z7Bo6+mOS0DO66cDQ//9cqGpocSdE+fvul8aTGRXDmiHTm33IK28prSIuLYFBqLOFh/jutshKjyEps/94Nkd5CISJdYs/+OraX1xIf6WNAiv9yTUVNA/8p3M1jizaTEh3OdVNzmTgwmc27q7h6zmK2ldUC/qHHn/jaiTQ1O/77xVUt2yzeV8OP/rGCeeeH4jsQIAeUb8VXvpnG5rYP4h3Y7xWTB/Bx8fI29bNHZ0B2fzjjR/D2r6GpHoacA/nXExkezhWTBjBlUErL3Vk5Sf7jCAkxBqfHMjhdo9lK36MQkYDU1DdR19jU5jmEfVX1LC8pZ2dFLdlJUYzJSiA+yseKknJue/ojCndVERcRxs8vGsO5YzN5c+0ubnlqWcv6C1btZN43pvDR1rKWAAGorm/ikXc2csmEnHbt+Li4nHrrh6/dHIiIiuPGUzO5r9XZSHxUGEMz4kiI8nHHzAYefLOQiLBQvnfOME4YmAxRPjjlOzD6Ymiqg8SBLe8CDwsNYWhG3Of/xxPpRRQickT7qurZULqfZucYnBZLSmwEzjkKtuzjgdfWs2VPNVdMHsCF47KIi/Jx37/X8fiiLS3rf++cYVw5eQB3PvcJhbv8l48q6xr59txlDM88hT++1fbsobHZ8Z/1e6iqb+RQhbv2kxzT/s6kwWkxNCUNhsk3wuI/Hpwx8StY2lCuPDGMfomRPP1hMSP7xXH5pP4tZww3njaYi8ZnExoCaXGtxowKCYXUIZ/nn06kz1CI9CVVu6Fyu/+21QT/X/VVdY0UbN7Hyyu2kxEfyfTRGYzKSmDrnmq+P+9j3t/kf55hbFYC918+npqGJq780+KWUWDvfnkNFTUNnD+uX5sAAbjv3+uZMjiF5SUVberOwe79dYcdhsMXZkzJSeHBN9sGzJdP6M+g1GhuPG0Qf3xrIwCxEWH88gtjiY9PgFNnw+BpsLsQUgZD9gQIjyUtHL58wgAumZBDaIi1ew9GZoIGHBT5PBQiPVhpZS11jc1kxEfi84bM2Flew7Lickr21TA0I5ZxOQnER4VDyVJ4bhbsWQ/RKXDB/4NhM3h9zU6+9eSylm3OeXcTz31zCu9t2NsSIADLt5Xzz4+3MSwjriVADvjzfzYzbUR6u/Y1NjsaGh2Z8ZHsqKhtMy/CF8LN04bw1ccLWmqRvhBOGpzKgORofnHxGO55dS019U189ZQ8zh2TSVxUOLdMG8q5Y/tRVt3AgJToljfsEZMKw6b7vw4j7DBDiojI56cQ6Sacc5RW1hEVHtrmmYGNpftZvb2CEDNG9osnNzWG2oYmFq7ayc//tYp91fVcdsIAZp06iNiIUH74jxX8e/XBYTW+P304N+YnEPLsDbDX/xc81Xtg7jXUf/Utfrug7VDilXWNbCytYtGGtg/JAby1bjcn5CW3q8dFhpEUHU5StI991Qdfs5qbGs2Q9FjuvmQss/6ypCV8vnJSLsMz4ogIC+HvX53Mvz7ZTnK0j+ljMhmTnQDAlZMHcuaIDJqam+mXENXyhHZ0RBjH6dZYkW5DIdJJ6hqbqK5vIjHK13IJpbahiXU7KikuqyEjPpLhmXHERoRRsq+aJz/YylMfFpGVEMXtM0dw4qAU1uyo4Io/Laa8xv+LOTU2nL9/9UTKaxr41pMftezrr+9vISYilOmjM9oECPgvKV2Tl07sgQA5oLkRK9tMQ1P7B9vKqhs4dVg6r6zc2aZ+9qgM+idF0z8piqJ9NS31H5w7ksHpsfz5Kydw1z9XsayojJMGp/KDc0eQGhfBqUPTeOmWk9myp4rkmAiGZcQS6wXl1CGpTB2Seth/Q11qEun+FCJHqbahiRCjzXX83ZV1rN9VSW1DM0PSY1ueNP6kuIwH39jAqu0VXDg+iy/l9ycnMYrnl5Zw5/MHbyv9ztnD+OopuTz23mb+9M4m/zb313PtnA946ZaTmbekuCVADsybv3w72Untnzt4pqCYacPbX1Kqb2qmLiye2MhEqC1rM88Xn8E3z0jnh8+vaKlFhIUwKjuB5GgfM8dk8vKKHQCcMjSVc8dm0j85msevn8QHm/ayvbyWyYOSW15qNL5/Eo9fP4mKmgYSY8KJ8YbsCPFer6o7m0R6nx4fImY2A7gfCAUecc7d3ZHbr6hp4O31pTzyzkZiInzceNogJuelsKuylu898zHvewPppcSE85cbJhHlC+WqRxZTUeu/w+j/vV5I0d5qbjtrKP/9z5Vttv27f69j2oh0/vb+1jb1xmbHtrJaVm1r2yENsHZnJRMHtn+hUP/kKNLiI9oNwXFCbjIRKbnwX/fDvK+A8/ozTv4OpI3gvOQIYiPC+OuiLWQlRnLtSXmMyYrHzLjni8fxzdOH0OwceakxxHujxg5Ki/WPM3UYcZG+NpfjRKR369EhYmahwB+As4Fi4EMze9E5t+rT1zx676wv5eYnDl46em/DbubOOpHifTUtAQL+YTP+7+2NnDs6syVADnjh421cOXlguzfQOec/w0mOCaekrKbNvIamZr44MYfFm9qO9vpf3tDgIzJjWbNjPwC+UOP2GSPIS43lr9dP5rcL1vJJSTnTR2XwtVMHExvlgxHnwdffhn1bIDYd0kdCRByJwIXjs5k5NpMwC2kzOmxspI+xOQmf559PRHq5Hh0iwCSg0Dm3EcDMngIuBDokRGobmnjk3U1tas7BwtW7DvvMwkdb93HhuKx29YiwEOIiw8iIj2BnxcEXC0WHh5IaF8GPzh/JN/62tKU+JC2Wkf3iifSF8O2zh/LQmxsINeNbZw5lyuAUkmMiePS6E1hZUkFVfRPDMmIZmRkPwLj+ifzx6olU1jaSHB2Ozxt+g1AfZI71fx1GeKjeeicix66nh0g2UNRquhiYfOhCZjYLmAUwYMCAo954iEFcRPt/otiIsJZf2q2dN7Yfo/rFMyY7nhWtno349lnDGJ4Zxx+vmsj3nvmYDaVVZCVE8usvjSM3JYZ+8ZHMu3EKK0rKSY6JYHz/hJb+lW+dMZRLJuRgZmQlRLZ00mcnRpOdePjRXqPDw9oMIS4i0ln6xG8a59zDwMMA+fn57mjXCw8LZdZpg3mncDfOWyvSF8IZw9PIToriW9OG8Me3NtDQ5Dh9eBqXnTCAfolRPHTlRD7YtJeNu6vIz01iwoBEzIzjByTxzI1T2F1ZT2K0r2UE2ghfKPm5yeTntr99NiTEWsZoEhHpbnp6iJQA/VtN53i1DjMpN5mnZ53Ia6t3ER0eyrQR6Yz1nlO45cyhXDQ+m/qmZgYkRRMT6f/n7J8cfcR3QiTHRJAcE9GRTRQRCZqeHiIfAkPNLA9/eFwGXNGROwgPC2FSXgqT8lLazfOFhmjkVhHp03p0iDjnGs3sZuBV/Lf4znHOrfyM1UREpIP06BABcM7NB+YHux0iIn2RRqUTEZGAKURERCRgChEREQmYQkRERAJmzh31s3e9gpmVAls+c8HDSwXav2ij99Nx9y067r7laI97oHMu7dBinwuRz8PMCpxz+cFuR1fTcfctOu6+5fMety5niYhIwBQiIiISMIXIsXk42A0IEh1336Lj7ls+13GrT0RERAKmMxEREQmYQkRERAKmEDkKZjbDzNaaWaGZ3RHs9nQmM5tjZrvMbEWrWrKZLTSz9d73pGC2sTOYWX8ze8PMVpnZSjO71av36mM3s0gz+8DMPvaO+2dePc/MFns/80+bWfv3QfcCZhZqZh+Z2b+86V5/3Ga22cyWm9kyMyvwagH/nCtEPoOZhQJ/AGYCo4DLzWxUcFvVqR4DZhxSuwN4zTk3FHjNm+5tGoHvOudGAScCN3n/nXv7sdcB05xz44DxwAwzOxH4FfA759wQYB9wQ/Ca2KluBVa3mu4rx32Gc258q+dDAv45V4h8tklAoXNuo3OuHngKuDDIbeo0zrm3gb2HlC8EHvc+Pw5c1JVt6grOue3OuaXe50r8v1iy6eXH7vz2e5M+78sB04B5Xr3XHTeAmeUA5wGPeNNGHzjuIwj451wh8tmygaJW08VerS/JcM5t9z7vADKC2ZjOZma5wPHAYvrAsXuXdJYBu4CFwAagzDnX6C3SW3/m7wO+DzR70yn0jeN2wAIzW2Jms7xawD/nPf6lVNK1nHPOzHrtfeFmFgs8C9zmnKvw/3Hq11uP3TnXBIw3s0TgeWBEcFvU+czsfGCXc26JmZ0e5OZ0tZOdcyVmlg4sNLM1rWce68+5zkQ+WwnQv9V0jlfrS3aaWT8A7/uuILenU5iZD3+A/N0595xX7hPHDuCcKwPeAKYAiWZ24I/M3vgzPxW4wMw2479EPQ24n95/3DjnSrzvu/D/0TCJz/FzrhD5bB8CQ727NsKBy4AXg9ymrvYicK33+VrghSC2pVN418MfBVY75+5tNatXH7uZpXlnIJhZFHA2/v6gN4Aveov1uuN2zt3pnMtxzuXi/3/6defclfTy4zazGDOLO/AZOAdYwef4OdcT60fBzM7Ff/00FJjjnPtFcFvUeczsSeB0/MND7wR+CvwDmAsMwD+M/qXOuUM733s0MzsZeAdYzsFr5D/A3y/Sa4/dzI7D35Eaiv+PyrnOubvMbBD+v9CTgY+Aq5xzdcFraefxLmd9zzl3fm8/bu/4nvcmw4AnnHO/MLMUAvw5V4iIiEjAdDlLREQCphAREZGAKURERCRgChEREQmYQkRERAKmEBEJIm/04E1mluxNJ3nTuUFumshRUYiIBJFzrgh4CLjbK90NPOyc2xy0RokcAz0nIhJk3nArS4A5wNeA8c65huC2SuToaABGkSBzzjWY2WzgFeAcBYj0JLqcJdI9zAS2A2OC3RCRY6EQEQkyMxuPf+DDE4FvHxhNVaQnUIiIBJE3evBD+N9fshW4B/hNcFslcvQUIiLB9TVgq3NuoTf9IDDSzE4LYptEjpruzhIRkYDpTERERAKmEBERkYApREREJGAKERERCZhCREREAqYQERGRgClEREQkYP8fKX9HttZkqwMAAAAASUVORK5CYII=",
>>>>>>> 95f2a42f4e29e797f3e65aaa3edb2b4926bbbb22
      "text/plain": [
       "<Figure size 432x288 with 1 Axes>"
      ]
     },
     "metadata": {
      "needs_background": "light"
     },
     "output_type": "display_data"
    }
   ],
   "source": [
    "# Plot train and test data together\n",
    "d1 = pd.DataFrame(xtr, columns=[\"X\"])\n",
    "d1[\"Y\"] = ytr\n",
    "d1[\"set\"] = \"train\"\n",
    "\n",
    "d2 = pd.DataFrame(xte, columns=[\"X\"])\n",
    "d2[\"Y\"] = yte\n",
    "d2[\"set\"] = \"test\"\n",
    "\n",
    "data = d1.append(d2)\n",
    "sns.scatterplot(data=data, x=\"X\", y=\"Y\", hue=\"set\")"
   ]
  },
  {
   "cell_type": "code",
   "execution_count": 6,
   "metadata": {},
   "outputs": [
    {
     "name": "stdout",
     "output_type": "stream",
     "text": [
      "Epoch 1/100\n",
      "2/2 [==============================] - 1s 5ms/step - loss: 2030.0071 - mae: 2030.0071\n",
      "Epoch 2/100\n",
      "2/2 [==============================] - 0s 2ms/step - loss: 1965.4026 - mae: 1965.4026\n",
      "Epoch 3/100\n",
      "2/2 [==============================] - 0s 3ms/step - loss: 1840.1746 - mae: 1840.1746\n",
      "Epoch 4/100\n",
      "2/2 [==============================] - 0s 5ms/step - loss: 1545.3531 - mae: 1545.3531\n",
      "Epoch 5/100\n",
      "2/2 [==============================] - 0s 18ms/step - loss: 1078.1967 - mae: 1078.1967\n",
      "Epoch 6/100\n",
      "2/2 [==============================] - 0s 15ms/step - loss: 1051.8673 - mae: 1051.8673\n",
      "Epoch 7/100\n",
      "2/2 [==============================] - 0s 4ms/step - loss: 1057.5474 - mae: 1057.5474\n",
      "Epoch 8/100\n",
      "2/2 [==============================] - 0s 4ms/step - loss: 1055.3973 - mae: 1055.3973\n",
      "Epoch 9/100\n",
      "2/2 [==============================] - 0s 4ms/step - loss: 1060.8726 - mae: 1060.8726\n",
      "Epoch 10/100\n",
      "2/2 [==============================] - 0s 8ms/step - loss: 1085.7494 - mae: 1085.7494\n",
      "Epoch 11/100\n",
      "2/2 [==============================] - 0s 3ms/step - loss: 1061.0208 - mae: 1061.0208\n",
      "Epoch 12/100\n",
      "2/2 [==============================] - 0s 3ms/step - loss: 1111.7427 - mae: 1111.7427\n",
      "Epoch 13/100\n",
      "2/2 [==============================] - 0s 4ms/step - loss: 1098.7423 - mae: 1098.7423\n",
      "Epoch 14/100\n",
      "2/2 [==============================] - 0s 3ms/step - loss: 1055.0670 - mae: 1055.0670\n",
      "Epoch 15/100\n",
      "2/2 [==============================] - 0s 3ms/step - loss: 1065.3152 - mae: 1065.3152\n",
      "Epoch 16/100\n",
      "2/2 [==============================] - 0s 3ms/step - loss: 1052.7869 - mae: 1052.7869\n",
      "Epoch 17/100\n",
      "2/2 [==============================] - 0s 4ms/step - loss: 1052.9615 - mae: 1052.9615\n",
      "Epoch 18/100\n",
      "2/2 [==============================] - 0s 3ms/step - loss: 1051.3217 - mae: 1051.3217\n",
      "Epoch 19/100\n",
      "2/2 [==============================] - 0s 5ms/step - loss: 1069.3639 - mae: 1069.3639\n",
      "Epoch 20/100\n",
      "2/2 [==============================] - 0s 4ms/step - loss: 1078.8478 - mae: 1078.8478\n",
      "Epoch 21/100\n",
      "2/2 [==============================] - 0s 4ms/step - loss: 1082.0745 - mae: 1082.0745\n",
      "Epoch 22/100\n",
      "2/2 [==============================] - 0s 5ms/step - loss: 1073.4255 - mae: 1073.4255\n",
      "Epoch 23/100\n",
      "2/2 [==============================] - 0s 5ms/step - loss: 1054.3871 - mae: 1054.3871\n",
      "Epoch 24/100\n",
      "2/2 [==============================] - 0s 3ms/step - loss: 1087.2795 - mae: 1087.2795\n",
      "Epoch 25/100\n",
      "2/2 [==============================] - 0s 4ms/step - loss: 1050.2012 - mae: 1050.2012\n",
      "Epoch 26/100\n",
      "2/2 [==============================] - 0s 3ms/step - loss: 1048.7156 - mae: 1048.7156\n",
      "Epoch 27/100\n",
      "2/2 [==============================] - 0s 6ms/step - loss: 1052.1527 - mae: 1052.1527\n",
      "Epoch 28/100\n",
      "2/2 [==============================] - 0s 4ms/step - loss: 1066.5526 - mae: 1066.5526\n",
      "Epoch 29/100\n",
      "2/2 [==============================] - 0s 5ms/step - loss: 1051.8138 - mae: 1051.8138\n",
      "Epoch 30/100\n",
      "2/2 [==============================] - 0s 5ms/step - loss: 1063.6960 - mae: 1063.6960\n",
      "Epoch 31/100\n",
      "2/2 [==============================] - 0s 4ms/step - loss: 1068.2321 - mae: 1068.2321\n",
      "Epoch 32/100\n",
      "2/2 [==============================] - 0s 4ms/step - loss: 1053.2545 - mae: 1053.2545\n",
      "Epoch 33/100\n",
      "2/2 [==============================] - 0s 3ms/step - loss: 1048.8938 - mae: 1048.8938\n",
      "Epoch 34/100\n",
      "2/2 [==============================] - 0s 3ms/step - loss: 1051.0789 - mae: 1051.0789\n",
      "Epoch 35/100\n",
      "2/2 [==============================] - 0s 4ms/step - loss: 1053.1830 - mae: 1053.1830\n",
      "Epoch 36/100\n",
      "2/2 [==============================] - 0s 4ms/step - loss: 1054.7668 - mae: 1054.7668\n",
      "Epoch 37/100\n",
      "2/2 [==============================] - 0s 4ms/step - loss: 1053.8196 - mae: 1053.8196\n",
      "Epoch 38/100\n",
      "2/2 [==============================] - 0s 4ms/step - loss: 1052.0089 - mae: 1052.0089\n",
      "Epoch 39/100\n",
      "2/2 [==============================] - 0s 5ms/step - loss: 1064.8618 - mae: 1064.8618\n",
      "Epoch 40/100\n",
      "2/2 [==============================] - 0s 8ms/step - loss: 1055.3442 - mae: 1055.3442\n",
      "Epoch 41/100\n",
      "2/2 [==============================] - 0s 4ms/step - loss: 1055.3163 - mae: 1055.3163\n",
      "Epoch 42/100\n",
      "2/2 [==============================] - 0s 3ms/step - loss: 1095.3005 - mae: 1095.3005\n",
      "Epoch 43/100\n",
      "2/2 [==============================] - 0s 4ms/step - loss: 1079.3323 - mae: 1079.3323\n",
      "Epoch 44/100\n",
      "2/2 [==============================] - 0s 3ms/step - loss: 1053.7170 - mae: 1053.7170\n",
      "Epoch 45/100\n",
      "2/2 [==============================] - 0s 4ms/step - loss: 1048.4612 - mae: 1048.4612\n",
      "Epoch 46/100\n",
      "2/2 [==============================] - 0s 4ms/step - loss: 1050.4568 - mae: 1050.4568\n",
      "Epoch 47/100\n",
      "2/2 [==============================] - 0s 3ms/step - loss: 1055.4276 - mae: 1055.4276\n",
      "Epoch 48/100\n",
      "2/2 [==============================] - 0s 4ms/step - loss: 1053.9182 - mae: 1053.9182\n",
      "Epoch 49/100\n",
      "2/2 [==============================] - 0s 6ms/step - loss: 1085.0923 - mae: 1085.0923\n",
      "Epoch 50/100\n",
      "2/2 [==============================] - 0s 3ms/step - loss: 1105.0699 - mae: 1105.0699\n",
      "Epoch 51/100\n",
      "2/2 [==============================] - 0s 3ms/step - loss: 1053.0084 - mae: 1053.0084\n",
      "Epoch 52/100\n",
      "2/2 [==============================] - 0s 5ms/step - loss: 1053.5256 - mae: 1053.5256\n",
      "Epoch 53/100\n",
      "2/2 [==============================] - 0s 4ms/step - loss: 1043.4082 - mae: 1043.4082\n",
      "Epoch 54/100\n",
      "2/2 [==============================] - 0s 3ms/step - loss: 1065.7521 - mae: 1065.7521\n",
      "Epoch 55/100\n",
      "2/2 [==============================] - 0s 4ms/step - loss: 1100.8875 - mae: 1100.8875\n",
      "Epoch 56/100\n",
      "2/2 [==============================] - 0s 3ms/step - loss: 1043.3284 - mae: 1043.3284\n",
      "Epoch 57/100\n",
      "2/2 [==============================] - 0s 3ms/step - loss: 1056.5497 - mae: 1056.5497\n",
      "Epoch 58/100\n",
      "2/2 [==============================] - 0s 7ms/step - loss: 1062.8807 - mae: 1062.8807\n",
      "Epoch 59/100\n",
      "2/2 [==============================] - 0s 5ms/step - loss: 1083.8926 - mae: 1083.8926\n",
      "Epoch 60/100\n",
      "2/2 [==============================] - 0s 3ms/step - loss: 1074.9813 - mae: 1074.9813\n",
      "Epoch 61/100\n",
      "2/2 [==============================] - 0s 5ms/step - loss: 1064.3679 - mae: 1064.3679\n",
      "Epoch 62/100\n",
      "2/2 [==============================] - 0s 4ms/step - loss: 1040.6735 - mae: 1040.6735\n",
      "Epoch 63/100\n",
      "2/2 [==============================] - 0s 4ms/step - loss: 1069.4604 - mae: 1069.4604\n",
      "Epoch 64/100\n",
      "2/2 [==============================] - 0s 3ms/step - loss: 1106.2600 - mae: 1106.2600\n",
      "Epoch 65/100\n",
      "2/2 [==============================] - 0s 4ms/step - loss: 1110.7853 - mae: 1110.7853\n",
      "Epoch 66/100\n",
      "2/2 [==============================] - 0s 3ms/step - loss: 1048.6124 - mae: 1048.6124\n",
      "Epoch 67/100\n",
      "2/2 [==============================] - 0s 3ms/step - loss: 1062.7380 - mae: 1062.7380\n",
      "Epoch 68/100\n",
      "2/2 [==============================] - 0s 3ms/step - loss: 1124.6702 - mae: 1124.6702\n",
      "Epoch 69/100\n",
      "2/2 [==============================] - 0s 4ms/step - loss: 1133.4943 - mae: 1133.4943\n",
      "Epoch 70/100\n",
      "2/2 [==============================] - 0s 7ms/step - loss: 1052.3461 - mae: 1052.3461\n",
      "Epoch 71/100\n",
      "2/2 [==============================] - 0s 4ms/step - loss: 1049.6403 - mae: 1049.6403\n",
      "Epoch 72/100\n",
      "2/2 [==============================] - 0s 4ms/step - loss: 1039.9546 - mae: 1039.9546\n",
      "Epoch 73/100\n",
      "2/2 [==============================] - 0s 4ms/step - loss: 1060.7401 - mae: 1060.7401\n",
      "Epoch 74/100\n",
      "2/2 [==============================] - 0s 3ms/step - loss: 1067.7151 - mae: 1067.7151\n",
      "Epoch 75/100\n",
      "2/2 [==============================] - 0s 4ms/step - loss: 1052.2931 - mae: 1052.2931\n",
      "Epoch 76/100\n",
      "2/2 [==============================] - 0s 4ms/step - loss: 1159.5328 - mae: 1159.5328\n",
      "Epoch 77/100\n",
      "2/2 [==============================] - 0s 3ms/step - loss: 1123.8151 - mae: 1123.8151\n",
      "Epoch 78/100\n",
      "2/2 [==============================] - 0s 3ms/step - loss: 1079.8895 - mae: 1079.8895\n",
      "Epoch 79/100\n",
      "2/2 [==============================] - 0s 4ms/step - loss: 1059.3505 - mae: 1059.3505\n",
      "Epoch 80/100\n",
      "2/2 [==============================] - 0s 4ms/step - loss: 1081.0198 - mae: 1081.0198\n",
      "Epoch 81/100\n",
      "2/2 [==============================] - 0s 4ms/step - loss: 1067.5564 - mae: 1067.5564\n",
      "Epoch 82/100\n",
      "2/2 [==============================] - 0s 5ms/step - loss: 1065.1211 - mae: 1065.1211\n",
      "Epoch 83/100\n",
      "2/2 [==============================] - 0s 4ms/step - loss: 1067.5835 - mae: 1067.5835\n",
      "Epoch 84/100\n",
      "2/2 [==============================] - 0s 3ms/step - loss: 1043.6633 - mae: 1043.6633\n",
      "Epoch 85/100\n",
      "2/2 [==============================] - 0s 3ms/step - loss: 1043.0018 - mae: 1043.0018\n",
      "Epoch 86/100\n",
      "2/2 [==============================] - 0s 4ms/step - loss: 1053.1238 - mae: 1053.1238\n",
      "Epoch 87/100\n",
      "2/2 [==============================] - 0s 3ms/step - loss: 1038.9135 - mae: 1038.9135\n",
      "Epoch 88/100\n",
      "2/2 [==============================] - 0s 3ms/step - loss: 1042.9794 - mae: 1042.9794\n",
      "Epoch 89/100\n",
      "2/2 [==============================] - 0s 4ms/step - loss: 1088.2456 - mae: 1088.2456\n",
      "Epoch 90/100\n",
      "2/2 [==============================] - 0s 4ms/step - loss: 1047.0846 - mae: 1047.0846\n",
      "Epoch 91/100\n",
      "2/2 [==============================] - 0s 4ms/step - loss: 1061.9381 - mae: 1061.9381\n",
      "Epoch 92/100\n",
      "2/2 [==============================] - 0s 4ms/step - loss: 1047.6066 - mae: 1047.6066\n",
      "Epoch 93/100\n",
      "2/2 [==============================] - 0s 3ms/step - loss: 1039.2533 - mae: 1039.2533\n",
      "Epoch 94/100\n",
      "2/2 [==============================] - 0s 4ms/step - loss: 1061.8324 - mae: 1061.8324\n",
      "Epoch 95/100\n",
      "2/2 [==============================] - 0s 4ms/step - loss: 1057.9768 - mae: 1057.9768\n",
      "Epoch 96/100\n",
      "2/2 [==============================] - 0s 5ms/step - loss: 1044.7487 - mae: 1044.7487\n",
      "Epoch 97/100\n",
      "2/2 [==============================] - 0s 3ms/step - loss: 1034.1292 - mae: 1034.1292\n",
      "Epoch 98/100\n",
      "2/2 [==============================] - 0s 4ms/step - loss: 1040.6012 - mae: 1040.6012\n",
      "Epoch 99/100\n",
      "2/2 [==============================] - 0s 5ms/step - loss: 1042.7189 - mae: 1042.7189\n",
      "Epoch 100/100\n",
      "2/2 [==============================] - 0s 4ms/step - loss: 1045.1129 - mae: 1045.1129\n"
     ]
    },
    {
     "data": {
      "text/plain": [
       "<keras.callbacks.History at 0x1d232628cd0>"
      ]
     },
     "execution_count": 6,
     "metadata": {},
     "output_type": "execute_result"
    }
   ],
   "source": [
    "# Lets build a new NN\n",
    "model = tf.keras.Sequential([\n",
    "    tf.keras.layers.Dense(10, input_shape=[1], name=\"input_layer\"),\n",
    "    tf.keras.layers.Dense(1, name=\"output_layer\"),\n",
    "])\n",
    "\n",
    "# Compile the model\n",
    "model.compile(loss=tf.keras.losses.mae,\n",
    "    optimizer=tf.keras.optimizers.SGD(),\n",
    "    metrics=[\"mae\"]\n",
    ")\n",
    "\n",
    "# Fit\n",
    "model.fit(xtr, ytr, epochs=100)"
   ]
  },
  {
<<<<<<< HEAD
   "cell_type": "code",
   "execution_count": 8,
   "metadata": {},
   "outputs": [],
   "source": [
    "# # I want to see the summary of the model but tensorflow says that i need to build it first, so lets build the model\n",
    "# model = tf.keras.Sequential([\n",
    "#     tf.keras.layers.Dense(1, input_shape=[1]) # Input shape is one, vector\n",
    "# ])\n",
    "\n",
    "# # Compile the model\n",
    "# model.compile(loss=tf.keras.losses.mae,\n",
    "#     optimizer=tf.keras.optimizers.SGD(),\n",
    "#     metrics=[\"mae\"])\n",
    "\n",
    "# model.summary() # IT WORKS!"
   ]
  },
  {
=======
>>>>>>> 95f2a42f4e29e797f3e65aaa3edb2b4926bbbb22
   "cell_type": "markdown",
   "metadata": {},
   "source": [
    "Summary returns:\n",
    "- The output shape\n",
    "- The layers and its types\n",
    "- Trainable parameters: Number of parameters that the model can change while training\n",
    "- Total parameters: Total number of parameters\n",
    "- Non-trainable parameters: Freezed parameters, the model will not change these (normal when ussing pre saved models)\n",
    "\n",
    "What are this parameters?\n",
    "- Bias\n",
    "- Weights\n",
    "\n",
    "Learn more her: https://www.youtube.com/watch?v=7sB052Pz0sQ&ab_channel=AlexanderAmini"
   ]
  },
  {
   "cell_type": "code",
   "execution_count": 7,
   "metadata": {},
   "outputs": [
    {
     "name": "stdout",
     "output_type": "stream",
     "text": [
      "1/1 [==============================] - 0s 147ms/step\n"
     ]
    },
    {
     "data": {
      "text/plain": [
       "array([[1751.536  ],\n",
       "       [2078.1362 ],\n",
       "       [2023.7028 ],\n",
       "       [2404.7363 ],\n",
       "       [ 880.602  ],\n",
       "       [1914.8362 ],\n",
       "       [2350.303  ],\n",
       "       [1805.9694 ],\n",
       "       [1043.9022 ],\n",
       "       [ 390.70184]], dtype=float32)"
      ]
     },
     "execution_count": 7,
     "metadata": {},
     "output_type": "execute_result"
    }
   ],
   "source": [
    "# See model predicitions\n",
    "y_pred = model.predict(xte)\n",
    "y_pred"
   ]
  },
  {
   "cell_type": "code",
   "execution_count": 8,
   "metadata": {},
   "outputs": [],
   "source": [
    "# Okay but how to see it better?\n",
    "def plot_predictions(train_data=xtr, train_labels=ytr, test_data=xte, test_labels=yte, yhat=y_pred):\n",
    "    \"\"\"\n",
    "    Plots the predictions of a model, togheter with the original labels\n",
    "    \"\"\"\n",
    "    \n",
    "    plt.figure(figsize=(10, 7))\n",
    "\n",
    "    plt.scatter(train_data, train_labels, c=\"b\", label=\"Training Data\")\n",
    "    plt.scatter(test_data, test_labels, c=\"g\", label=\"Testing Data\")\n",
    "\n",
    "    plt.scatter(test_data, yhat, c=\"r\", label=\"Predicitons\")\n",
    "\n",
    "    plt.legend();\n"
   ]
  },
  {
   "cell_type": "code",
   "execution_count": 9,
   "metadata": {},
   "outputs": [
    {
     "data": {
      "image/png": "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",
      "text/plain": [
       "<Figure size 720x504 with 1 Axes>"
      ]
     },
     "metadata": {
      "needs_background": "light"
     },
     "output_type": "display_data"
    }
   ],
   "source": [
    "plot_predictions()"
   ]
  },
  {
   "cell_type": "code",
   "execution_count": null,
   "metadata": {},
   "outputs": [],
   "source": []
  }
 ],
 "metadata": {
  "kernelspec": {
<<<<<<< HEAD
   "display_name": "Python 3.9.12 ('kaggle')",
=======
   "display_name": "Python 3.10.4 ('kaggle')",
>>>>>>> 95f2a42f4e29e797f3e65aaa3edb2b4926bbbb22
   "language": "python",
   "name": "python3"
  },
  "language_info": {
   "codemirror_mode": {
    "name": "ipython",
    "version": 3
   },
   "file_extension": ".py",
   "mimetype": "text/x-python",
   "name": "python",
   "nbconvert_exporter": "python",
   "pygments_lexer": "ipython3",
   "version": "3.10.4"
  },
  "orig_nbformat": 4,
  "vscode": {
   "interpreter": {
<<<<<<< HEAD
    "hash": "baf1db779f0cdc1ce48b1fe9bcd8ead02e6c1caf4dfdb394510f91c1920b3eb5"
=======
    "hash": "64ec81502f1b4f55a174b213be07bb5c8a0404532c233482441ec35e791eb73d"
>>>>>>> 95f2a42f4e29e797f3e65aaa3edb2b4926bbbb22
   }
  }
 },
 "nbformat": 4,
 "nbformat_minor": 2
}
